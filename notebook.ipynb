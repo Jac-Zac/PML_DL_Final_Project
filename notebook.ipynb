{
 "cells": [
  {
   "cell_type": "markdown",
   "id": "1fdefdf5-2a0a-4ca7-9672-7e1544aad8a1",
   "metadata": {
    "id": "1fdefdf5-2a0a-4ca7-9672-7e1544aad8a1"
   },
   "source": [
    "# 🧙‍♂️ Sample Generation with Pretrained Model\n",
    "\n",
    "[![Open In Colab](https://colab.research.google.com/assets/colab-badge.svg)](https://colab.research.google.com/github/Jac-Zac/PML_DL_Final_Project/blob/master/notebook.ipynb)"
   ]
  },
  {
   "cell_type": "markdown",
   "id": "5LsZiP4Jfsqw",
   "metadata": {
    "id": "5LsZiP4Jfsqw",
    "jp-MarkdownHeadingCollapsed": true
   },
   "source": [
    "### Initial setup ⚙️"
   ]
  },
  {
   "cell_type": "code",
   "execution_count": 1,
   "id": "hjV2GS6MlwQP",
   "metadata": {
    "colab": {
     "base_uri": "https://localhost:8080/"
    },
    "id": "hjV2GS6MlwQP",
    "outputId": "ff173bd8-be54-47a1-b9e7-0f05b17a0d40"
   },
   "outputs": [
    {
     "name": "stdout",
     "output_type": "stream",
     "text": [
      "Cloning into 'PML_DL_Final_Project'...\n",
      "remote: Enumerating objects: 307, done.\u001b[K\n",
      "remote: Counting objects: 100% (37/37), done.\u001b[K\n",
      "remote: Compressing objects: 100% (25/25), done.\u001b[K\n",
      "remote: Total 307 (delta 19), reused 19 (delta 12), pack-reused 270 (from 1)\u001b[K\n",
      "Receiving objects: 100% (307/307), 84.27 KiB | 7.66 MiB/s, done.\n",
      "Resolving deltas: 100% (163/163), done.\n"
     ]
    }
   ],
   "source": [
    "import os\n",
    "\n",
    "repo_dir = \"PML_DL_Final_Project\"\n",
    "\n",
    "if not os.path.exists(repo_dir):\n",
    "    !git clone https://github.com/Jac-Zac/PML_DL_Final_Project.git\n",
    "else:\n",
    "    print(f\"Repository '{repo_dir}' already exists. Skipping clone.\")"
   ]
  },
  {
   "cell_type": "code",
   "execution_count": 2,
   "id": "8amRYEyKfb8n",
   "metadata": {
    "colab": {
     "base_uri": "https://localhost:8080/"
    },
    "id": "8amRYEyKfb8n",
    "outputId": "bc93ec82-3def-4858-cb6d-05c2419c0676"
   },
   "outputs": [
    {
     "name": "stdout",
     "output_type": "stream",
     "text": [
      "/content/PML_DL_Final_Project\n"
     ]
    }
   ],
   "source": [
    "if os.path.isdir(repo_dir):\n",
    "    %cd $repo_dir\n",
    "    !pip install dotenv -q\n",
    "else:\n",
    "    print(f\"Directory '{repo_dir}' not found. Please clone the repository first.\")"
   ]
  },
  {
   "cell_type": "markdown",
   "id": "064b0bc4-6bf5-40b0-8af7-5c30a02c1ada",
   "metadata": {
    "id": "064b0bc4-6bf5-40b0-8af7-5c30a02c1ada"
   },
   "source": [
    "### 📦 Imports"
   ]
  },
  {
   "cell_type": "code",
   "execution_count": 3,
   "id": "31f6b33e-bec1-47a2-afe0-c57ca840a622",
   "metadata": {
    "id": "31f6b33e-bec1-47a2-afe0-c57ca840a622"
   },
   "outputs": [],
   "source": [
    "import torch\n",
    "import numpy as np\n",
    "\n",
    "from src.train.train import train\n",
    "from src.utils.data import get_dataloaders\n",
    "from src.models.diffusion import Diffusion\n",
    "from src.utils.plots import plot_image_grid\n",
    "from src.utils.environment import get_device, set_seed, load_pretrained_model\n",
    "\n",
    "# Since on a notebook we can have nicer bars\n",
    "import tqdm.notebook as tqdm"
   ]
  },
  {
   "cell_type": "markdown",
   "id": "23ac9c3b-0116-4082-bfe9-9ddeac4581b3",
   "metadata": {
    "id": "23ac9c3b-0116-4082-bfe9-9ddeac4581b3"
   },
   "source": [
    "### 🛠️ Configuration Parameters"
   ]
  },
  {
   "cell_type": "code",
   "execution_count": 4,
   "id": "d3cce8cf-ffe7-43a1-9365-11448299f119",
   "metadata": {
    "id": "d3cce8cf-ffe7-43a1-9365-11448299f119"
   },
   "outputs": [],
   "source": [
    "epochs = 25\n",
    "batch_size = 128\n",
    "learning_rate = 1e-3\n",
    "seed = 1337\n",
    "checkpoint = None  # e.g., \"checkpoints/last.ckpt\"\n",
    "model_name = \"unet\"\n",
    "method = \"diffusion\"  # or \"flow\""
   ]
  },
  {
   "cell_type": "markdown",
   "id": "a345d2fb-62f0-4d0d-9cfb-12ca609dcba8",
   "metadata": {
    "id": "a345d2fb-62f0-4d0d-9cfb-12ca609dcba8"
   },
   "source": [
    "### 🧪 Setup: Seed and Device"
   ]
  },
  {
   "cell_type": "code",
   "execution_count": 5,
   "id": "d158ca43-df3a-45a2-9e9d-47ced73866ff",
   "metadata": {
    "id": "d158ca43-df3a-45a2-9e9d-47ced73866ff"
   },
   "outputs": [],
   "source": [
    "set_seed(seed)\n",
    "device = get_device()\n",
    "os.makedirs(\"checkpoints\", exist_ok=True)"
   ]
  },
  {
   "cell_type": "markdown",
   "id": "a864b6ab-979f-4e2c-a83b-c2f096be6c2a",
   "metadata": {
    "id": "a864b6ab-979f-4e2c-a83b-c2f096be6c2a",
    "jp-MarkdownHeadingCollapsed": true
   },
   "source": [
    "## 🧠 Model Training"
   ]
  },
  {
   "cell_type": "markdown",
   "id": "a3544b19-39dd-4a46-a37a-53a761878804",
   "metadata": {
    "id": "a3544b19-39dd-4a46-a37a-53a761878804"
   },
   "source": [
    "#### 📥 Data Loading"
   ]
  },
  {
   "cell_type": "code",
   "execution_count": 6,
   "id": "56d388d2-7c0b-4657-9ec2-8d7de4dd451a",
   "metadata": {
    "colab": {
     "base_uri": "https://localhost:8080/"
    },
    "id": "56d388d2-7c0b-4657-9ec2-8d7de4dd451a",
    "outputId": "c6494ea5-cec1-42b5-c397-e0d9084c80e6"
   },
   "outputs": [
    {
     "name": "stderr",
     "output_type": "stream",
     "text": [
      "100%|██████████| 9.91M/9.91M [00:00<00:00, 11.7MB/s]\n",
      "100%|██████████| 28.9k/28.9k [00:00<00:00, 352kB/s]\n",
      "100%|██████████| 1.65M/1.65M [00:00<00:00, 2.73MB/s]\n",
      "100%|██████████| 4.54k/4.54k [00:00<00:00, 6.27MB/s]\n"
     ]
    }
   ],
   "source": [
    "train_loader, val_loader = get_dataloaders(batch_size=batch_size)"
   ]
  },
  {
   "cell_type": "markdown",
   "id": "c4103982-141a-4886-9f33-969cc2b5aab4",
   "metadata": {
    "id": "c4103982-141a-4886-9f33-969cc2b5aab4"
   },
   "source": [
    "#### Training"
   ]
  },
  {
   "cell_type": "code",
   "execution_count": 7,
   "id": "296d3d48-2e41-4c2a-a796-c9ae5e577eac",
   "metadata": {
    "colab": {
     "base_uri": "https://localhost:8080/",
     "height": 1000
    },
    "id": "296d3d48-2e41-4c2a-a796-c9ae5e577eac",
    "outputId": "ef5e6824-ca37-4800-a100-ab1e472167b3"
   },
   "outputs": [
    {
     "name": "stdout",
     "output_type": "stream",
     "text": [
      "WANDB_API_KEY environment variable not set. Please enter your WandB API key: d8dc3ad9caae0ce9504bfcf61be898d8fbdbef18\n"
     ]
    },
    {
     "name": "stderr",
     "output_type": "stream",
     "text": [
      "\u001b[34m\u001b[1mwandb\u001b[0m: \u001b[33mWARNING\u001b[0m If you're specifying your api key in code, ensure this code is not shared publicly.\n",
      "\u001b[34m\u001b[1mwandb\u001b[0m: \u001b[33mWARNING\u001b[0m Consider setting the WANDB_API_KEY environment variable, or running `wandb login` from the command line.\n",
      "\u001b[34m\u001b[1mwandb\u001b[0m: No netrc file found, creating one.\n",
      "\u001b[34m\u001b[1mwandb\u001b[0m: Appending key for api.wandb.ai to your netrc file: /root/.netrc\n",
      "\u001b[34m\u001b[1mwandb\u001b[0m: Currently logged in as: \u001b[33mjacopozac\u001b[0m (\u001b[33mjac-zac\u001b[0m) to \u001b[32mhttps://api.wandb.ai\u001b[0m. Use \u001b[1m`wandb login --relogin`\u001b[0m to force relogin\n"
     ]
    },
    {
     "data": {
      "text/html": [
       "Tracking run with wandb version 0.20.1"
      ],
      "text/plain": [
       "<IPython.core.display.HTML object>"
      ]
     },
     "metadata": {},
     "output_type": "display_data"
    },
    {
     "data": {
      "text/html": [
       "Run data is saved locally in <code>/content/PML_DL_Final_Project/wandb/run-20250618_092320-npk1bw98</code>"
      ],
      "text/plain": [
       "<IPython.core.display.HTML object>"
      ]
     },
     "metadata": {},
     "output_type": "display_data"
    },
    {
     "data": {
      "text/html": [
       "Syncing run <strong><a href='https://wandb.ai/jac-zac/diffusion-project/runs/npk1bw98' target=\"_blank\">deep-hill-104</a></strong> to <a href='https://wandb.ai/jac-zac/diffusion-project' target=\"_blank\">Weights & Biases</a> (<a href='https://wandb.me/developer-guide' target=\"_blank\">docs</a>)<br>"
      ],
      "text/plain": [
       "<IPython.core.display.HTML object>"
      ]
     },
     "metadata": {},
     "output_type": "display_data"
    },
    {
     "data": {
      "text/html": [
       " View project at <a href='https://wandb.ai/jac-zac/diffusion-project' target=\"_blank\">https://wandb.ai/jac-zac/diffusion-project</a>"
      ],
      "text/plain": [
       "<IPython.core.display.HTML object>"
      ]
     },
     "metadata": {},
     "output_type": "display_data"
    },
    {
     "data": {
      "text/html": [
       " View run at <a href='https://wandb.ai/jac-zac/diffusion-project/runs/npk1bw98' target=\"_blank\">https://wandb.ai/jac-zac/diffusion-project/runs/npk1bw98</a>"
      ],
      "text/plain": [
       "<IPython.core.display.HTML object>"
      ]
     },
     "metadata": {},
     "output_type": "display_data"
    },
    {
     "name": "stdout",
     "output_type": "stream",
     "text": [
      "\n",
      "Epoch 1/15\n"
     ]
    },
    {
     "name": "stderr",
     "output_type": "stream",
     "text": []
    },
    {
     "name": "stdout",
     "output_type": "stream",
     "text": [
      "Train Loss: 0.0887 | Val Loss: 0.0565 | LR: 0.000989\n",
      "\n",
      "Epoch 2/15\n"
     ]
    },
    {
     "name": "stderr",
     "output_type": "stream",
     "text": []
    },
    {
     "name": "stdout",
     "output_type": "stream",
     "text": [
      "Train Loss: 0.0540 | Val Loss: 0.0500 | LR: 0.000957\n",
      "\n",
      "Epoch 3/15\n"
     ]
    },
    {
     "name": "stderr",
     "output_type": "stream",
     "text": []
    },
    {
     "name": "stdout",
     "output_type": "stream",
     "text": [
      "Train Loss: 0.0493 | Val Loss: 0.0493 | LR: 0.000905\n",
      "\n",
      "Epoch 4/15\n"
     ]
    },
    {
     "name": "stderr",
     "output_type": "stream",
     "text": []
    },
    {
     "name": "stdout",
     "output_type": "stream",
     "text": [
      "Train Loss: 0.0463 | Val Loss: 0.0448 | LR: 0.000836\n",
      "\n",
      "Epoch 5/15\n"
     ]
    },
    {
     "name": "stderr",
     "output_type": "stream",
     "text": []
    },
    {
     "name": "stdout",
     "output_type": "stream",
     "text": [
      "Train Loss: 0.0450 | Val Loss: 0.0445 | LR: 0.000752\n",
      "\n",
      "Epoch 6/15\n"
     ]
    },
    {
     "name": "stderr",
     "output_type": "stream",
     "text": []
    },
    {
     "name": "stdout",
     "output_type": "stream",
     "text": [
      "Train Loss: 0.0440 | Val Loss: 0.0426 | LR: 0.000658\n",
      "\n",
      "Epoch 7/15\n"
     ]
    },
    {
     "name": "stderr",
     "output_type": "stream",
     "text": []
    },
    {
     "name": "stdout",
     "output_type": "stream",
     "text": [
      "Train Loss: 0.0430 | Val Loss: 0.0428 | LR: 0.000557\n",
      "\n",
      "Epoch 8/15\n"
     ]
    },
    {
     "name": "stderr",
     "output_type": "stream",
     "text": []
    },
    {
     "name": "stdout",
     "output_type": "stream",
     "text": [
      "Train Loss: 0.0428 | Val Loss: 0.0421 | LR: 0.000453\n",
      "\n",
      "Epoch 9/15\n"
     ]
    },
    {
     "name": "stderr",
     "output_type": "stream",
     "text": []
    },
    {
     "name": "stdout",
     "output_type": "stream",
     "text": [
      "Train Loss: 0.0418 | Val Loss: 0.0416 | LR: 0.000352\n",
      "\n",
      "Epoch 10/15\n"
     ]
    },
    {
     "name": "stderr",
     "output_type": "stream",
     "text": []
    },
    {
     "name": "stdout",
     "output_type": "stream",
     "text": [
      "Train Loss: 0.0411 | Val Loss: 0.0419 | LR: 0.000258\n",
      "\n",
      "Epoch 11/15\n"
     ]
    },
    {
     "name": "stderr",
     "output_type": "stream",
     "text": []
    },
    {
     "name": "stdout",
     "output_type": "stream",
     "text": [
      "Train Loss: 0.0409 | Val Loss: 0.0411 | LR: 0.000174\n",
      "\n",
      "Epoch 12/15\n"
     ]
    },
    {
     "name": "stderr",
     "output_type": "stream",
     "text": []
    },
    {
     "name": "stdout",
     "output_type": "stream",
     "text": [
      "Train Loss: 0.0408 | Val Loss: 0.0394 | LR: 0.000105\n",
      "\n",
      "Epoch 13/15\n"
     ]
    },
    {
     "name": "stderr",
     "output_type": "stream",
     "text": []
    },
    {
     "name": "stdout",
     "output_type": "stream",
     "text": [
      "Train Loss: 0.0401 | Val Loss: 0.0400 | LR: 0.000053\n",
      "\n",
      "Epoch 14/15\n"
     ]
    },
    {
     "name": "stderr",
     "output_type": "stream",
     "text": []
    },
    {
     "name": "stdout",
     "output_type": "stream",
     "text": [
      "Train Loss: 0.0400 | Val Loss: 0.0391 | LR: 0.000021\n",
      "\n",
      "Epoch 15/15\n"
     ]
    },
    {
     "name": "stderr",
     "output_type": "stream",
     "text": []
    },
    {
     "name": "stdout",
     "output_type": "stream",
     "text": [
      "Train Loss: 0.0399 | Val Loss: 0.0394 | LR: 0.000010\n"
     ]
    },
    {
     "data": {
      "text/html": [],
      "text/plain": [
       "<IPython.core.display.HTML object>"
      ]
     },
     "metadata": {},
     "output_type": "display_data"
    },
    {
     "data": {
      "text/html": [
       "<br>    <style><br>        .wandb-row {<br>            display: flex;<br>            flex-direction: row;<br>            flex-wrap: wrap;<br>            justify-content: flex-start;<br>            width: 100%;<br>        }<br>        .wandb-col {<br>            display: flex;<br>            flex-direction: column;<br>            flex-basis: 100%;<br>            flex: 1;<br>            padding: 10px;<br>        }<br>    </style><br><div class=\"wandb-row\"><div class=\"wandb-col\"><h3>Run history:</h3><br/><table class=\"wandb\"><tr><td>epoch</td><td>▁▁▂▃▃▃▄▅▅▅▆▇▇▇█</td></tr><tr><td>train/loss_epoch</td><td>█▃▂▂▂▂▁▁▁▁▁▁▁▁▁</td></tr><tr><td>train/loss_step</td><td>██▄▆▆▅▄▂▂▂▄▃▄▄▅▂▄▄▃▄▄▄▂▃▅▅▄▃▂▄▃▃▁▂▂▃▂▃▁▄</td></tr><tr><td>val/loss</td><td>█▅▅▃▃▂▃▂▂▂▂▁▁▁▁</td></tr></table><br/></div><div class=\"wandb-col\"><h3>Run summary:</h3><br/><table class=\"wandb\"><tr><td>best_val_loss</td><td>0.0391</td></tr><tr><td>epoch</td><td>15</td></tr><tr><td>train/loss_epoch</td><td>0.03991</td></tr><tr><td>train/loss_step</td><td>0.0327</td></tr><tr><td>val/loss</td><td>0.03936</td></tr></table><br/></div></div>"
      ],
      "text/plain": [
       "<IPython.core.display.HTML object>"
      ]
     },
     "metadata": {},
     "output_type": "display_data"
    },
    {
     "data": {
      "text/html": [
       " View run <strong style=\"color:#cdcd00\">deep-hill-104</strong> at: <a href='https://wandb.ai/jac-zac/diffusion-project/runs/npk1bw98' target=\"_blank\">https://wandb.ai/jac-zac/diffusion-project/runs/npk1bw98</a><br> View project at: <a href='https://wandb.ai/jac-zac/diffusion-project' target=\"_blank\">https://wandb.ai/jac-zac/diffusion-project</a><br>Synced 5 W&B file(s), 15 media file(s), 30 artifact file(s) and 0 other file(s)"
      ],
      "text/plain": [
       "<IPython.core.display.HTML object>"
      ]
     },
     "metadata": {},
     "output_type": "display_data"
    },
    {
     "data": {
      "text/html": [
       "Find logs at: <code>./wandb/run-20250618_092320-npk1bw98/logs</code>"
      ],
      "text/plain": [
       "<IPython.core.display.HTML object>"
      ]
     },
     "metadata": {},
     "output_type": "display_data"
    },
    {
     "name": "stdout",
     "output_type": "stream",
     "text": [
      "\n",
      "Training complete.\n"
     ]
    }
   ],
   "source": [
    "# NOTE: Currently assumes 10 classes are hardcoded\n",
    "num_classes = 10\n",
    "model_kwargs = {\"num_classes\": num_classes}\n",
    "\n",
    "model = train(\n",
    "    num_epochs=epochs,\n",
    "    device=device,\n",
    "    dataloader=train_loader,\n",
    "    val_loader=val_loader,\n",
    "    learning_rate=learning_rate,\n",
    "    use_wandb=True,\n",
    "    checkpoint_path=checkpoint,\n",
    "    model_name=model_name,\n",
    "    model_kwargs=model_kwargs,\n",
    "    method=method,\n",
    ")"
   ]
  },
  {
   "cell_type": "markdown",
   "id": "d2cbc5f8-901d-466b-ad2a-9929037e20b0",
   "metadata": {
    "id": "d2cbc5f8-901d-466b-ad2a-9929037e20b0"
   },
   "source": [
    "## 💡 Image Generation"
   ]
  },
  {
   "cell_type": "markdown",
   "id": "4e9b0a39-6cfe-48f1-8cd9-3a0114637c05",
   "metadata": {
    "id": "4e9b0a39-6cfe-48f1-8cd9-3a0114637c05"
   },
   "source": [
    "#### 🛠️ Configuration Parameters"
   ]
  },
  {
   "cell_type": "code",
   "execution_count": 8,
   "id": "b288654b-668c-4ce7-8f10-d862677e29e4",
   "metadata": {
    "id": "b288654b-668c-4ce7-8f10-d862677e29e4"
   },
   "outputs": [],
   "source": [
    "n_samples = 5\n",
    "save_dir = \"samples\"\n",
    "max_steps = 1000\n",
    "model_name = \"unet\"\n",
    "ckpt_path = \"checkpoints/best_model.pth\"  # or use your last checkpoint"
   ]
  },
  {
   "cell_type": "markdown",
   "id": "b338dd8c-30ab-4e9a-bb50-86d89e8e13df",
   "metadata": {
    "id": "b338dd8c-30ab-4e9a-bb50-86d89e8e13df"
   },
   "source": [
    "#### 🔌 Load Pretrained Model"
   ]
  },
  {
   "cell_type": "code",
   "execution_count": 9,
   "id": "5918303f-edc6-4bdd-b312-76b4130ec052",
   "metadata": {
    "id": "5918303f-edc6-4bdd-b312-76b4130ec052"
   },
   "outputs": [],
   "source": [
    "num_classes = 10  # 🔢 Total number of class labels (e.g., digits 0–9 for MNIST)\n",
    "\n",
    "model_kwargs = {\n",
    "    \"num_classes\": num_classes,\n",
    "    \"time_emb_dim\": 128,  # Must match training config\n",
    "}\n",
    "\n",
    "model = load_pretrained_model(\n",
    "    model_name=model_name,\n",
    "    ckpt_path=ckpt_path,\n",
    "    device=device,\n",
    "    model_kwargs=model_kwargs,\n",
    ")"
   ]
  },
  {
   "cell_type": "markdown",
   "id": "bc83aa1d-e94a-4214-aedc-8552b9e9233d",
   "metadata": {
    "id": "bc83aa1d-e94a-4214-aedc-8552b9e9233d"
   },
   "source": [
    "#### 💨 Initialize Diffusion Process"
   ]
  },
  {
   "cell_type": "code",
   "execution_count": 10,
   "id": "fc527c99-88a5-4c42-8c43-2625eea3c343",
   "metadata": {
    "id": "fc527c99-88a5-4c42-8c43-2625eea3c343"
   },
   "outputs": [],
   "source": [
    "# 💫 Create diffusion sampler\n",
    "diffusion = Diffusion(img_size=28, device=device)\n",
    "plot_image_grid(model, diffusion, args, device, num_classes)\n",
    "\n",
    "# Display the images on the notebook\n",
    "out_path = os.path.join(save_dir, \"all_samples_grid.png\")\n",
    "display(Image.open(out_path))"
   ]
  }
 ],
 "metadata": {
  "accelerator": "GPU",
  "colab": {
   "gpuType": "T4",
   "provenance": []
  },
  "kernelspec": {
   "display_name": "Python 3 (ipykernel)",
   "language": "python",
   "name": "python3"
  },
  "language_info": {
   "codemirror_mode": {
    "name": "ipython",
    "version": 3
   },
   "file_extension": ".py",
   "mimetype": "text/x-python",
   "name": "python",
   "nbconvert_exporter": "python",
   "pygments_lexer": "ipython3",
   "version": "3.13.5"
  }
 },
 "nbformat": 4,
 "nbformat_minor": 5
}
