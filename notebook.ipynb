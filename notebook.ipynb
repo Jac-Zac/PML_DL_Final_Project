{
  "cells": [
    {
      "cell_type": "markdown",
      "id": "1fdefdf5-2a0a-4ca7-9672-7e1544aad8a1",
      "metadata": {
        "id": "1fdefdf5-2a0a-4ca7-9672-7e1544aad8a1"
      },
      "source": [
        "# 🧙‍♂️ Sample Generation with Pretrained Model\n",
        "\n",
        "[![Open In Colab](https://colab.research.google.com/assets/colab-badge.svg)](https://colab.research.google.com/github/Jac-Zac/PML_DL_Final_Project/blob/master/notebook.ipynb)"
      ]
    },
    {
      "cell_type": "markdown",
      "id": "5LsZiP4Jfsqw",
      "metadata": {
        "id": "5LsZiP4Jfsqw",
        "jp-MarkdownHeadingCollapsed": true
      },
      "source": [
        "### Initial setup ⚙️"
      ]
    },
    {
      "cell_type": "code",
      "execution_count": 1,
      "id": "hjV2GS6MlwQP",
      "metadata": {
        "colab": {
          "base_uri": "https://localhost:8080/"
        },
        "id": "hjV2GS6MlwQP",
        "outputId": "dbf51012-ebbb-4148-dcc2-e53964541684"
      },
      "outputs": [
        {
          "output_type": "stream",
          "name": "stdout",
          "text": [
            "Repository 'PML_DL_Final_Project' already exists. Skipping clone.\n"
          ]
        }
      ],
      "source": [
        "import os\n",
        "\n",
        "repo_dir = \"PML_DL_Final_Project\"\n",
        "\n",
        "if not os.path.exists(repo_dir):\n",
        "    !git clone https://github.com/Jac-Zac/PML_DL_Final_Project.git\n",
        "else:\n",
        "    print(f\"Repository '{repo_dir}' already exists. Skipping clone.\")"
      ]
    },
    {
      "cell_type": "code",
      "execution_count": 2,
      "id": "8amRYEyKfb8n",
      "metadata": {
        "colab": {
          "base_uri": "https://localhost:8080/"
        },
        "id": "8amRYEyKfb8n",
        "outputId": "136b28d2-db71-4921-f084-21c02bf38035"
      },
      "outputs": [
        {
          "output_type": "stream",
          "name": "stdout",
          "text": [
            "/content/PML_DL_Final_Project\n"
          ]
        }
      ],
      "source": [
        "if os.path.isdir(repo_dir):\n",
        "    %cd $repo_dir\n",
        "    !pip install dotenv -q\n",
        "else:\n",
        "    print(f\"Directory '{repo_dir}' not found. Please clone the repository first.\")"
      ]
    },
    {
      "cell_type": "markdown",
      "id": "064b0bc4-6bf5-40b0-8af7-5c30a02c1ada",
      "metadata": {
        "id": "064b0bc4-6bf5-40b0-8af7-5c30a02c1ada"
      },
      "source": [
        "### 📦 Imports"
      ]
    },
    {
      "cell_type": "code",
      "execution_count": 3,
      "id": "31f6b33e-bec1-47a2-afe0-c57ca840a622",
      "metadata": {
        "id": "31f6b33e-bec1-47a2-afe0-c57ca840a622"
      },
      "outputs": [],
      "source": [
        "import torch\n",
        "import numpy as np\n",
        "\n",
        "from src.train.train import train\n",
        "from src.utils.data import get_dataloaders\n",
        "from src.models.diffusion import Diffusion\n",
        "from src.utils.plots import plot_image_grid\n",
        "from src.utils.environment import get_device, set_seed, load_pretrained_model\n",
        "\n",
        "# Since on a notebook we can have nicer bars\n",
        "import tqdm.notebook as tqdm"
      ]
    },
    {
      "cell_type": "markdown",
      "id": "23ac9c3b-0116-4082-bfe9-9ddeac4581b3",
      "metadata": {
        "id": "23ac9c3b-0116-4082-bfe9-9ddeac4581b3"
      },
      "source": [
        "### 🛠️ Configuration Parameters"
      ]
    },
    {
      "cell_type": "code",
      "execution_count": 4,
      "id": "d3cce8cf-ffe7-43a1-9365-11448299f119",
      "metadata": {
        "id": "d3cce8cf-ffe7-43a1-9365-11448299f119"
      },
      "outputs": [],
      "source": [
        "epochs = 20\n",
        "batch_size = 128\n",
        "learning_rate = 2e-3\n",
        "seed = 1337\n",
        "checkpoint = None  # e.g., \"checkpoints/last.ckpt\"\n",
        "model_name = \"unet\"\n",
        "method = \"diffusion\"  # or \"flow\""
      ]
    },
    {
      "cell_type": "markdown",
      "id": "a345d2fb-62f0-4d0d-9cfb-12ca609dcba8",
      "metadata": {
        "id": "a345d2fb-62f0-4d0d-9cfb-12ca609dcba8"
      },
      "source": [
        "### 🧪 Setup: Seed and Device"
      ]
    },
    {
      "cell_type": "code",
      "execution_count": 5,
      "id": "d158ca43-df3a-45a2-9e9d-47ced73866ff",
      "metadata": {
        "id": "d158ca43-df3a-45a2-9e9d-47ced73866ff"
      },
      "outputs": [],
      "source": [
        "set_seed(seed)\n",
        "device = get_device()\n",
        "os.makedirs(\"checkpoints\", exist_ok=True)"
      ]
    },
    {
      "cell_type": "markdown",
      "id": "a864b6ab-979f-4e2c-a83b-c2f096be6c2a",
      "metadata": {
        "id": "a864b6ab-979f-4e2c-a83b-c2f096be6c2a",
        "jp-MarkdownHeadingCollapsed": true
      },
      "source": [
        "## 🧠 Model Training"
      ]
    },
    {
      "cell_type": "markdown",
      "id": "a3544b19-39dd-4a46-a37a-53a761878804",
      "metadata": {
        "id": "a3544b19-39dd-4a46-a37a-53a761878804"
      },
      "source": [
        "#### 📥 Data Loading"
      ]
    },
    {
      "cell_type": "code",
      "execution_count": 6,
      "id": "56d388d2-7c0b-4657-9ec2-8d7de4dd451a",
      "metadata": {
        "id": "56d388d2-7c0b-4657-9ec2-8d7de4dd451a"
      },
      "outputs": [],
      "source": [
        "train_loader, val_loader = get_dataloaders(batch_size=batch_size)"
      ]
    },
    {
      "cell_type": "markdown",
      "id": "c4103982-141a-4886-9f33-969cc2b5aab4",
      "metadata": {
        "id": "c4103982-141a-4886-9f33-969cc2b5aab4"
      },
      "source": [
        "#### Training"
      ]
    },
    {
      "cell_type": "code",
      "execution_count": 7,
      "id": "296d3d48-2e41-4c2a-a796-c9ae5e577eac",
      "metadata": {
        "colab": {
          "base_uri": "https://localhost:8080/",
          "height": 1000
        },
        "id": "296d3d48-2e41-4c2a-a796-c9ae5e577eac",
        "outputId": "9550bb1e-4d07-419e-e920-55937d4d0daf"
      },
      "outputs": [
        {
          "name": "stdout",
          "output_type": "stream",
          "text": [
            "WANDB_API_KEY environment variable not set. Please enter your WandB API key:  d8dc3ad9caae0ce9504bfcf61be898d8fbdbef18\n"
          ]
        },
        {
          "output_type": "stream",
          "name": "stderr",
          "text": [
            "\u001b[34m\u001b[1mwandb\u001b[0m: \u001b[33mWARNING\u001b[0m If you're specifying your api key in code, ensure this code is not shared publicly.\n",
            "\u001b[34m\u001b[1mwandb\u001b[0m: \u001b[33mWARNING\u001b[0m Consider setting the WANDB_API_KEY environment variable, or running `wandb login` from the command line.\n",
            "\u001b[34m\u001b[1mwandb\u001b[0m: Appending key for api.wandb.ai to your netrc file: /root/.netrc\n",
            "\u001b[34m\u001b[1mwandb\u001b[0m: Currently logged in as: \u001b[33mjacopozac\u001b[0m (\u001b[33mjac-zac\u001b[0m) to \u001b[32mhttps://api.wandb.ai\u001b[0m. Use \u001b[1m`wandb login --relogin`\u001b[0m to force relogin\n"
          ]
        },
        {
          "output_type": "display_data",
          "data": {
            "text/plain": [
              "<IPython.core.display.HTML object>"
            ],
            "text/html": [
              "Tracking run with wandb version 0.20.1"
            ]
          },
          "metadata": {}
        },
        {
          "output_type": "display_data",
          "data": {
            "text/plain": [
              "<IPython.core.display.HTML object>"
            ],
            "text/html": [
              "Run data is saved locally in <code>/content/PML_DL_Final_Project/wandb/run-20250618_143128-6slzhx4c</code>"
            ]
          },
          "metadata": {}
        },
        {
          "output_type": "display_data",
          "data": {
            "text/plain": [
              "<IPython.core.display.HTML object>"
            ],
            "text/html": [
              "Syncing run <strong><a href='https://wandb.ai/jac-zac/diffusion-project/runs/6slzhx4c' target=\"_blank\">tough-pine-110</a></strong> to <a href='https://wandb.ai/jac-zac/diffusion-project' target=\"_blank\">Weights & Biases</a> (<a href='https://wandb.me/developer-guide' target=\"_blank\">docs</a>)<br>"
            ]
          },
          "metadata": {}
        },
        {
          "output_type": "display_data",
          "data": {
            "text/plain": [
              "<IPython.core.display.HTML object>"
            ],
            "text/html": [
              " View project at <a href='https://wandb.ai/jac-zac/diffusion-project' target=\"_blank\">https://wandb.ai/jac-zac/diffusion-project</a>"
            ]
          },
          "metadata": {}
        },
        {
          "output_type": "display_data",
          "data": {
            "text/plain": [
              "<IPython.core.display.HTML object>"
            ],
            "text/html": [
              " View run at <a href='https://wandb.ai/jac-zac/diffusion-project/runs/6slzhx4c' target=\"_blank\">https://wandb.ai/jac-zac/diffusion-project/runs/6slzhx4c</a>"
            ]
          },
          "metadata": {}
        },
        {
          "output_type": "stream",
          "name": "stdout",
          "text": [
            "\n",
            "Epoch 1/20\n"
          ]
        },
        {
          "output_type": "stream",
          "name": "stderr",
          "text": []
        },
        {
          "output_type": "stream",
          "name": "stdout",
          "text": [
            "Train Loss: 0.0873 | Val Loss: 0.0572 | LR: 0.001988\n",
            "New best model saved! Epoch 1, Val Loss: 0.0572\n",
            "\n",
            "Epoch 2/20\n"
          ]
        },
        {
          "output_type": "stream",
          "name": "stderr",
          "text": []
        },
        {
          "output_type": "stream",
          "name": "stdout",
          "text": [
            "Train Loss: 0.0537 | Val Loss: 0.0501 | LR: 0.001951\n",
            "New best model saved! Epoch 2, Val Loss: 0.0501\n",
            "\n",
            "Epoch 3/20\n"
          ]
        },
        {
          "output_type": "stream",
          "name": "stderr",
          "text": []
        },
        {
          "output_type": "stream",
          "name": "stdout",
          "text": [
            "Train Loss: 0.0492 | Val Loss: 0.0468 | LR: 0.001892\n",
            "New best model saved! Epoch 3, Val Loss: 0.0468\n",
            "\n",
            "Epoch 4/20\n"
          ]
        },
        {
          "output_type": "stream",
          "name": "stderr",
          "text": []
        },
        {
          "output_type": "stream",
          "name": "stdout",
          "text": [
            "Train Loss: 0.0464 | Val Loss: 0.0445 | LR: 0.001810\n",
            "New best model saved! Epoch 4, Val Loss: 0.0445\n",
            "\n",
            "Epoch 5/20\n"
          ]
        },
        {
          "output_type": "stream",
          "name": "stderr",
          "text": []
        },
        {
          "output_type": "stream",
          "name": "stdout",
          "text": [
            "Train Loss: 0.0452 | Val Loss: 0.0439 | LR: 0.001709\n",
            "New best model saved! Epoch 5, Val Loss: 0.0439\n",
            "\n",
            "Epoch 6/20\n"
          ]
        },
        {
          "output_type": "stream",
          "name": "stderr",
          "text": []
        },
        {
          "output_type": "stream",
          "name": "stdout",
          "text": [
            "Train Loss: 0.0443 | Val Loss: 0.0433 | LR: 0.001590\n",
            "New best model saved! Epoch 6, Val Loss: 0.0433\n",
            "\n",
            "Epoch 7/20\n"
          ]
        },
        {
          "output_type": "stream",
          "name": "stderr",
          "text": []
        },
        {
          "output_type": "stream",
          "name": "stdout",
          "text": [
            "Train Loss: 0.0433 | Val Loss: 0.0427 | LR: 0.001457\n",
            "New best model saved! Epoch 7, Val Loss: 0.0427\n",
            "\n",
            "Epoch 8/20\n"
          ]
        },
        {
          "output_type": "stream",
          "name": "stderr",
          "text": []
        },
        {
          "output_type": "stream",
          "name": "stdout",
          "text": [
            "Train Loss: 0.0433 | Val Loss: 0.0442 | LR: 0.001312\n",
            "\n",
            "Epoch 9/20\n"
          ]
        },
        {
          "output_type": "stream",
          "name": "stderr",
          "text": []
        },
        {
          "output_type": "stream",
          "name": "stdout",
          "text": [
            "Train Loss: 0.0423 | Val Loss: 0.0418 | LR: 0.001161\n",
            "New best model saved! Epoch 9, Val Loss: 0.0418\n",
            "\n",
            "Epoch 10/20\n"
          ]
        },
        {
          "output_type": "stream",
          "name": "stderr",
          "text": []
        },
        {
          "output_type": "stream",
          "name": "stdout",
          "text": [
            "Train Loss: 0.0416 | Val Loss: 0.0419 | LR: 0.001005\n",
            "\n",
            "Epoch 11/20\n"
          ]
        },
        {
          "output_type": "stream",
          "name": "stderr",
          "text": []
        },
        {
          "output_type": "stream",
          "name": "stdout",
          "text": [
            "Train Loss: 0.0414 | Val Loss: 0.0426 | LR: 0.000849\n",
            "\n",
            "Epoch 12/20\n"
          ]
        },
        {
          "output_type": "stream",
          "name": "stderr",
          "text": []
        },
        {
          "output_type": "stream",
          "name": "stdout",
          "text": [
            "Train Loss: 0.0413 | Val Loss: 0.0398 | LR: 0.000698\n",
            "New best model saved! Epoch 12, Val Loss: 0.0398\n",
            "\n",
            "Epoch 13/20\n"
          ]
        },
        {
          "output_type": "stream",
          "name": "stderr",
          "text": []
        },
        {
          "output_type": "stream",
          "name": "stdout",
          "text": [
            "Train Loss: 0.0406 | Val Loss: 0.0401 | LR: 0.000553\n",
            "\n",
            "Epoch 14/20\n"
          ]
        },
        {
          "output_type": "stream",
          "name": "stderr",
          "text": []
        },
        {
          "output_type": "stream",
          "name": "stdout",
          "text": [
            "Train Loss: 0.0403 | Val Loss: 0.0392 | LR: 0.000420\n",
            "New best model saved! Epoch 14, Val Loss: 0.0392\n",
            "\n",
            "Epoch 15/20\n"
          ]
        },
        {
          "output_type": "stream",
          "name": "stderr",
          "text": []
        },
        {
          "output_type": "stream",
          "name": "stdout",
          "text": [
            "Train Loss: 0.0401 | Val Loss: 0.0398 | LR: 0.000301\n",
            "\n",
            "Epoch 16/20\n"
          ]
        },
        {
          "output_type": "stream",
          "name": "stderr",
          "text": []
        },
        {
          "output_type": "stream",
          "name": "stdout",
          "text": [
            "Train Loss: 0.0394 | Val Loss: 0.0390 | LR: 0.000200\n",
            "New best model saved! Epoch 16, Val Loss: 0.0390\n",
            "\n",
            "Epoch 17/20\n"
          ]
        },
        {
          "output_type": "stream",
          "name": "stderr",
          "text": []
        },
        {
          "output_type": "stream",
          "name": "stdout",
          "text": [
            "Train Loss: 0.0396 | Val Loss: 0.0400 | LR: 0.000118\n",
            "\n",
            "Epoch 18/20\n"
          ]
        },
        {
          "output_type": "stream",
          "name": "stderr",
          "text": []
        },
        {
          "output_type": "stream",
          "name": "stdout",
          "text": [
            "Train Loss: 0.0389 | Val Loss: 0.0399 | LR: 0.000059\n",
            "\n",
            "Epoch 19/20\n"
          ]
        },
        {
          "output_type": "stream",
          "name": "stderr",
          "text": []
        },
        {
          "output_type": "stream",
          "name": "stdout",
          "text": [
            "Train Loss: 0.0393 | Val Loss: 0.0389 | LR: 0.000022\n",
            "New best model saved! Epoch 19, Val Loss: 0.0389\n",
            "\n",
            "Epoch 20/20\n"
          ]
        },
        {
          "output_type": "stream",
          "name": "stderr",
          "text": []
        },
        {
          "output_type": "stream",
          "name": "stdout",
          "text": [
            "Train Loss: 0.0390 | Val Loss: 0.0387 | LR: 0.000010\n",
            "New best model saved! Epoch 20, Val Loss: 0.0387\n"
          ]
        },
        {
          "output_type": "display_data",
          "data": {
            "text/plain": [
              "<IPython.core.display.HTML object>"
            ],
            "text/html": []
          },
          "metadata": {}
        },
        {
          "output_type": "display_data",
          "data": {
            "text/plain": [
              "<IPython.core.display.HTML object>"
            ],
            "text/html": [
              "<br>    <style><br>        .wandb-row {<br>            display: flex;<br>            flex-direction: row;<br>            flex-wrap: wrap;<br>            justify-content: flex-start;<br>            width: 100%;<br>        }<br>        .wandb-col {<br>            display: flex;<br>            flex-direction: column;<br>            flex-basis: 100%;<br>            flex: 1;<br>            padding: 10px;<br>        }<br>    </style><br><div class=\"wandb-row\"><div class=\"wandb-col\"><h3>Run history:</h3><br/><table class=\"wandb\"><tr><td>epoch</td><td>▁▁▂▂▂▃▃▄▄▄▅▅▅▆▆▇▇▇██</td></tr><tr><td>learning_rate</td><td>███▇▇▇▆▆▅▅▄▃▃▂▂▂▁▁▁▁</td></tr><tr><td>train/loss_epoch</td><td>█▃▂▂▂▂▂▂▁▁▁▁▁▁▁▁▁▁▁▁</td></tr><tr><td>train/loss_step</td><td>█▅▃▂▄▅▄▅▆▄▃▃▂▄▃▃▂▃▁▃▃▂▂▂▁▃▄▃▁▁▃▂▃▂▂▂▂▁▃▄</td></tr><tr><td>val/loss</td><td>█▅▄▃▃▃▂▃▂▂▂▁▂▁▁▁▁▁▁▁</td></tr></table><br/></div><div class=\"wandb-col\"><h3>Run summary:</h3><br/><table class=\"wandb\"><tr><td>best_train_loss</td><td>0.03905</td></tr><tr><td>best_val_epoch</td><td>20</td></tr><tr><td>best_val_loss</td><td>0.03875</td></tr><tr><td>best_val_lr</td><td>1e-05</td></tr><tr><td>epoch</td><td>20</td></tr><tr><td>learning_rate</td><td>1e-05</td></tr><tr><td>train/loss_epoch</td><td>0.03905</td></tr><tr><td>train/loss_step</td><td>0.04156</td></tr><tr><td>val/loss</td><td>0.03875</td></tr></table><br/></div></div>"
            ]
          },
          "metadata": {}
        },
        {
          "output_type": "display_data",
          "data": {
            "text/plain": [
              "<IPython.core.display.HTML object>"
            ],
            "text/html": [
              " View run <strong style=\"color:#cdcd00\">tough-pine-110</strong> at: <a href='https://wandb.ai/jac-zac/diffusion-project/runs/6slzhx4c' target=\"_blank\">https://wandb.ai/jac-zac/diffusion-project/runs/6slzhx4c</a><br> View project at: <a href='https://wandb.ai/jac-zac/diffusion-project' target=\"_blank\">https://wandb.ai/jac-zac/diffusion-project</a><br>Synced 5 W&B file(s), 20 media file(s), 34 artifact file(s) and 0 other file(s)"
            ]
          },
          "metadata": {}
        },
        {
          "output_type": "display_data",
          "data": {
            "text/plain": [
              "<IPython.core.display.HTML object>"
            ],
            "text/html": [
              "Find logs at: <code>./wandb/run-20250618_143128-6slzhx4c/logs</code>"
            ]
          },
          "metadata": {}
        },
        {
          "output_type": "stream",
          "name": "stdout",
          "text": [
            "\n",
            "Training complete. Best validation loss: 0.0387\n"
          ]
        }
      ],
      "source": [
        "# NOTE: Currently assumes 10 classes are hardcoded\n",
        "num_classes = 10\n",
        "model_kwargs = {\"num_classes\": num_classes}\n",
        "\n",
        "model = train(\n",
        "    num_epochs=epochs,\n",
        "    device=device,\n",
        "    dataloader=train_loader,\n",
        "    val_loader=val_loader,\n",
        "    learning_rate=learning_rate,\n",
        "    use_wandb=True,\n",
        "    checkpoint_path=checkpoint,\n",
        "    model_name=model_name,\n",
        "    model_kwargs=model_kwargs,\n",
        "    method=method,\n",
        ")"
      ]
    },
    {
      "cell_type": "markdown",
      "id": "d2cbc5f8-901d-466b-ad2a-9929037e20b0",
      "metadata": {
        "id": "d2cbc5f8-901d-466b-ad2a-9929037e20b0"
      },
      "source": [
        "## 💡 Image Generation"
      ]
    },
    {
      "cell_type": "markdown",
      "id": "4e9b0a39-6cfe-48f1-8cd9-3a0114637c05",
      "metadata": {
        "id": "4e9b0a39-6cfe-48f1-8cd9-3a0114637c05"
      },
      "source": [
        "#### 🛠️ Configuration Parameters"
      ]
    },
    {
      "cell_type": "code",
      "execution_count": 8,
      "id": "b288654b-668c-4ce7-8f10-d862677e29e4",
      "metadata": {
        "id": "b288654b-668c-4ce7-8f10-d862677e29e4"
      },
      "outputs": [],
      "source": [
        "n_samples = 5\n",
        "save_dir = \"samples\"\n",
        "max_steps = 1000\n",
        "model_name = \"unet\"\n",
        "ckpt_path = \"checkpoints/best_model.pth\"  # or use your last checkpoint"
      ]
    },
    {
      "cell_type": "markdown",
      "id": "b338dd8c-30ab-4e9a-bb50-86d89e8e13df",
      "metadata": {
        "id": "b338dd8c-30ab-4e9a-bb50-86d89e8e13df"
      },
      "source": [
        "#### 🔌 Load Pretrained Model"
      ]
    },
    {
      "cell_type": "code",
      "execution_count": 9,
      "id": "5918303f-edc6-4bdd-b312-76b4130ec052",
      "metadata": {
        "colab": {
          "base_uri": "https://localhost:8080/",
          "height": 123
        },
        "id": "5918303f-edc6-4bdd-b312-76b4130ec052",
        "outputId": "54dbe4ac-a660-4ffd-f0cb-96f18cc999a3"
      },
      "outputs": [
        {
          "output_type": "display_data",
          "data": {
            "text/plain": [
              "<IPython.core.display.HTML object>"
            ],
            "text/html": [
              "Tracking run with wandb version 0.20.1"
            ]
          },
          "metadata": {}
        },
        {
          "output_type": "display_data",
          "data": {
            "text/plain": [
              "<IPython.core.display.HTML object>"
            ],
            "text/html": [
              "Run data is saved locally in <code>/content/PML_DL_Final_Project/wandb/run-20250618_145842-lol5s6l3</code>"
            ]
          },
          "metadata": {}
        },
        {
          "output_type": "display_data",
          "data": {
            "text/plain": [
              "<IPython.core.display.HTML object>"
            ],
            "text/html": [
              "Syncing run <strong><a href='https://wandb.ai/jac-zac/PML_DL_Final_Project/runs/lol5s6l3' target=\"_blank\">different-serenity-3</a></strong> to <a href='https://wandb.ai/jac-zac/PML_DL_Final_Project' target=\"_blank\">Weights & Biases</a> (<a href='https://wandb.me/developer-guide' target=\"_blank\">docs</a>)<br>"
            ]
          },
          "metadata": {}
        },
        {
          "output_type": "display_data",
          "data": {
            "text/plain": [
              "<IPython.core.display.HTML object>"
            ],
            "text/html": [
              " View project at <a href='https://wandb.ai/jac-zac/PML_DL_Final_Project' target=\"_blank\">https://wandb.ai/jac-zac/PML_DL_Final_Project</a>"
            ]
          },
          "metadata": {}
        },
        {
          "output_type": "display_data",
          "data": {
            "text/plain": [
              "<IPython.core.display.HTML object>"
            ],
            "text/html": [
              " View run at <a href='https://wandb.ai/jac-zac/PML_DL_Final_Project/runs/lol5s6l3' target=\"_blank\">https://wandb.ai/jac-zac/PML_DL_Final_Project/runs/lol5s6l3</a>"
            ]
          },
          "metadata": {}
        },
        {
          "output_type": "stream",
          "name": "stderr",
          "text": [
            "\u001b[34m\u001b[1mwandb\u001b[0m:   1 of 1 files downloaded.  \n"
          ]
        }
      ],
      "source": [
        "import wandb\n",
        "num_classes = 10  # 🔢 Total number of class labels (e.g., digits 0–9 for MNIST)\n",
        "\n",
        "model_kwargs = {\n",
        "    \"num_classes\": num_classes,\n",
        "    \"time_emb_dim\": 128,  # Must match training config\n",
        "}\n",
        "\n",
        "# Initialize wandb run\n",
        "run = wandb.init()\n",
        "\n",
        "# Model name as expected by your `get_model` function\n",
        "model_name = \"unet\"\n",
        "ckpt_path = \"jac-zac/diffusion-project/model-epoch-24:v0\"\n",
        "\n",
        "# Load model\n",
        "model = load_pretrained_model(\n",
        "    model_name=model_name,\n",
        "    ckpt_path=ckpt_path,\n",
        "    device=device,\n",
        "    model_kwargs=model_kwargs,\n",
        "    wandb_run=run,\n",
        ")"
      ]
    },
    {
      "cell_type": "markdown",
      "id": "bc83aa1d-e94a-4214-aedc-8552b9e9233d",
      "metadata": {
        "id": "bc83aa1d-e94a-4214-aedc-8552b9e9233d"
      },
      "source": [
        "#### 💨 Initialize Diffusion Process"
      ]
    },
    {
      "cell_type": "code",
      "execution_count": 11,
      "id": "fc527c99-88a5-4c42-8c43-2625eea3c343",
      "metadata": {
        "colab": {
          "base_uri": "https://localhost:8080/",
          "height": 775
        },
        "id": "fc527c99-88a5-4c42-8c43-2625eea3c343",
        "outputId": "718bcf29-46d0-4966-ff4e-0df9251ee860"
      },
      "outputs": [
        {
          "output_type": "stream",
          "name": "stdout",
          "text": [
            "Generated 5 samples with labels [0, 1, 2, 3, 4]\n"
          ]
        },
        {
          "output_type": "display_data",
          "data": {
            "text/plain": [
              "<PIL.PngImagePlugin.PngImageFile image mode=RGBA size=885x740>"
            ],
            "image/png": "[encoded data removed]"
          },
          "metadata": {}
        }
      ],
      "source": [
        "from PIL import Image\n",
        "\n",
        "# 💫 Create diffusion sampler\n",
        "diffusion = Diffusion(img_size=28, device=device)\n",
        "plot_image_grid(\n",
        "    model,\n",
        "    diffusion,\n",
        "    n=n_samples,\n",
        "    max_steps=max_steps,\n",
        "    save_dir=save_dir,\n",
        "    device=device,\n",
        "    num_classes=num_classes,\n",
        ")\n",
        "\n",
        "# Display the images on the notebook\n",
        "out_path = os.path.join(save_dir, \"all_samples_grid.png\")\n",
        "display(Image.open(out_path))"
      ]
    }
  ],
  "metadata": {
    "accelerator": "GPU",
    "colab": {
      "gpuType": "T4",
      "provenance": []
    },
    "kernelspec": {
      "display_name": "Python 3 (ipykernel)",
      "language": "python",
      "name": "python3"
    },
    "language_info": {
      "codemirror_mode": {
        "name": "ipython",
        "version": 3
      },
      "file_extension": ".py",
      "mimetype": "text/x-python",
      "name": "python",
      "nbconvert_exporter": "python",
      "pygments_lexer": "ipython3",
      "version": "3.13.5"
    }
  },
  "nbformat": 4,
  "nbformat_minor": 5
}