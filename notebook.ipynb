{
 "cells": [
  {
   "cell_type": "markdown",
   "id": "1fdefdf5-2a0a-4ca7-9672-7e1544aad8a1",
   "metadata": {
    "id": "1fdefdf5-2a0a-4ca7-9672-7e1544aad8a1"
   },
   "source": [
    "# 🧙‍♂️ Sample Generation with Pretrained Model\n",
    "\n",
    "[![Open In Colab](https://colab.research.google.com/assets/colab-badge.svg)](https://colab.research.google.com/github/Jac-Zac/PML_DL_Final_Project/blob/master/notebook.ipynb)"
   ]
  },
  {
   "cell_type": "markdown",
   "id": "5LsZiP4Jfsqw",
   "metadata": {
    "id": "5LsZiP4Jfsqw",
    "jp-MarkdownHeadingCollapsed": true
   },
   "source": [
    "### Initial setup ⚙️"
   ]
  },
  {
   "cell_type": "code",
   "execution_count": 8,
   "id": "hjV2GS6MlwQP",
   "metadata": {
    "colab": {
     "base_uri": "https://localhost:8080/"
    },
    "id": "hjV2GS6MlwQP",
    "outputId": "858117b8-00b4-4c4b-d213-d15fa03d81d5"
   },
   "outputs": [
    {
     "name": "stdout",
     "output_type": "stream",
     "text": [
      "Cloning into 'PML_DL_Final_Project'...\n",
      "remote: Enumerating objects: 298, done.\u001b[K\n",
      "remote: Counting objects: 100% (298/298), done.\u001b[K\n",
      "remote: Compressing objects: 100% (209/209), done.\u001b[K\n",
      "remote: Total 298 (delta 160), reused 218 (delta 86), pack-reused 0 (from 0)\u001b[K\n",
      "Receiving objects: 100% (298/298), 80.87 KiB | 637.00 KiB/s, done.\n",
      "Resolving deltas: 100% (160/160), done.\n"
     ]
    }
   ],
   "source": [
    "import os\n",
    "\n",
    "repo_dir = \"PML_DL_Final_Project\"\n",
    "\n",
    "if not os.path.exists(repo_dir):\n",
    "    !git clone https://github.com/Jac-Zac/PML_DL_Final_Project.git\n",
    "else:\n",
    "    print(f\"Repository '{repo_dir}' already exists. Skipping clone.\")"
   ]
  },
  {
   "cell_type": "code",
   "execution_count": 9,
   "id": "8amRYEyKfb8n",
   "metadata": {
    "colab": {
     "base_uri": "https://localhost:8080/"
    },
    "id": "8amRYEyKfb8n",
    "outputId": "f5094344-61cd-4eb4-a363-847ad61d2e63"
   },
   "outputs": [
    {
     "name": "stdout",
     "output_type": "stream",
     "text": [
      "/content/PML_DL_Final_Project/PML_DL_Final_Project\n"
     ]
    }
   ],
   "source": [
    "if os.path.isdir(repo_dir):\n",
    "    %cd $repo_dir\n",
    "    !pip install dotenv -q\n",
    "else:\n",
    "    print(f\"Directory '{repo_dir}' not found. Please clone the repository first.\")"
   ]
  },
  {
   "cell_type": "markdown",
   "id": "064b0bc4-6bf5-40b0-8af7-5c30a02c1ada",
   "metadata": {
    "id": "064b0bc4-6bf5-40b0-8af7-5c30a02c1ada"
   },
   "source": [
    "### 📦 Imports"
   ]
  },
  {
   "cell_type": "code",
   "execution_count": 10,
   "id": "31f6b33e-bec1-47a2-afe0-c57ca840a622",
   "metadata": {
    "id": "31f6b33e-bec1-47a2-afe0-c57ca840a622"
   },
   "outputs": [],
   "source": [
    "import torch\n",
    "import numpy as np\n",
    "\n",
    "from src.train.train import train\n",
    "from src.utils.data import get_dataloaders\n",
    "from src.models.diffusion import Diffusion\n",
    "from src.utils.plots import plot_image_grid\n",
    "from src.utils.environment import get_device, set_seed, load_pretrained_model\n",
    "\n",
    "# Since on a notebook we can have nicer bars\n",
    "import tdqm.notebook as tdqm"
   ]
  },
  {
   "cell_type": "markdown",
   "id": "23ac9c3b-0116-4082-bfe9-9ddeac4581b3",
   "metadata": {
    "id": "23ac9c3b-0116-4082-bfe9-9ddeac4581b3"
   },
   "source": [
    "### 🛠️ Configuration Parameters"
   ]
  },
  {
   "cell_type": "code",
   "execution_count": 11,
   "id": "d3cce8cf-ffe7-43a1-9365-11448299f119",
   "metadata": {
    "id": "d3cce8cf-ffe7-43a1-9365-11448299f119"
   },
   "outputs": [],
   "source": [
    "epochs = 10\n",
    "batch_size = 128\n",
    "learning_rate = 1e-3\n",
    "seed = 1337\n",
    "checkpoint = None  # e.g., \"checkpoints/last.ckpt\"\n",
    "model_name = \"unet\"\n",
    "method = \"diffusion\"  # or \"flow\""
   ]
  },
  {
   "cell_type": "markdown",
   "id": "a345d2fb-62f0-4d0d-9cfb-12ca609dcba8",
   "metadata": {
    "id": "a345d2fb-62f0-4d0d-9cfb-12ca609dcba8"
   },
   "source": [
    "### 🧪 Setup: Seed and Device"
   ]
  },
  {
   "cell_type": "code",
   "execution_count": 12,
   "id": "d158ca43-df3a-45a2-9e9d-47ced73866ff",
   "metadata": {
    "id": "d158ca43-df3a-45a2-9e9d-47ced73866ff"
   },
   "outputs": [],
   "source": [
    "set_seed(seed)\n",
    "device = get_device()\n",
    "os.makedirs(\"checkpoints\", exist_ok=True)"
   ]
  },
  {
   "cell_type": "markdown",
   "id": "a864b6ab-979f-4e2c-a83b-c2f096be6c2a",
   "metadata": {
    "id": "a864b6ab-979f-4e2c-a83b-c2f096be6c2a",
    "jp-MarkdownHeadingCollapsed": true
   },
   "source": [
    "## 🧠 Model Training"
   ]
  },
  {
   "cell_type": "markdown",
   "id": "a3544b19-39dd-4a46-a37a-53a761878804",
   "metadata": {},
   "source": [
    "#### 📥 Data Loading"
   ]
  },
  {
   "cell_type": "code",
   "execution_count": 13,
   "id": "56d388d2-7c0b-4657-9ec2-8d7de4dd451a",
   "metadata": {
    "colab": {
     "base_uri": "https://localhost:8080/"
    },
    "id": "56d388d2-7c0b-4657-9ec2-8d7de4dd451a",
    "outputId": "9a2e0af1-3b1a-4bce-f1f3-e6f49953eca7"
   },
   "outputs": [
    {
     "name": "stderr",
     "output_type": "stream",
     "text": [
      "100%|██████████| 9.91M/9.91M [00:00<00:00, 17.4MB/s]\n",
      "100%|██████████| 28.9k/28.9k [00:00<00:00, 501kB/s]\n",
      "100%|██████████| 1.65M/1.65M [00:00<00:00, 4.48MB/s]\n",
      "100%|██████████| 4.54k/4.54k [00:00<00:00, 10.9MB/s]\n"
     ]
    }
   ],
   "source": [
    "train_loader, val_loader = get_dataloaders(batch_size=batch_size)"
   ]
  },
  {
   "cell_type": "markdown",
   "id": "c4103982-141a-4886-9f33-969cc2b5aab4",
   "metadata": {},
   "source": [
    "#### Training"
   ]
  },
  {
   "cell_type": "code",
   "execution_count": null,
   "id": "296d3d48-2e41-4c2a-a796-c9ae5e577eac",
   "metadata": {
    "colab": {
     "base_uri": "https://localhost:8080/",
     "height": 694
    },
    "id": "296d3d48-2e41-4c2a-a796-c9ae5e577eac",
    "outputId": "847bc604-2540-40a5-b3f5-da5fbad6c296"
   },
   "outputs": [],
   "source": [
    "# NOTE: Currently assumes 10 classes are hardcoded\n",
    "num_classes = 10\n",
    "model_kwargs = {\"num_classes\": num_classes}\n",
    "\n",
    "model = train(\n",
    "    num_epochs=epochs,\n",
    "    device=device,\n",
    "    dataloader=train_loader,\n",
    "    val_loader=val_loader,\n",
    "    learning_rate=learning_rate,\n",
    "    use_wandb=True,\n",
    "    checkpoint_path=checkpoint,\n",
    "    model_name=model_name,\n",
    "    model_kwargs=model_kwargs,\n",
    "    method=method,\n",
    ")"
   ]
  },
  {
   "cell_type": "markdown",
   "id": "d2cbc5f8-901d-466b-ad2a-9929037e20b0",
   "metadata": {},
   "source": [
    "## 💡 Image Generation"
   ]
  },
  {
   "cell_type": "markdown",
   "id": "4e9b0a39-6cfe-48f1-8cd9-3a0114637c05",
   "metadata": {},
   "source": [
    "#### 🛠️ Configuration Parameters"
   ]
  },
  {
   "cell_type": "code",
   "execution_count": null,
   "id": "b288654b-668c-4ce7-8f10-d862677e29e4",
   "metadata": {},
   "outputs": [],
   "source": [
    "n_samples = 5\n",
    "save_dir = \"samples\"\n",
    "max_steps = 1000\n",
    "model_name = \"unet\"\n",
    "ckpt_path = \"checkpoints/best_model.pth\"  # or use your last checkpoint"
   ]
  },
  {
   "cell_type": "markdown",
   "id": "b338dd8c-30ab-4e9a-bb50-86d89e8e13df",
   "metadata": {},
   "source": [
    "#### 🔌 Load Pretrained Model"
   ]
  },
  {
   "cell_type": "code",
   "execution_count": null,
   "id": "5918303f-edc6-4bdd-b312-76b4130ec052",
   "metadata": {},
   "outputs": [],
   "source": [
    "num_classes = 10  # 🔢 Total number of class labels (e.g., digits 0–9 for MNIST)\n",
    "\n",
    "model_kwargs = {\n",
    "    \"num_classes\": num_classes,\n",
    "    \"time_emb_dim\": 128,  # Must match training config\n",
    "}\n",
    "\n",
    "model = load_pretrained_model(\n",
    "    model_name=model_name,\n",
    "    ckpt_path=ckpt_path,\n",
    "    device=device,\n",
    "    model_kwargs=model_kwargs,\n",
    ")"
   ]
  },
  {
   "cell_type": "markdown",
   "id": "bc83aa1d-e94a-4214-aedc-8552b9e9233d",
   "metadata": {},
   "source": [
    "#### 💨 Initialize Diffusion Process"
   ]
  },
  {
   "cell_type": "code",
   "execution_count": null,
   "id": "fc527c99-88a5-4c42-8c43-2625eea3c343",
   "metadata": {},
   "outputs": [],
   "source": [
    "# 💫 Create diffusion sampler\n",
    "diffusion = Diffusion(img_size=28, device=device)\n",
    "\n",
    "# 🕒 Define intermediate steps to visualize progression\n",
    "num_intermediate = 5\n",
    "intermediate_steps = np.linspace(max_steps, 0, num_intermediate + 1, dtype=int).tolist()\n"
   ]
  },
  {
   "cell_type": "markdown",
   "id": "20b6b57d-b70c-4b01-89fd-20ed4bfa30a4",
   "metadata": {},
   "source": [
    "#### 🖼️ Generate Samples"
   ]
  },
  {
   "cell_type": "code",
   "execution_count": null,
   "id": "8557c7d2-3caa-4a74-91b1-df381eaf717d",
   "metadata": {},
   "outputs": [],
   "source": [
    "# 🏷️ Generate label batch: 0, 1, 2, ..., (n_samples - 1) % num_classes\n",
    "y = torch.arange(n_samples) % num_classes\n",
    "y = y.to(device)\n",
    "\n",
    "# 🖌️ Generate samples with intermediate steps logged\n",
    "all_samples_grouped = diffusion.sample(\n",
    "    model=model,\n",
    "    t_sample_times=intermediate_steps,\n",
    "    log_intermediate=True,\n",
    "    y=y,  # 👈 Conditional generation\n",
    ")\n",
    "\n",
    "print(f\"✅ Generated {n_samples} samples with labels: {y.tolist()}\")"
   ]
  },
  {
   "cell_type": "markdown",
   "id": "3f0cfa45-73db-4e21-9d67-086625a14e92",
   "metadata": {},
   "source": [
    "#### 🧱 Reshape & Display"
   ]
  },
  {
   "cell_type": "code",
   "execution_count": null,
   "id": "65e1f14a-655d-4a2c-889f-142b13365a52",
   "metadata": {},
   "outputs": [],
   "source": [
    "# 📷 Display the generated image grid inline (works in Colab or Jupyter)\n",
    "from PIL import Image\n",
    "from IPython.display import display\n",
    "\n",
    "stacked = torch.stack(all_samples_grouped)         # (T, B, C, H, W)\n",
    "permuted = stacked.permute(1, 0, 2, 3, 4)           # (B, T, C, H, W)\n",
    "flat_samples = permuted.reshape(-1, *permuted.shape[2:])  # (B*T, C, H, W)\n",
    "\n",
    "# 💾 Save generated image grid\n",
    "os.makedirs(save_dir, exist_ok=True)\n",
    "out_path = os.path.join(save_dir, \"all_samples_grid.png\")\n",
    "plot_image_grid(flat_samples, out_path, num_samples=n_samples, timesteps=intermediate_steps)\n",
    "\n",
    "display(Image.open(out_path))"
   ]
  }
 ],
 "metadata": {
  "accelerator": "GPU",
  "colab": {
   "gpuType": "T4",
   "provenance": []
  },
  "jupytext": {
   "main_language": "python"
  },
  "kernelspec": {
   "display_name": "Python 3 (ipykernel)",
   "language": "python",
   "name": "python3"
  },
  "language_info": {
   "codemirror_mode": {
    "name": "ipython",
    "version": 3
   },
   "file_extension": ".py",
   "mimetype": "text/x-python",
   "name": "python",
   "nbconvert_exporter": "python",
   "pygments_lexer": "ipython3",
   "version": "3.13.5"
  }
 },
 "nbformat": 4,
 "nbformat_minor": 5
}
