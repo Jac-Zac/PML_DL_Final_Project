{
 "cells": [
  {
   "cell_type": "markdown",
   "id": "1fdefdf5-2a0a-4ca7-9672-7e1544aad8a1",
   "metadata": {
    "id": "1fdefdf5-2a0a-4ca7-9672-7e1544aad8a1"
   },
   "source": [
    "# 🧙‍♂️ Training diffusion model\n",
    "\n",
    "[![Open In Colab](https://colab.research.google.com/assets/colab-badge.svg)](https://colab.research.google.com/github/Jac-Zac/PML_DL_Final_Project/blob/master/notebooks/notebook_train.ipynb)"
   ]
  },
  {
   "cell_type": "markdown",
   "id": "5LsZiP4Jfsqw",
   "metadata": {
    "id": "5LsZiP4Jfsqw"
   },
   "source": [
    "### Initial setup ⚙️"
   ]
  },
  {
   "cell_type": "code",
   "execution_count": 1,
   "id": "hjV2GS6MlwQP",
   "metadata": {
    "colab": {
     "base_uri": "https://localhost:8080/"
    },
    "id": "hjV2GS6MlwQP",
    "outputId": "3dcc2aab-54f7-4ba1-9089-89188cba5c12"
   },
   "outputs": [
    {
     "name": "stdout",
     "output_type": "stream",
     "text": [
      "Local Run, make sure you are inside 'PML_DL_Final_Project' with the latest updates (git pull).\n",
      "Moving to root directory to have correct access to all of the files\n"
     ]
    }
   ],
   "source": [
    "import os\n",
    "import sys\n",
    "\n",
    "repo_dir = \"PML_DL_Final_Project\"\n",
    "\n",
    "def in_colab():\n",
    "    # Colab sets this environment variable\n",
    "    return 'COLAB_GPU' in os.environ\n",
    "\n",
    "if in_colab():\n",
    "    # In Colab: clone repo if not present\n",
    "    if not os.path.exists(repo_dir):\n",
    "        !git clone https://github.com/Jac-Zac/PML_DL_Final_Project.git\n",
    "        os.chdir(repo_dir)\n",
    "        # Install requirements quietly\n",
    "        !pip install -r requirements.txt -q\n",
    "    else:\n",
    "        os.chdir(repo_dir)\n",
    "        print(f\"Repository '{repo_dir}' already exists. Skipping clone.\")\n",
    "else:\n",
    "    # Local: assume repo is already cloned\n",
    "    print(f\"Local Run, make sure you are inside '{repo_dir}' with the latest updates (git pull).\")\n",
    "    print(f\"Moving to root directory to have correct access to all of the files\")\n",
    "    os.chdir(\"..\")"
   ]
  },
  {
   "cell_type": "markdown",
   "id": "064b0bc4-6bf5-40b0-8af7-5c30a02c1ada",
   "metadata": {
    "id": "064b0bc4-6bf5-40b0-8af7-5c30a02c1ada"
   },
   "source": [
    "### 📦 Imports"
   ]
  },
  {
   "cell_type": "code",
   "execution_count": 12,
   "id": "31f6b33e-bec1-47a2-afe0-c57ca840a622",
   "metadata": {
    "id": "31f6b33e-bec1-47a2-afe0-c57ca840a622"
   },
   "outputs": [],
   "source": [
    "import torch\n",
    "from torch import nn, Tensor\n",
    "import numpy as np\n",
    "\n",
    "from src.utils.data import get_dataloaders\n",
    "from src.models.unet import DiffusionUNet\n",
    "from src.utils.environment import get_device, set_seed, load_pretrained_model\n",
    "\n",
    "# Since on a notebook we can have nicer bars\n",
    "import tqdm.notebook as tqdm"
   ]
  },
  {
   "cell_type": "markdown",
   "id": "23ac9c3b-0116-4082-bfe9-9ddeac4581b3",
   "metadata": {
    "id": "23ac9c3b-0116-4082-bfe9-9ddeac4581b3"
   },
   "source": [
    "### 🛠️ Configuration Parameters"
   ]
  },
  {
   "cell_type": "code",
   "execution_count": 6,
   "id": "d3cce8cf-ffe7-43a1-9365-11448299f119",
   "metadata": {
    "id": "d3cce8cf-ffe7-43a1-9365-11448299f119"
   },
   "outputs": [],
   "source": [
    "epochs = 20\n",
    "batch_size = 128\n",
    "learning_rate = 2e-3\n",
    "seed = 1337\n",
    "checkpoint = None  # e.g., \"checkpoints/last.ckpt\"\n",
    "model_name = \"unet\"\n",
    "method = \"diffusion\"  # or \"flow\""
   ]
  },
  {
   "cell_type": "markdown",
   "id": "a345d2fb-62f0-4d0d-9cfb-12ca609dcba8",
   "metadata": {
    "id": "a345d2fb-62f0-4d0d-9cfb-12ca609dcba8"
   },
   "source": [
    "### 🧪 Setup: Seed and Device"
   ]
  },
  {
   "cell_type": "code",
   "execution_count": 7,
   "id": "d158ca43-df3a-45a2-9e9d-47ced73866ff",
   "metadata": {
    "id": "d158ca43-df3a-45a2-9e9d-47ced73866ff"
   },
   "outputs": [],
   "source": [
    "set_seed(seed)\n",
    "device = get_device()\n",
    "os.makedirs(\"checkpoints\", exist_ok=True)"
   ]
  },
  {
   "cell_type": "markdown",
   "id": "a864b6ab-979f-4e2c-a83b-c2f096be6c2a",
   "metadata": {
    "id": "a864b6ab-979f-4e2c-a83b-c2f096be6c2a"
   },
   "source": [
    "## 🧠 Model Training"
   ]
  },
  {
   "cell_type": "markdown",
   "id": "a3544b19-39dd-4a46-a37a-53a761878804",
   "metadata": {
    "id": "a3544b19-39dd-4a46-a37a-53a761878804"
   },
   "source": [
    "#### 📥 Data Loading"
   ]
  },
  {
   "cell_type": "code",
   "execution_count": 8,
   "id": "56d388d2-7c0b-4657-9ec2-8d7de4dd451a",
   "metadata": {
    "colab": {
     "base_uri": "https://localhost:8080/"
    },
    "id": "56d388d2-7c0b-4657-9ec2-8d7de4dd451a",
    "outputId": "2bdac2df-ce7d-4ee9-d7a4-e674f2848caf"
   },
   "outputs": [],
   "source": [
    "# Returns DataLoaders that yield (image, timestep, label)\n",
    "train_loader, val_loader = get_dataloaders(batch_size=batch_size)"
   ]
  },
  {
   "cell_type": "markdown",
   "id": "7aa5f4d3",
   "metadata": {},
   "source": [
    "#### Model"
   ]
  },
  {
   "cell_type": "code",
   "execution_count": 16,
   "id": "5a791a78",
   "metadata": {
    "colab": {
     "base_uri": "https://localhost:8080/",
     "height": 603
    },
    "id": "296d3d48-2e41-4c2a-a796-c9ae5e577eac",
    "outputId": "a13eb92c-f555-477d-a48d-53397b1c9a42"
   },
   "outputs": [],
   "source": [
    "class Flow(nn.Module):\n",
    "    def __init__(self, dim: int = 28*28, h: int = 256):\n",
    "        super().__init__()\n",
    "        # Replace the MLP with the UNet (DiffusionUNet) architecture\n",
    "        self.model = DiffusionUNet(in_channels=1, out_channels=1)\n",
    "    \n",
    "    def forward(self, t: Tensor, x_t: Tensor) -> Tensor:\n",
    "        # Reshape the flat image tensors back into image shapes\n",
    "        x_images = x_t.view(-1, 1, 28, 28)\n",
    "        out = self.model(x_images, t)\n",
    "        return out.view(out.size(0), -1)  # flatten output to match dx_t shape\n",
    "\n",
    "        return self.model(x_images, t)\n",
    "    \n",
    "    def step(self, x_t: Tensor, t_start: Tensor, t_end: Tensor) -> Tensor:\n",
    "        # Implement Euler's step using the UNet model\n",
    "        t_start = t_start.view(1, 1).expand(x_t.shape[0], 1)\n",
    "        mid_time = t_start + (t_end - t_start) / 2\n",
    "        mid_x = x_t + self(t_start, x_t) * (t_end - t_start) / 2\n",
    "        return x_t + (t_end - t_start) * self(mid_time, mid_x)\n"
   ]
  },
  {
   "cell_type": "markdown",
   "id": "c4103982-141a-4886-9f33-969cc2b5aab4",
   "metadata": {
    "id": "c4103982-141a-4886-9f33-969cc2b5aab4"
   },
   "source": [
    "#### Training"
   ]
  },
  {
   "cell_type": "code",
   "execution_count": null,
   "id": "296d3d48-2e41-4c2a-a796-c9ae5e577eac",
   "metadata": {},
   "outputs": [],
   "source": [
    "flow = Flow()\n",
    "optimizer = torch.optim.Adam(flow.parameters(), 1e-3)\n",
    "loss_fn = nn.MSELoss()\n",
    "\n",
    "for epoch in range(1):\n",
    "    for images, _, _ in train_loader:\n",
    "        x_1 = images.view(images.size(0), -1)\n",
    "        x_0 = torch.randn_like(x_1)\n",
    "        t = torch.rand(len(x_1), 1)\n",
    "        x_t = (1 - t) * x_0 + t * x_1\n",
    "        dx_t = x_1 - x_0\n",
    "        optimizer.zero_grad()\n",
    "        loss_fn(flow(t=t, x_t=x_t), dx_t).backward()\n",
    "        optimizer.step()\n",
    "\n",
    "print('Training completed')"
   ]
  }
 ],
 "metadata": {
  "accelerator": "GPU",
  "colab": {
   "gpuType": "T4",
   "provenance": []
  },
  "kernelspec": {
   "display_name": "PML_DL_ENV",
   "language": "python",
   "name": ".venv"
  },
  "language_info": {
   "codemirror_mode": {
    "name": "ipython",
    "version": 3
   },
   "file_extension": ".py",
   "mimetype": "text/x-python",
   "name": "python",
   "nbconvert_exporter": "python",
   "pygments_lexer": "ipython3",
   "version": "3.12.11"
  }
 },
 "nbformat": 4,
 "nbformat_minor": 5
}
