{
 "cells": [
  {
   "cell_type": "markdown",
   "id": "1fdefdf5-2a0a-4ca7-9672-7e1544aad8a1",
   "metadata": {
    "id": "1fdefdf5-2a0a-4ca7-9672-7e1544aad8a1"
   },
   "source": [
    "# 🧙‍♂️ Sample Generation with Pretrained Model + LLLA\n",
    "\n",
    "[![Open In Colab](https://colab.research.google.com/assets/colab-badge.svg)](https://colab.research.google.com/github/Jac-Zac/PML_DL_Final_Project/blob/master/notebooks/notebook_llla.ipynb)"
   ]
  },
  {
   "cell_type": "markdown",
   "id": "5LsZiP4Jfsqw",
   "metadata": {
    "id": "5LsZiP4Jfsqw"
   },
   "source": [
    "### Initial setup ⚙️"
   ]
  },
  {
   "cell_type": "code",
   "execution_count": 7,
   "id": "hjV2GS6MlwQP",
   "metadata": {
    "colab": {
     "base_uri": "https://localhost:8080/"
    },
    "id": "hjV2GS6MlwQP",
    "outputId": "f71a7d94-7ee8-4f29-b83e-adecb4af1d0c"
   },
   "outputs": [
    {
     "name": "stdout",
     "output_type": "stream",
     "text": [
      "Local Run, make sure you are inside 'PML_DL_Final_Project' with the latest updates (git pull).\n",
      "Moving to root directory to have correct access to all of the files\n"
     ]
    }
   ],
   "source": [
    "import os\n",
    "import sys\n",
    "\n",
    "repo_dir = \"PML_DL_Final_Project\"\n",
    "\n",
    "def in_colab():\n",
    "    # Colab sets this environment variable\n",
    "    return 'COLAB_GPU' in os.environ\n",
    "\n",
    "if in_colab():\n",
    "    # In Colab: clone repo if not present\n",
    "    if not os.path.exists(repo_dir):\n",
    "        !git clone https://github.com/Jac-Zac/PML_DL_Final_Project.git\n",
    "        os.chdir(repo_dir)\n",
    "        # Install requirements quietly\n",
    "        !pip install -r requirements.txt -q\n",
    "    else:\n",
    "        print(f\"Repository '{repo_dir}' already exists. Skipping clone.\")\n",
    "else:\n",
    "    # Local: assume repo is already cloned\n",
    "    print(f\"Local Run, make sure you are inside '{repo_dir}' with the latest updates (git pull).\")\n",
    "    print(f\"Moving to root directory to have correct access to all of the files\")\n",
    "    os.chdir(\"..\")"
   ]
  },
  {
   "cell_type": "markdown",
   "id": "064b0bc4-6bf5-40b0-8af7-5c30a02c1ada",
   "metadata": {
    "id": "064b0bc4-6bf5-40b0-8af7-5c30a02c1ada"
   },
   "source": [
    "### 📦 Imports"
   ]
  },
  {
   "cell_type": "code",
   "execution_count": 9,
   "id": "31f6b33e-bec1-47a2-afe0-c57ca840a622",
   "metadata": {
    "id": "31f6b33e-bec1-47a2-afe0-c57ca840a622"
   },
   "outputs": [],
   "source": [
    "import torch\n",
    "import numpy as np\n",
    "\n",
    "from src.utils.data import get_dataloaders\n",
    "from src.models.diffusion import Diffusion\n",
    "from src.utils.plots import plot_image_grid\n",
    "from src.utils.environment import get_device, set_seed, load_pretrained_model\n",
    "\n",
    "# Since on a notebook we can have nicer bars\n",
    "import tqdm.notebook as tqdm"
   ]
  },
  {
   "cell_type": "markdown",
   "id": "a345d2fb-62f0-4d0d-9cfb-12ca609dcba8",
   "metadata": {
    "id": "a345d2fb-62f0-4d0d-9cfb-12ca609dcba8"
   },
   "source": [
    "### 🧪 Setup: Seed and Device"
   ]
  },
  {
   "cell_type": "code",
   "execution_count": 10,
   "id": "d158ca43-df3a-45a2-9e9d-47ced73866ff",
   "metadata": {
    "id": "d158ca43-df3a-45a2-9e9d-47ced73866ff"
   },
   "outputs": [],
   "source": [
    "seed = 1337\n",
    "set_seed(seed)\n",
    "device = get_device()\n",
    "os.makedirs(\"checkpoints\", exist_ok=True)"
   ]
  },
  {
   "cell_type": "markdown",
   "id": "d2cbc5f8-901d-466b-ad2a-9929037e20b0",
   "metadata": {
    "id": "d2cbc5f8-901d-466b-ad2a-9929037e20b0",
    "lines_to_next_cell": 0
   },
   "source": [
    "## 💡 Image Generation"
   ]
  },
  {
   "cell_type": "markdown",
   "id": "4e9b0a39-6cfe-48f1-8cd9-3a0114637c05",
   "metadata": {
    "id": "4e9b0a39-6cfe-48f1-8cd9-3a0114637c05"
   },
   "source": [
    "#### 🛠️ Configuration Parameters"
   ]
  },
  {
   "cell_type": "code",
   "execution_count": 11,
   "id": "b288654b-668c-4ce7-8f10-d862677e29e4",
   "metadata": {
    "id": "b288654b-668c-4ce7-8f10-d862677e29e4"
   },
   "outputs": [],
   "source": [
    "n_samples = 5\n",
    "save_dir = \"samples\"\n",
    "max_steps = 1000\n",
    "model_name = \"unet\"\n",
    "method = \"diffusion\"  # or \"flow\"\n",
    "ckpt_path = \"checkpoints/best_model.pth\"  # or use your last checkpoint"
   ]
  },
  {
   "cell_type": "markdown",
   "id": "b338dd8c-30ab-4e9a-bb50-86d89e8e13df",
   "metadata": {
    "id": "b338dd8c-30ab-4e9a-bb50-86d89e8e13df"
   },
   "source": [
    "#### 🔌 Load Pretrained Model"
   ]
  },
  {
   "cell_type": "code",
   "execution_count": null,
   "id": "5918303f-edc6-4bdd-b312-76b4130ec052",
   "metadata": {
    "colab": {
     "base_uri": "https://localhost:8080/",
     "height": 198
    },
    "id": "5918303f-edc6-4bdd-b312-76b4130ec052",
    "lines_to_next_cell": 0,
    "outputId": "4fbadd24-0523-415d-d248-c2f44fc2f371"
   },
   "outputs": [],
   "source": [
    "import wandb\n",
    "num_classes = 10  # Total number of class labels (e.g., digits 0–9 for MNIST)\n",
    "\n",
    "model_kwargs = {\n",
    "    \"num_classes\": num_classes,\n",
    "    \"time_emb_dim\": 128,  # Must match training config\n",
    "}\n",
    "# Model name as expected by your `get_model` function\n",
    "model_name = \"unet\"\n",
    "ckpt_path = \"jac-zac/diffusion-project/best-model:v22\"\n",
    "\n",
    "# Load pretrained MAP model using best checkpoint\n",
    "# By default since I'm passing the path to an artifact it will use Wandb\n",
    "# Search there direcly via the API\n",
    "model = load_pretrained_model(\n",
    "    model_name=model_name,\n",
    "    ckpt_path=ckpt_path,\n",
    "    device=device,\n",
    "    model_kwargs=model_kwargs,\n",
    ")"
   ]
  },
  {
   "cell_type": "markdown",
   "id": "bc83aa1d-e94a-4214-aedc-8552b9e9233d",
   "metadata": {
    "id": "bc83aa1d-e94a-4214-aedc-8552b9e9233d",
    "lines_to_next_cell": 0
   },
   "source": [
    "#### 💨 Initialize Diffusion Process"
   ]
  },
  {
   "cell_type": "code",
   "execution_count": null,
   "id": "fc527c99-88a5-4c42-8c43-2625eea3c343",
   "metadata": {
    "colab": {
     "base_uri": "https://localhost:8080/",
     "height": 370
    },
    "id": "fc527c99-88a5-4c42-8c43-2625eea3c343",
    "outputId": "6d42d44f-d9cc-4f6b-9b1f-ed996e7e6a32"
   },
   "outputs": [],
   "source": [
    "from PIL import Image\n",
    "\n",
    "# 💫 Create diffusion sampler\n",
    "diffusion = Diffusion(img_size=28, device=device)\n",
    "plot_image_grid(\n",
    "    model,\n",
    "    diffusion,\n",
    "    n=n_samples,\n",
    "    max_steps=max_steps,\n",
    "    save_dir=save_dir,\n",
    "    device=device,\n",
    "    num_classes=num_classes,\n",
    ")\n",
    "\n",
    "# Display the images on the notebook\n",
    "out_path = os.path.join(save_dir, \"all_samples_grid.png\")\n",
    "display(Image.open(out_path))"
   ]
  },
  {
   "cell_type": "markdown",
   "id": "9f986a39",
   "metadata": {
    "id": "9f986a39"
   },
   "source": [
    "### 💪 Fit Laplace approximation"
   ]
  },
  {
   "cell_type": "code",
   "execution_count": null,
   "id": "6d1afeeb",
   "metadata": {
    "colab": {
     "base_uri": "https://localhost:8080/"
    },
    "id": "6d1afeeb",
    "lines_to_next_cell": 0,
    "outputId": "4c7860e1-47f0-4a50-b82b-549dd63a5fa3"
   },
   "outputs": [
    {
     "name": "stderr",
     "output_type": "stream",
     "text": [
      "100%|██████████| 9.91M/9.91M [00:00<00:00, 53.1MB/s]\n",
      "100%|██████████| 28.9k/28.9k [00:00<00:00, 1.78MB/s]\n",
      "100%|██████████| 1.65M/1.65M [00:00<00:00, 14.8MB/s]\n",
      "100%|██████████| 4.54k/4.54k [00:00<00:00, 6.27MB/s]\n",
      "Fitting:   0%|          | 1/469 [00:04<32:35,  4.18s/it]"
     ]
    }
   ],
   "source": [
    "from src.models.llla_model import LaplaceApproxModel\n",
    "\n",
    "batch_size = 128\n",
    "\n",
    "# Prepare data loaders for the Laplace fit\n",
    "train_loader, _ = get_dataloaders(batch_size=batch_size)\n",
    "\n",
    "# Wrap diffusion model with your CustomModel for Laplace last layer approx\n",
    "custom_model = LaplaceApproxModel(model, train_loader, args=None, config=None)\n",
    "\n",
    "# Move model to device\n",
    "custom_model.to(device)\n",
    "\n",
    "# Now the custom model is fit during initialization, or you can call fit explicitly:\n",
    "custom_model.fit(train_loader)"
   ]
  },
  {
   "cell_type": "markdown",
   "id": "3b667cd2",
   "metadata": {
    "id": "3b667cd2"
   },
   "source": []
  }
 ],
 "metadata": {
  "colab": {
   "provenance": []
  },
  "kernelspec": {
   "display_name": "Python 3 (ipykernel)",
   "language": "python",
   "name": "python3"
  },
  "language_info": {
   "codemirror_mode": {
    "name": "ipython",
    "version": 3
   },
   "file_extension": ".py",
   "mimetype": "text/x-python",
   "name": "python",
   "nbconvert_exporter": "python",
   "pygments_lexer": "ipython3",
   "version": "3.12.11"
  }
 },
 "nbformat": 4,
 "nbformat_minor": 5
}
