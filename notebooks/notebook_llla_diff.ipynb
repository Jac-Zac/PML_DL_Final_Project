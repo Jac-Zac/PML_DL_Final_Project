{
  "cells": [
    {
      "cell_type": "markdown",
      "id": "1fdefdf5-2a0a-4ca7-9672-7e1544aad8a1",
      "metadata": {
        "id": "1fdefdf5-2a0a-4ca7-9672-7e1544aad8a1"
      },
      "source": [
        "# 🧙‍♂️ Sample Generation with Pretrained Model + LLLA\n",
        "\n",
        "[![Open In Colab](https://colab.research.google.com/assets/colab-badge.svg)](https://colab.research.google.com/github/Jac-Zac/PML_DL_Final_Project/blob/master/notebooks/notebook_llla_diff.ipynb)"
      ]
    },
    {
      "cell_type": "markdown",
      "id": "5LsZiP4Jfsqw",
      "metadata": {
        "id": "5LsZiP4Jfsqw"
      },
      "source": [
        "### Initial setup ⚙️"
      ]
    },
    {
      "cell_type": "code",
      "source": [
        "# !pip install laplace-torch"
      ],
      "metadata": {
        "id": "MvAelYDxQPJO"
      },
      "id": "MvAelYDxQPJO",
      "execution_count": null,
      "outputs": []
    },
    {
      "cell_type": "code",
      "execution_count": 1,
      "id": "d346166f-906a-44cf-a38b-9b87a8ed2b40",
      "metadata": {
        "id": "d346166f-906a-44cf-a38b-9b87a8ed2b40"
      },
      "outputs": [],
      "source": [
        "try:\n",
        "    import google.colab\n",
        "    IN_COLAB = True\n",
        "except ImportError:\n",
        "    IN_COLAB = False"
      ]
    },
    {
      "cell_type": "code",
      "execution_count": 2,
      "id": "0c880eaf-d325-40af-8b9a-a965d417023e",
      "metadata": {
        "colab": {
          "base_uri": "https://localhost:8080/"
        },
        "id": "0c880eaf-d325-40af-8b9a-a965d417023e",
        "outputId": "33c95097-ba56-435e-8676-92f234de3937"
      },
      "outputs": [
        {
          "output_type": "stream",
          "name": "stdout",
          "text": [
            "Cloning into 'PML_DL_Final_Project'...\n",
            "remote: Enumerating objects: 723, done.\u001b[K\n",
            "remote: Counting objects: 100% (181/181), done.\u001b[K\n",
            "remote: Compressing objects: 100% (117/117), done.\u001b[K\n",
            "remote: Total 723 (delta 105), reused 118 (delta 64), pack-reused 542 (from 1)\u001b[K\n",
            "Receiving objects: 100% (723/723), 3.11 MiB | 27.73 MiB/s, done.\n",
            "Resolving deltas: 100% (429/429), done.\n",
            "/content/PML_DL_Final_Project\n"
          ]
        }
      ],
      "source": [
        "if IN_COLAB:\n",
        "    import os\n",
        "\n",
        "    # !pip install laplace-torch -q\n",
        "    repo_dir = \"PML_DL_Final_Project\"\n",
        "\n",
        "    if not os.path.exists(repo_dir):\n",
        "        !git clone https://github.com/Jac-Zac/PML_DL_Final_Project.git\n",
        "    else:\n",
        "        print(f\"Repository '{repo_dir}' already exists. Skipping clone.\")\n",
        "\n",
        "\n",
        "    if os.path.isdir(repo_dir):\n",
        "        %cd $repo_dir\n",
        "        !pip install dotenv -q\n",
        "    else:\n",
        "        print(f\"Directory '{repo_dir}' not found. Please clone the repository first.\")\n",
        "\n",
        "else:\n",
        "    %cd .."
      ]
    },
    {
      "cell_type": "markdown",
      "id": "064b0bc4-6bf5-40b0-8af7-5c30a02c1ada",
      "metadata": {
        "id": "064b0bc4-6bf5-40b0-8af7-5c30a02c1ada"
      },
      "source": [
        "### 📦 Imports"
      ]
    },
    {
      "cell_type": "code",
      "execution_count": 3,
      "id": "31f6b33e-bec1-47a2-afe0-c57ca840a622",
      "metadata": {
        "id": "31f6b33e-bec1-47a2-afe0-c57ca840a622"
      },
      "outputs": [],
      "source": [
        "import torch\n",
        "\n",
        "from src.models.diffusion import Diffusion\n",
        "from src.utils.data import get_dataloaders\n",
        "from src.utils.plots import plot_image_grid, plot_image_uncertainty_grid\n",
        "from src.utils.environment import get_device, set_seed, load_pretrained_model\n",
        "import os\n",
        "\n",
        "# Since on a notebook we can have nicer bars\n",
        "import tqdm.notebook as tqdm"
      ]
    },
    {
      "cell_type": "markdown",
      "id": "a345d2fb-62f0-4d0d-9cfb-12ca609dcba8",
      "metadata": {
        "id": "a345d2fb-62f0-4d0d-9cfb-12ca609dcba8"
      },
      "source": [
        "### 🧪 Setup: Seed and Device"
      ]
    },
    {
      "cell_type": "code",
      "execution_count": 4,
      "id": "d158ca43-df3a-45a2-9e9d-47ced73866ff",
      "metadata": {
        "id": "d158ca43-df3a-45a2-9e9d-47ced73866ff"
      },
      "outputs": [],
      "source": [
        "seed = 1337\n",
        "set_seed(seed)\n",
        "device = get_device()\n",
        "os.makedirs(\"checkpoints\", exist_ok=True)"
      ]
    },
    {
      "cell_type": "markdown",
      "id": "d2cbc5f8-901d-466b-ad2a-9929037e20b0",
      "metadata": {
        "id": "d2cbc5f8-901d-466b-ad2a-9929037e20b0",
        "lines_to_next_cell": 0
      },
      "source": [
        "## 💡 Image Generation"
      ]
    },
    {
      "cell_type": "markdown",
      "id": "81ba2dda",
      "metadata": {
        "id": "81ba2dda"
      },
      "source": [
        "#### Define Class for QUDiffusion"
      ]
    },
    {
      "cell_type": "code",
      "execution_count": 6,
      "id": "0d53181c-556d-4bfb-9e43-5a59958e83d7",
      "metadata": {
        "id": "0d53181c-556d-4bfb-9e43-5a59958e83d7"
      },
      "outputs": [],
      "source": [
        "from typing import List, Optional, Tuple\n",
        "import torch\n",
        "from torch import Tensor, nn\n",
        "\n",
        "class UQDiffusion(Diffusion):\n",
        "    \"\"\"\n",
        "    Diffusion model with uncertainty estimation capabilities.\n",
        "    Extends the base Diffusion class to support Laplace approximation models.\n",
        "    \"\"\"\n",
        "\n",
        "    def __init__(self, *args, **kwargs):\n",
        "        super().__init__(*args, **kwargs)\n",
        "\n",
        "    def perform_training_step(\n",
        "        self,\n",
        "        model: nn.Module,\n",
        "        x_0: Tensor,\n",
        "        y: Optional[Tensor] = None,\n",
        "        t: Optional[Tensor] = None,\n",
        "    ) -> Tensor:\n",
        "        \"\"\"Override to use accurate_forward during training if available.\"\"\"\n",
        "        x_0 = x_0.to(self.device)\n",
        "        if t is None:\n",
        "            t = self._sample_timesteps(x_0.size(0))\n",
        "        x_t, noise = self._sample_q(x_0, t)\n",
        "\n",
        "        noise_pred = model(x_t, t, y=y)\n",
        "\n",
        "        return self.loss_simple(noise, noise_pred)\n",
        "\n",
        "    @torch.no_grad()\n",
        "    def monte_carlo_covariance_estim(\n",
        "        self,\n",
        "        model: nn.Module,\n",
        "        t: Tensor,\n",
        "        x_mean: Tensor,\n",
        "        x_var: Tensor,\n",
        "        S: int = 10,\n",
        "        y: Optional[Tensor] = None,\n",
        "    ) -> Tensor:\n",
        "        \"\"\"\n",
        "        Perform Monte Carlo sampling to estimate covariance matrix.\n",
        "        Args:\n",
        "            mean_x0: Mean of x_0 estimated by diffusion.\n",
        "            var_x0: Variance of x_0 estimated by propagation.\n",
        "            S: Number of Monte Carlo samples.\n",
        "\n",
        "        Returns:\n",
        "            mc_mean: Empirical mean of samples.\n",
        "            mc_var: Empirical pixel-wise variance of samples.\n",
        "        \"\"\"\n",
        "        std_x = torch.sqrt(torch.clamp(x_var, min=1e-8))\n",
        "        x_samples = [x_mean + std_x * torch.randn_like(x_mean) for _ in range(S)]\n",
        "        eps = [model.accurate_forward(x_i, t, y=y) for x_i in x_samples]\n",
        "\n",
        "        x_samples = torch.stack(x_samples, dim=0)  # [S, B, C, H, W]\n",
        "        eps = torch.stack(eps, dim=0)  # [S, B, C, H, W]\n",
        "\n",
        "        first_term = torch.mean(x_samples * eps, dim=0)  # [B, C, H, W]\n",
        "        second_term = x_mean * torch.mean(eps, dim=0)  # [B, C, H, W]\n",
        "\n",
        "        return first_term - second_term\n",
        "\n",
        "    @torch.no_grad()\n",
        "    def sample_with_uncertainty(\n",
        "        self,\n",
        "        model: nn.Module,\n",
        "        t_sample_times: Optional[List[int]] = None,\n",
        "        channels: int = 1,\n",
        "        log_intermediate: bool = True,\n",
        "        y: Optional[Tensor] = None,\n",
        "        cov_num_sample: int = 10,\n",
        "    ) -> Tuple[List[Tensor], Tensor]:\n",
        "        \"\"\"\n",
        "        Iteratively sample from the model, tracking predictive uncertainty and optionally Cov(x, ε).\n",
        "        \"\"\"\n",
        "        model.eval()\n",
        "        batch_size = 1 if y is None else y.size(0)\n",
        "\n",
        "        x_t = torch.randn(\n",
        "            batch_size, channels, self.img_size, self.img_size, device=self.device\n",
        "        )\n",
        "\n",
        "        x_t_mean = x_t.clone()\n",
        "        x_t_var = torch.zeros_like(x_t)\n",
        "        cov_t = torch.zeros_like(x_t)\n",
        "\n",
        "        intermediates, uncertainties = [], []\n",
        "\n",
        "        for i in reversed(range(self.noise_steps)):\n",
        "            t = torch.full((batch_size,), i, device=self.device, dtype=torch.long)\n",
        "\n",
        "            # Predict noise and its variance\n",
        "            eps_mean, eps_var = model(x_t, t, y=y)  # mean and variance of noise\n",
        "            eps_t = eps_mean + torch.sqrt(eps_var) * torch.randn_like(eps_mean)\n",
        "\n",
        "            # Compute xt-1\n",
        "            beta_t = self.beta[t].view(-1, 1, 1, 1)\n",
        "            alpha_t = self.alpha[t].view(-1, 1, 1, 1)\n",
        "            alpha_bar_t = self.alpha_bar[t].view(-1, 1, 1, 1)\n",
        "\n",
        "            # Mean and x_t-1\n",
        "            coef1 = 1.0 / alpha_t.sqrt()\n",
        "            coef2 = (1.0 - alpha_t) / (1.0 - alpha_bar_t).sqrt()\n",
        "            x_prev_mean = coef1 * (x_t_mean - coef2 * eps_mean)\n",
        "            x_prev = (\n",
        "                coef1 * (x_t - coef2 * eps_t) + torch.randn_like(x_t) * beta_t.sqrt()\n",
        "            )\n",
        "\n",
        "            # Variance\n",
        "            coef3 = 2 * (1 - alpha_t) / alpha_t * (1 - alpha_bar_t).sqrt()\n",
        "            coef4 = (1 - alpha_t)**2 / alpha_t * (1 - alpha_bar_t)\n",
        "            x_prev_var = (\n",
        "                (1 / alpha_t * x_t_var) - (coef3 * cov_t) + (coef4 * eps_var) + beta_t\n",
        "                # (1 / alpha_t * x_t_var) + (coef4 * eps_var) + beta_t\n",
        "            )\n",
        "\n",
        "            if i > 0:\n",
        "                # Covariance estimation with Monte Carlo\n",
        "                covariance = self.monte_carlo_covariance_estim(\n",
        "                    model=model,\n",
        "                    t=t - 1,\n",
        "                    x_mean=x_prev_mean,\n",
        "                    x_var=x_prev_var,\n",
        "                    S=cov_num_sample,\n",
        "                    y=y,\n",
        "                )\n",
        "\n",
        "            if i % 100 == 0 or i == self.noise_steps - 1:\n",
        "                print(f\"\\nStep {i}\")\n",
        "                print(f\"  eps_var mean: {eps_var.mean().item():.4e}, std: {eps_var.std().item():.4e}\")\n",
        "                if i > 0:\n",
        "                    print(f\"  Covariance mean: {covariance.mean().item():.4e}, std: {covariance.std().item():.4e}\")\n",
        "                print(f\"  x_t_var mean: {x_t_var.mean().item():.4e}, std: {x_t_var.std().item():.4e}\")\n",
        "                print(f\"  x_prev_var mean: {x_prev_var.mean().item():.4e}, std: {x_prev_var.std().item():.4e}\")\n",
        "\n",
        "\n",
        "            # Log intermediate images\n",
        "            if log_intermediate and t_sample_times and i in t_sample_times:\n",
        "                intermediates.append(self.transform_sampled_image(x_t.clone()))\n",
        "                uncertainties.append(x_t_var.clone().cpu())  # per-pixel variance\n",
        "\n",
        "            x_t = x_prev\n",
        "            x_t_mean = x_prev_mean\n",
        "            x_t_var = x_prev_var\n",
        "            cov_t = covariance\n",
        "\n",
        "        uncertainties = torch.stack(uncertainties)  # [num_steps, B, C, H, W]\n",
        "\n",
        "        model.train()\n",
        "        return intermediates, uncertainties"
      ]
    },
    {
      "cell_type": "markdown",
      "metadata": {
        "id": "4e9b0a39-6cfe-48f1-8cd9-3a0114637c05"
      },
      "source": [
        "#### 🛠️ Configuration Parameters"
      ],
      "id": "4e9b0a39-6cfe-48f1-8cd9-3a0114637c05"
    },
    {
      "cell_type": "code",
      "execution_count": null,
      "metadata": {
        "id": "b288654b-668c-4ce7-8f10-d862677e29e4"
      },
      "outputs": [],
      "source": [
        "n_samples = 5\n",
        "save_dir = \"samples\"\n",
        "total_steps = 1000\n",
        "model_name = \"unet\"\n",
        "method = \"diffusion\"  # or \"flow\"\n",
        "ckpt_path = \"checkpoints/best_model.pth\"  # or use your last checkpoint"
      ],
      "id": "b288654b-668c-4ce7-8f10-d862677e29e4"
    },
    {
      "cell_type": "markdown",
      "id": "9f986a39",
      "metadata": {
        "id": "9f986a39"
      },
      "source": [
        "### 💪 Fit Laplace approximation"
      ]
    },
    {
      "cell_type": "code",
      "execution_count": 7,
      "id": "P62LzRyaxfBn",
      "metadata": {
        "colab": {
          "base_uri": "https://localhost:8080/"
        },
        "id": "P62LzRyaxfBn",
        "outputId": "edbb2167-eb45-4742-be8e-65bb5bdc4451"
      },
      "outputs": [
        {
          "name": "stdout",
          "output_type": "stream",
          "text": [
            "WANDB_API_KEY environment variable not set. Please enter your WandB API key: 2b5251f5decb927fd6bf99b552a2fa2175bd8f98\n"
          ]
        },
        {
          "output_type": "stream",
          "name": "stderr",
          "text": [
            "\u001b[34m\u001b[1mwandb\u001b[0m: \u001b[33mWARNING\u001b[0m If you're specifying your api key in code, ensure this code is not shared publicly.\n",
            "\u001b[34m\u001b[1mwandb\u001b[0m: \u001b[33mWARNING\u001b[0m Consider setting the WANDB_API_KEY environment variable, or running `wandb login` from the command line.\n",
            "\u001b[34m\u001b[1mwandb\u001b[0m: No netrc file found, creating one.\n",
            "\u001b[34m\u001b[1mwandb\u001b[0m: Appending key for api.wandb.ai to your netrc file: /root/.netrc\n",
            "\u001b[34m\u001b[1mwandb\u001b[0m: Currently logged in as: \u001b[33msilvia-calabretta\u001b[0m (\u001b[33mjac-zac\u001b[0m) to \u001b[32mhttps://api.wandb.ai\u001b[0m. Use \u001b[1m`wandb login --relogin`\u001b[0m to force relogin\n",
            "\u001b[34m\u001b[1mwandb\u001b[0m:   1 of 1 files downloaded.  \n",
            "100%|██████████| 9.91M/9.91M [00:00<00:00, 16.2MB/s]\n",
            "100%|██████████| 28.9k/28.9k [00:00<00:00, 485kB/s]\n",
            "100%|██████████| 1.65M/1.65M [00:00<00:00, 4.49MB/s]\n",
            "100%|██████████| 4.54k/4.54k [00:00<00:00, 7.06MB/s]\n",
            "                                                                  "
          ]
        },
        {
          "output_type": "stream",
          "name": "stdout",
          "text": [
            "Laplace fitting completed on last layer of the diffusion model.\n"
          ]
        },
        {
          "output_type": "stream",
          "name": "stderr",
          "text": [
            "\r"
          ]
        }
      ],
      "source": [
        "from src.models.llla_model import LaplaceApproxModel\n",
        "from src.utils.data import get_llla_dataloader\n",
        "from types import SimpleNamespace\n",
        "\n",
        "num_classes = 10\n",
        "model_kwargs = {\n",
        "    \"num_classes\": num_classes,\n",
        "    \"time_emb_dim\": 128,\n",
        "    # NOTE: Change time embedding to learned for flow which is more sensible\n",
        "    \"time_embedding_type\": \"mlp\" if method == \"flow\" else \"sinusoidal\",\n",
        "}\n",
        "\n",
        "\n",
        "# Load pretrained MAP model using best checkpoint\n",
        "diff_model = load_pretrained_model(\n",
        "    model_name=\"unet\",\n",
        "    ckpt_path=\"jac-zac/diffusion-project/best-model:v80\",\n",
        "    device=device,\n",
        "    model_kwargs=model_kwargs,\n",
        "    use_wandb=True,\n",
        ")\n",
        "\n",
        "# 2️⃣ Prepare data loaders for the Laplace fit\n",
        "train_loader, _ = get_llla_dataloader(batch_size=128)\n",
        "\n",
        "mnist_config = SimpleNamespace()\n",
        "mnist_config.data = SimpleNamespace()\n",
        "mnist_config.data.image_size = 28  # MNIST image size\n",
        "\n",
        "# Wrap diffusion model with your Custom Model for Laplace last layer approx\n",
        "# NOTE: Automatically call fit\n",
        "laplace_model = LaplaceApproxModel(\n",
        "    diff_model, train_loader, args=None, config=mnist_config\n",
        ")\n",
        "\n",
        "print(\"Laplace fitting completed on last layer of the diffusion model.\")"
      ]
    },
    {
      "cell_type": "markdown",
      "id": "0e86b3a2-182d-4dd2-aa8b-770d92fa3b1d",
      "metadata": {
        "jp-MarkdownHeadingCollapsed": true,
        "id": "0e86b3a2-182d-4dd2-aa8b-770d92fa3b1d"
      },
      "source": [
        "### Plotting utility"
      ]
    },
    {
      "cell_type": "code",
      "execution_count": 17,
      "id": "n_gIwbObJxDW",
      "metadata": {
        "id": "n_gIwbObJxDW"
      },
      "outputs": [],
      "source": [
        "import os\n",
        "\n",
        "import matplotlib.pyplot as plt\n",
        "import numpy as np\n",
        "import torch\n",
        "\n",
        "\n",
        "def plot_image_uncertainty_grid(\n",
        "    model,\n",
        "    method_instance,\n",
        "    n: int,\n",
        "    num_intermediate: int,\n",
        "    total_steps: int,\n",
        "    save_dir: str,\n",
        "    device: torch.device,\n",
        "    num_classes: int,\n",
        "    cov_num_sample: int = 50,\n",
        "    uq_cmp: str = \"grey\"\n",
        "):\n",
        "    \"\"\"\n",
        "    Generate and plot a grid of intermediate samples for either diffusion or flow.\n",
        "\n",
        "    Args:\n",
        "        model: The trained model.\n",
        "        method_instance: The sampling method instance (Diffusion or FlowMatching).\n",
        "        n (int): Number of classes from which to generate ([0,1,..,n-1]).\n",
        "        num_intermediate (int): Number of intermediate steps to visualize.\n",
        "        total_steps (int): Maximum number of steps or timesteps.\n",
        "        save_dir (str): Directory to save the output image.\n",
        "        device: Torch device.\n",
        "        num_classes (int): Number of classes for label conditioning.\n",
        "    \"\"\"\n",
        "    # Prepare conditioning labels\n",
        "    y = torch.arange(n, device=device) % num_classes\n",
        "\n",
        "    # Decide which type of timesteps to generate\n",
        "    if method_instance.__class__.__name__ == \"UQFlowMatching\":\n",
        "        # Flow matching: choose indices between 0 and (steps-1)\n",
        "        step_indices = torch.linspace(\n",
        "            0, total_steps, steps=num_intermediate, dtype=torch.int32\n",
        "        ).tolist()\n",
        "        # print(\"Flow: step indices\", step_indices)\n",
        "\n",
        "        all_samples_grouped, uncertainties = method_instance.sample_with_uncertainty(\n",
        "            model,\n",
        "            log_intermediate=True,\n",
        "            y=y,\n",
        "            cov_num_sample=cov_num_sample,\n",
        "            num_steps=total_steps,\n",
        "        )\n",
        "        timesteps = step_indices\n",
        "        print(\"Flow: samples shape is \", len(all_samples_grouped))\n",
        "        print(\"Flow: num steps: \", total_steps)     #before  (should be equal to timesteps)\n",
        "        # num_intermediate = total_steps      #if uncommented, in flow it shows all the steps the process took\n",
        "\n",
        "\n",
        "    elif method_instance.__class__.__name__ == \"UQDiffusion\":\n",
        "        # Diffusion: choose timesteps between total_steps and 0\n",
        "        t_sample_times = torch.linspace(        #indices (=time value) of the saved steps\n",
        "            total_steps-1,\n",
        "            0,\n",
        "            steps=num_intermediate,\n",
        "            dtype=torch.int32,\n",
        "        ).tolist()\n",
        "        print(\"Diffusion: sample times\", t_sample_times)\n",
        "\n",
        "        all_samples_grouped, uncertainties = method_instance.sample_with_uncertainty(\n",
        "            model,\n",
        "            t_sample_times=t_sample_times,\n",
        "            log_intermediate=True,\n",
        "            y=y,\n",
        "            cov_num_sample=cov_num_sample,\n",
        "        )\n",
        "        timesteps = t_sample_times\n",
        "    else:\n",
        "        raise ValueError(f\"Unknown method type: {method_instance.__class__.__name__}\")\n",
        "\n",
        "\n",
        "    ### ------------------ Plot images grid ------------------ ###\n",
        "\n",
        "    # Stack all generated images into a (B, T, C, H, W) tensor\n",
        "    stacked = torch.stack(all_samples_grouped)  # (T, B, C, H, W)\n",
        "    permuted = stacked.permute(1, 0, 2, 3, 4)  # (B, T, C, H, W)\n",
        "    num_classes, num_timesteps = permuted.shape[:2]   # extract B and T\n",
        "    print(\"num timesteps\", num_timesteps)\n",
        "    print(\"num intermediates (in diffusion should be the same as timesteps)\", num_intermediate)\n",
        "\n",
        "    # Save as a grid\n",
        "    os.makedirs(save_dir, exist_ok=True)\n",
        "    out_path_img = os.path.join(save_dir, \"all_samples_grid.png\")\n",
        "\n",
        "    fig, axes = plt.subplots(\n",
        "        num_classes, num_intermediate, figsize=(1.5 * num_intermediate, 1.5 * num_classes)\n",
        "    )\n",
        "\n",
        "    if num_classes == 1:\n",
        "        axes = np.expand_dims(axes, 0)\n",
        "    if num_intermediate == 1:\n",
        "        axes = np.expand_dims(axes, 1)\n",
        "\n",
        "    # indices = np.linspace(0, num_timesteps - 1, num=num_intermediate, dtype=int)\n",
        "\n",
        "    for row in range(num_classes):\n",
        "        for col in range(num_timesteps):\n",
        "            img = permuted[row, col].squeeze().cpu().numpy()\n",
        "            ax = axes[row, col]\n",
        "            ax.imshow(img, cmap=\"gray\")\n",
        "            ax.axis(\"off\")\n",
        "            if row == 0:\n",
        "                ax.set_title(f\"step={timesteps[col]}\", fontsize=10)\n",
        "            if col == 0:\n",
        "                ax.set_ylabel(f\"Sample {row+1}\", fontsize=10)\n",
        "\n",
        "    plt.tight_layout()\n",
        "    plt.savefig(out_path_img, bbox_inches=\"tight\")\n",
        "    plt.close()\n",
        "\n",
        "\n",
        "    ### ------------------ Plot uncertainties grid ------------------ ###\n",
        "\n",
        "    # Convert uncertainties to tensor if needed\n",
        "    if isinstance(uncertainties, list):\n",
        "        uncertainties = torch.stack(uncertainties)  # (T, B, C, H, W)\n",
        "\n",
        "    # Multiplier\n",
        "    # mult = 700\n",
        "    mult = 1\n",
        "\n",
        "    # Ensure uncertainties has same ordering: (B, T, C, H, W)\n",
        "    uncertainties_permuted = uncertainties.permute(1, 0, 2, 3, 4) * mult\n",
        "\n",
        "    out_path_unc = os.path.join(save_dir, \"all_uncertainties_grid.png\")\n",
        "\n",
        "    fig, axes = plt.subplots(\n",
        "        num_classes, num_intermediate, figsize=(1.5 * num_intermediate, 1.5 * num_classes)\n",
        "    )\n",
        "\n",
        "    if num_classes == 1:\n",
        "        axes = np.expand_dims(axes, 0)\n",
        "    if num_intermediate == 1:\n",
        "        axes = np.expand_dims(axes, 1)\n",
        "\n",
        "    for row in range(num_classes):\n",
        "        for col in range(num_intermediate):\n",
        "            unc = uncertainties_permuted[row, col].squeeze().cpu().numpy()\n",
        "            ax = axes[row, col]\n",
        "            im = ax.imshow(unc, cmap=uq_cmp)  # Heatmap for uncertainty\n",
        "            ax.axis(\"off\")\n",
        "            if row == 0:\n",
        "                ax.set_title(f\"step={timesteps[col]}\", fontsize=10)\n",
        "            if col == 0:\n",
        "                ax.set_ylabel(f\"Sample {row+1}\", fontsize=10)\n",
        "\n",
        "    plt.tight_layout()\n",
        "    plt.savefig(out_path_unc, bbox_inches=\"tight\")\n",
        "    plt.close()\n",
        "\n",
        "    return all_samples_grouped, uncertainties"
      ]
    },
    {
      "cell_type": "markdown",
      "id": "3b667cd2",
      "metadata": {
        "id": "3b667cd2",
        "lines_to_next_cell": 0
      },
      "source": [
        "\n",
        "<!-- #region id=\"1d2b6a2d\" -->\n",
        "### 💨 Initialize Diffusion Process"
      ]
    },
    {
      "cell_type": "code",
      "execution_count": 9,
      "id": "4a65f99e",
      "metadata": {
        "id": "4a65f99e",
        "lines_to_next_cell": 0
      },
      "outputs": [],
      "source": [
        "# Initialize uncertainty-aware diffusion (same interface as base class)\n",
        "diffusion = UQDiffusion(img_size=28, device=device)"
      ]
    },
    {
      "cell_type": "code",
      "execution_count": 22,
      "id": "95261ad0-4cd1-424d-9874-f791b9a67568",
      "metadata": {
        "colab": {
          "base_uri": "https://localhost:8080/"
        },
        "id": "95261ad0-4cd1-424d-9874-f791b9a67568",
        "outputId": "9c8d382b-1906-4927-aab4-52a0af1d580d"
      },
      "outputs": [
        {
          "output_type": "stream",
          "name": "stdout",
          "text": [
            "Diffusion: sample times [999, 874, 749, 624, 499, 374, 249, 124, 0]\n",
            "\n",
            "Step 999\n",
            "  eps_var mean: 6.5276e-06, std: 6.1297e-06\n",
            "  Covariance mean: 1.0273e-02, std: 1.4056e-01\n",
            "  x_t_var mean: 0.0000e+00, std: 0.0000e+00\n",
            "  x_prev_var mean: 2.0000e-02, std: 2.4932e-09\n",
            "\n",
            "Step 900\n",
            "  eps_var mean: 6.6818e-06, std: 6.0354e-06\n",
            "  Covariance mean: 6.3348e-01, std: 1.4855e+00\n",
            "  x_t_var mean: 9.3561e-01, std: 2.9589e-01\n",
            "  x_prev_var mean: 9.4326e-01, std: 2.9793e-01\n",
            "\n",
            "Step 800\n",
            "  eps_var mean: 7.7338e-06, std: 9.3355e-06\n",
            "  Covariance mean: 8.3056e-01, std: 3.0333e+00\n",
            "  x_t_var mean: 3.1212e+00, std: 1.0047e+00\n",
            "  x_prev_var mean: 3.1597e+00, std: 1.0178e+00\n",
            "\n",
            "Step 700\n",
            "  eps_var mean: 7.5027e-06, std: 5.0599e-06\n",
            "  Covariance mean: 1.1088e+00, std: 5.2149e+00\n",
            "  x_t_var mean: 1.1284e+01, std: 3.5267e+00\n",
            "  x_prev_var mean: 1.1426e+01, std: 3.5795e+00\n",
            "\n",
            "Step 600\n",
            "  eps_var mean: 6.4986e-06, std: 4.9529e-06\n",
            "  Covariance mean: 1.9439e+00, std: 9.2523e+00\n",
            "  x_t_var mean: 3.7263e+01, std: 1.1895e+01\n",
            "  x_prev_var mean: 3.7683e+01, std: 1.2011e+01\n",
            "\n",
            "Step 500\n",
            "  eps_var mean: 8.6809e-06, std: 8.5901e-06\n",
            "  Covariance mean: 3.7680e+00, std: 1.9914e+01\n",
            "  x_t_var mean: 1.0576e+02, std: 3.4646e+01\n",
            "  x_prev_var mean: 1.0678e+02, std: 3.4975e+01\n",
            "\n",
            "Step 400\n",
            "  eps_var mean: 8.4974e-06, std: 7.0842e-06\n",
            "  Covariance mean: 3.7752e+00, std: 3.1614e+01\n",
            "  x_t_var mean: 2.5321e+02, std: 8.4394e+01\n",
            "  x_prev_var mean: 2.5522e+02, std: 8.5094e+01\n",
            "\n",
            "Step 300\n",
            "  eps_var mean: 8.6086e-06, std: 5.8300e-06\n",
            "  Covariance mean: 6.9287e+00, std: 4.5305e+01\n",
            "  x_t_var mean: 5.0597e+02, std: 1.7121e+02\n",
            "  x_prev_var mean: 5.0898e+02, std: 1.7223e+02\n",
            "\n",
            "Step 200\n",
            "  eps_var mean: 6.6962e-06, std: 5.5020e-06\n",
            "  Covariance mean: 6.5380e+00, std: 5.2526e+01\n",
            "  x_t_var mean: 8.3632e+02, std: 2.8409e+02\n",
            "  x_prev_var mean: 8.3971e+02, std: 2.8526e+02\n",
            "\n",
            "Step 100\n",
            "  eps_var mean: 7.9422e-06, std: 7.5621e-06\n",
            "  Covariance mean: 6.4948e+00, std: 5.6252e+01\n",
            "  x_t_var mean: 1.1379e+03, std: 3.8691e+02\n",
            "  x_prev_var mean: 1.1402e+03, std: 3.8772e+02\n",
            "\n",
            "Step 0\n",
            "  eps_var mean: 1.4885e-05, std: 1.2604e-05\n",
            "  x_t_var mean: 1.2706e+03, std: 4.3203e+02\n",
            "  x_prev_var mean: 1.2707e+03, std: 4.3207e+02\n",
            "num timesteps 9\n",
            "num intermediates (in diffusion should be the same as timesteps) 9\n",
            "CPU times: user 21.6 s, sys: 631 ms, total: 22.2 s\n",
            "Wall time: 20.6 s\n"
          ]
        }
      ],
      "source": [
        "%%time\n",
        "num_intermediate = 10\n",
        "\n",
        "all_samples_grouped, uncertainties = plot_image_uncertainty_grid(\n",
        "        laplace_model,\n",
        "        diffusion,\n",
        "        num_intermediate=9,\n",
        "        n=1,\n",
        "        # total_steps=total_steps,\n",
        "        total_steps=1000,\n",
        "        save_dir=save_dir,\n",
        "        device=device,\n",
        "        num_classes=num_classes,\n",
        "        cov_num_sample=1,\n",
        "    )"
      ]
    },
    {
      "cell_type": "code",
      "execution_count": 23,
      "id": "f4f02271-7865-48b4-93f1-808d621b7a1c",
      "metadata": {
        "colab": {
          "base_uri": "https://localhost:8080/",
          "height": 313
        },
        "id": "f4f02271-7865-48b4-93f1-808d621b7a1c",
        "outputId": "c73c359b-a4f6-48ec-9d8e-fd48c2a63464"
      },
      "outputs": [
        {
          "output_type": "display_data",
          "data": {
            "text/plain": [
              "<PIL.PngImagePlugin.PngImageFile image mode=RGBA size=1315x148>"
            ],
            "image/png": "[encoded data removed]"
          },
          "metadata": {}
        },
        {
          "output_type": "display_data",
          "data": {
            "text/plain": [
              "<PIL.PngImagePlugin.PngImageFile image mode=RGBA size=1315x148>"
            ],
            "image/png": "[encoded data removed]"
          },
          "metadata": {}
        }
      ],
      "source": [
        "from PIL import Image\n",
        "\n",
        "# Display samples grid\n",
        "out_path_img = os.path.join(save_dir, \"all_samples_grid.png\")\n",
        "display(Image.open(out_path_img))\n",
        "\n",
        "# Display uncertainties grid\n",
        "out_path_unc = os.path.join(save_dir, \"all_uncertainties_grid.png\")\n",
        "display(Image.open(out_path_unc))"
      ]
    },
    {
      "cell_type": "code",
      "execution_count": 20,
      "id": "711ef0cf-0af7-4ac3-8ea0-e61b962cd036",
      "metadata": {
        "colab": {
          "base_uri": "https://localhost:8080/"
        },
        "id": "711ef0cf-0af7-4ac3-8ea0-e61b962cd036",
        "outputId": "bdcb5953-4379-4b78-eaed-78753f04c7dc"
      },
      "outputs": [
        {
          "output_type": "stream",
          "name": "stdout",
          "text": [
            "torch.Size([10, 1, 1, 28, 28])\n"
          ]
        }
      ],
      "source": [
        "print(uncertainties.shape)"
      ]
    },
    {
      "cell_type": "code",
      "execution_count": 21,
      "id": "0bf4e232-2bca-4ec8-9d32-d9d2773740e4",
      "metadata": {
        "colab": {
          "base_uri": "https://localhost:8080/",
          "height": 410
        },
        "id": "0bf4e232-2bca-4ec8-9d32-d9d2773740e4",
        "outputId": "d3410b95-30bb-4a30-cf3c-df1889ffa392"
      },
      "outputs": [
        {
          "output_type": "display_data",
          "data": {
            "text/plain": [
              "<Figure size 800x400 with 1 Axes>"
            ],
            "image/png": "[encoded data removed]"
          },
          "metadata": {}
        }
      ],
      "source": [
        "import torch\n",
        "import matplotlib.pyplot as plt\n",
        "# Sum over the last two dimensions (28x28)\n",
        "sums = uncertainties.sum(dim=[-1, -2])  # shape: [10, 1, 1]\n",
        "\n",
        "# Flatten to shape\n",
        "sums_flat = sums.view(num_intermediate)\n",
        "\n",
        "# Plot\n",
        "plt.figure(figsize=(8, 4))\n",
        "plt.plot(range(num_intermediate), sums_flat.tolist(), marker='o', linestyle='-')\n",
        "plt.title(\"Sum of last two dimensions per item in first dimension\")\n",
        "plt.xlabel(\"Index in first dimension\")\n",
        "plt.ylabel(\"Sum over 28x28\")\n",
        "plt.grid(True)\n",
        "plt.show()"
      ]
    }
  ],
  "metadata": {
    "accelerator": "GPU",
    "colab": {
      "gpuType": "T4",
      "provenance": []
    },
    "kernelspec": {
      "display_name": "Python 3 (ipykernel)",
      "language": "python",
      "name": "python3"
    },
    "language_info": {
      "codemirror_mode": {
        "name": "ipython",
        "version": 3
      },
      "file_extension": ".py",
      "mimetype": "text/x-python",
      "name": "python",
      "nbconvert_exporter": "python",
      "pygments_lexer": "ipython3",
      "version": "3.12.11"
    }
  },
  "nbformat": 4,
  "nbformat_minor": 5
}