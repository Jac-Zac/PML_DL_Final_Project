{
 "cells": [
  {
   "cell_type": "markdown",
   "id": "1fdefdf5-2a0a-4ca7-9672-7e1544aad8a1",
   "metadata": {
    "id": "1fdefdf5-2a0a-4ca7-9672-7e1544aad8a1"
   },
   "source": [
    "# 🧙‍♂️ Sample Generation with Pretrained Model + LLLA\n",
    "\n",
    "[![Open In Colab](https://colab.research.google.com/assets/colab-badge.svg)](https://colab.research.google.com/github/Jac-Zac/PML_DL_Final_Project/blob/master/notebooks/notebook_llla_diff.ipynb)"
   ]
  },
  {
   "cell_type": "code",
   "execution_count": 1,
   "id": "1aaabe01-b530-48e9-9058-eeedf64cb997",
   "metadata": {},
   "outputs": [],
   "source": [
    "# NOTE: Initial import needed for Google Collab\n",
    "# !pip install laplace-torch"
   ]
  },
  {
   "cell_type": "markdown",
   "id": "5LsZiP4Jfsqw",
   "metadata": {
    "id": "5LsZiP4Jfsqw",
    "jp-MarkdownHeadingCollapsed": true
   },
   "source": [
    "### Initial setup ⚙️"
   ]
  },
  {
   "cell_type": "code",
   "execution_count": 2,
   "id": "d346166f-906a-44cf-a38b-9b87a8ed2b40",
   "metadata": {
    "id": "d346166f-906a-44cf-a38b-9b87a8ed2b40"
   },
   "outputs": [],
   "source": [
    "try:\n",
    "    import google.colab\n",
    "    IN_COLAB = True\n",
    "except ImportError:\n",
    "    IN_COLAB = False"
   ]
  },
  {
   "cell_type": "code",
   "execution_count": 3,
   "id": "0c880eaf-d325-40af-8b9a-a965d417023e",
   "metadata": {
    "colab": {
     "base_uri": "https://localhost:8080/"
    },
    "id": "0c880eaf-d325-40af-8b9a-a965d417023e",
    "outputId": "33c95097-ba56-435e-8676-92f234de3937"
   },
   "outputs": [
    {
     "name": "stdout",
     "output_type": "stream",
     "text": [
      "/Users/jaczac/Github/PML_DL_Final_Project\n"
     ]
    }
   ],
   "source": [
    "if IN_COLAB:\n",
    "    import os\n",
    "\n",
    "    # !pip install laplace-torch -q\n",
    "    repo_dir = \"PML_DL_Final_Project\"\n",
    "\n",
    "    if not os.path.exists(repo_dir):\n",
    "        !git clone https://github.com/Jac-Zac/PML_DL_Final_Project.git\n",
    "    else:\n",
    "        print(f\"Repository '{repo_dir}' already exists. Skipping clone.\")\n",
    "\n",
    "\n",
    "    if os.path.isdir(repo_dir):\n",
    "        %cd $repo_dir\n",
    "        !pip install dotenv -q\n",
    "    else:\n",
    "        print(f\"Directory '{repo_dir}' not found. Please clone the repository first.\")\n",
    "\n",
    "else:\n",
    "    %cd .."
   ]
  },
  {
   "cell_type": "markdown",
   "id": "064b0bc4-6bf5-40b0-8af7-5c30a02c1ada",
   "metadata": {
    "id": "064b0bc4-6bf5-40b0-8af7-5c30a02c1ada"
   },
   "source": [
    "### 📦 Imports"
   ]
  },
  {
   "cell_type": "code",
   "execution_count": 4,
   "id": "31f6b33e-bec1-47a2-afe0-c57ca840a622",
   "metadata": {
    "id": "31f6b33e-bec1-47a2-afe0-c57ca840a622"
   },
   "outputs": [
    {
     "name": "stderr",
     "output_type": "stream",
     "text": [
      "/Users/jaczac/Github/PML_DL_Final_Project/src/models/diffusion.py:5: TqdmExperimentalWarning: Using `tqdm.autonotebook.tqdm` in notebook mode. Use `tqdm.tqdm` instead to force console mode (e.g. in jupyter console)\n",
      "  from tqdm.autonotebook import tqdm\n"
     ]
    }
   ],
   "source": [
    "from PIL import Image\n",
    "import torch\n",
    "import os\n",
    "\n",
    "# from src.models.diffusion import UQDiffusion\n",
    "from src.models.diffusion import Diffusion\n",
    "\n",
    "from src.utils.data import get_llla_dataloader\n",
    "from src.utils.plots import plot_interleaved_image_uncertainty, plot_uncertainty_sums\n",
    "from src.utils.environment import get_device, set_seed, load_pretrained_model"
   ]
  },
  {
   "cell_type": "markdown",
   "id": "a345d2fb-62f0-4d0d-9cfb-12ca609dcba8",
   "metadata": {
    "id": "a345d2fb-62f0-4d0d-9cfb-12ca609dcba8",
    "jp-MarkdownHeadingCollapsed": true
   },
   "source": [
    "### 🧪 Setup: Seed and Device"
   ]
  },
  {
   "cell_type": "code",
   "execution_count": 5,
   "id": "d158ca43-df3a-45a2-9e9d-47ced73866ff",
   "metadata": {
    "id": "d158ca43-df3a-45a2-9e9d-47ced73866ff"
   },
   "outputs": [],
   "source": [
    "seed = 1337\n",
    "set_seed(seed)\n",
    "device = get_device()\n",
    "os.makedirs(\"checkpoints\", exist_ok=True)"
   ]
  },
  {
   "cell_type": "markdown",
   "id": "d2cbc5f8-901d-466b-ad2a-9929037e20b0",
   "metadata": {
    "id": "d2cbc5f8-901d-466b-ad2a-9929037e20b0",
    "lines_to_next_cell": 0
   },
   "source": [
    "## 💡 Image Generation"
   ]
  },
  {
   "cell_type": "markdown",
   "id": "4e9b0a39-6cfe-48f1-8cd9-3a0114637c05",
   "metadata": {
    "id": "4e9b0a39-6cfe-48f1-8cd9-3a0114637c05"
   },
   "source": [
    "#### 🛠️ Configuration Parameters"
   ]
  },
  {
   "cell_type": "code",
   "execution_count": 6,
   "id": "b288654b-668c-4ce7-8f10-d862677e29e4",
   "metadata": {
    "id": "b288654b-668c-4ce7-8f10-d862677e29e4"
   },
   "outputs": [],
   "source": [
    "n_samples = 5\n",
    "sample_batch_size = 16\n",
    "num_classes = 10\n",
    "time_emb_dim = 128\n",
    "save_dir = \"samples\"\n",
    "model_name = \"unet\"\n",
    "method = \"diffusion\"\n",
    "ckpt_path = \"jac-zac/bayesflow-project/best-model:v145\"  # or use your last checkpoint\n",
    "use_wandb = True\n",
    "dataset_name = \"FashionMNIST\""
   ]
  },
  {
   "cell_type": "markdown",
   "id": "74ae987d-49cb-4518-93d1-f2a7ad021139",
   "metadata": {},
   "source": [
    "#### 📥 Load model and Dataloader"
   ]
  },
  {
   "cell_type": "code",
   "execution_count": 7,
   "id": "3cdf8b5f-d8df-46b9-bb5f-cf0a5e7dd648",
   "metadata": {
    "colab": {
     "base_uri": "https://localhost:8080/"
    },
    "id": "P62LzRyaxfBn",
    "outputId": "edbb2167-eb45-4742-be8e-65bb5bdc4451"
   },
   "outputs": [
    {
     "name": "stderr",
     "output_type": "stream",
     "text": [
      "\u001b[34m\u001b[1mwandb\u001b[0m: \u001b[33mWARNING\u001b[0m If you're specifying your api key in code, ensure this code is not shared publicly.\n",
      "\u001b[34m\u001b[1mwandb\u001b[0m: \u001b[33mWARNING\u001b[0m Consider setting the WANDB_API_KEY environment variable, or running `wandb login` from the command line.\n",
      "\u001b[34m\u001b[1mwandb\u001b[0m: No netrc file found, creating one.\n",
      "\u001b[34m\u001b[1mwandb\u001b[0m: \u001b[33mWARNING\u001b[0m Unable to write /Users/jaczac/.config/netrc/netrc\n",
      "\u001b[34m\u001b[1mwandb\u001b[0m: Currently logged in as: \u001b[33mjacopozac\u001b[0m (\u001b[33mjac-zac\u001b[0m) to \u001b[32mhttps://api.wandb.ai\u001b[0m. Use \u001b[1m`wandb login --relogin`\u001b[0m to force relogin\n",
      "\u001b[34m\u001b[1mwandb\u001b[0m:   1 of 1 files downloaded.  \n"
     ]
    }
   ],
   "source": [
    "from src.models.llla_model import LaplaceApproxModel\n",
    "from types import SimpleNamespace\n",
    "\n",
    "model_kwargs = {\n",
    "    \"num_classes\": num_classes,\n",
    "    \"time_emb_dim\": time_emb_dim,\n",
    "    # NOTE: Change time embedding to learned for flow which is more sensible\n",
    "    \"time_embedding_type\": \"mlp\" if method == \"flow\" else \"sinusoidal\",\n",
    "}\n",
    "\n",
    "\n",
    "# Load pretrained MAP model using best checkpoint\n",
    "diff_model = load_pretrained_model(\n",
    "    model_name=model_name,\n",
    "    # ckpt_path=\"jac-zac/diffusion-project/best-model:v80\",\n",
    "    ckpt_path=ckpt_path,\n",
    "    device=device,\n",
    "    model_kwargs=model_kwargs,\n",
    "    use_wandb=use_wandb,\n",
    ")\n",
    "\n",
    "# Prepare data loaders for the Laplace fit\n",
    "train_loader, _ = get_llla_dataloader(batch_size=sample_batch_size, dataset_name= dataset_name, mode = method)\n",
    "\n",
    "mnist_config = SimpleNamespace()\n",
    "mnist_config.data = SimpleNamespace()\n",
    "mnist_config.data.image_size = 28  # MNIST image size"
   ]
  },
  {
   "cell_type": "markdown",
   "id": "9f986a39",
   "metadata": {
    "id": "9f986a39"
   },
   "source": [
    "### 💪 Fit Laplace approximation"
   ]
  },
  {
   "cell_type": "code",
   "execution_count": 8,
   "id": "3dc74645-7154-4648-a771-5a128d80dfb8",
   "metadata": {},
   "outputs": [
    {
     "data": {
      "application/vnd.jupyter.widget-view+json": {
       "model_id": "a1612e4ab9274aefbb310ecd9ae387bb",
       "version_major": 2,
       "version_minor": 0
      },
      "text/plain": [
       "Fitting Laplace:   0%|          | 0/3750 [00:00<?, ?it/s]"
      ]
     },
     "metadata": {},
     "output_type": "display_data"
    },
    {
     "name": "stdout",
     "output_type": "stream",
     "text": [
      "Laplace fitting completed on last layer of the diffusion model.\n"
     ]
    }
   ],
   "source": [
    "# Wrap diffusion model with your Custom Model for Laplace last layer approx\n",
    "# NOTE: Automatically call fit\n",
    "laplace_model = LaplaceApproxModel(\n",
    "    diff_model, train_loader, args=None, config=mnist_config\n",
    ")\n",
    "\n",
    "print(\"Laplace fitting completed on last layer of the diffusion model.\")"
   ]
  },
  {
   "cell_type": "markdown",
   "id": "b99ae91a-901c-4f53-a2a8-07ad066383f3",
   "metadata": {},
   "source": [
    "#### UQDiffusion"
   ]
  },
  {
   "cell_type": "code",
   "execution_count": 9,
   "id": "fe202f6e-ac30-4cb9-98d7-42e5d1cf78af",
   "metadata": {},
   "outputs": [],
   "source": [
    "from typing import List, Optional, Tuple\n",
    "\n",
    "import torch\n",
    "from torch import Tensor, nn\n",
    "from tqdm.notebook import tqdm\n",
    "\n",
    "class UQDiffusion(Diffusion):\n",
    "    \"\"\"\n",
    "    Diffusion model with uncertainty estimation capabilities.\n",
    "    Extends the base Diffusion class to support Laplace approximation models.\n",
    "    \"\"\"\n",
    "\n",
    "    def __init__(self, *args, **kwargs):\n",
    "        super().__init__(*args, **kwargs)\n",
    "\n",
    "    def perform_training_step(\n",
    "        self,\n",
    "        model: nn.Module,\n",
    "        x_0: Tensor,\n",
    "        y: Optional[Tensor] = None,\n",
    "        t: Optional[Tensor] = None,\n",
    "    ) -> Tensor:\n",
    "        \"\"\"Override to use accurate_forward during training if available.\"\"\"\n",
    "        x_0 = x_0.to(self.device)\n",
    "        if t is None:\n",
    "            t = self._sample_timesteps(x_0.size(0))\n",
    "        x_t, noise = self._sample_q(x_0, t)\n",
    "\n",
    "        noise_pred = model(x_t, t, y=y)\n",
    "\n",
    "        return self.loss_simple(noise, noise_pred)\n",
    "\n",
    "    @torch.no_grad()\n",
    "    def monte_carlo_covariance_estim(\n",
    "        self,\n",
    "        model: nn.Module,\n",
    "        t: Tensor,\n",
    "        x_mean: Tensor,\n",
    "        x_var: Tensor,\n",
    "        S: int = 100,\n",
    "        y: Optional[Tensor] = None,\n",
    "    ) -> Tensor:\n",
    "        \"\"\"\n",
    "        Perform Monte Carlo sampling to estimate covariance matrix.\n",
    "        Args:\n",
    "            x_mean: Mean of x_0 estimated by diffusion.\n",
    "            x_var: Variance of x_0 estimated by propagation.\n",
    "            S: Number of Monte Carlo samples.\n",
    "\n",
    "        Returns:\n",
    "            covariance: Empirical diagonal covariance\n",
    "        \"\"\"\n",
    "\n",
    "        std_x = torch.sqrt(torch.clamp(x_var, min=1e-12))\n",
    "        x_samples = [x_mean + std_x * torch.randn_like(x_mean) for _ in range(S)]\n",
    "        eps_samples = [model.accurate_forward(x_i, t, y=y) for x_i in x_samples]\n",
    "\n",
    "        x_samples = torch.stack(x_samples, dim=0)  # [S, B, C, H, W]\n",
    "        eps_samples = torch.stack(eps_samples, dim=0)  # [S, B, C, H, W]\n",
    "\n",
    "        # Compute covariance with numerical stability\n",
    "        x_centered = x_samples - x_mean.unsqueeze(0)\n",
    "        v_centered = eps_samples - torch.mean(eps_samples, dim=0, keepdim=True)\n",
    "\n",
    "        # NOTE: Compute the first term since second is 0 from the formula\n",
    "        # And this avoids numerical instabilities\n",
    "        covariance = torch.mean(x_centered * v_centered, dim=0)\n",
    "\n",
    "        return covariance\n",
    "\n",
    "    @torch.no_grad()\n",
    "    def sample_with_uncertainty(\n",
    "        self,\n",
    "        model: nn.Module,\n",
    "        channels: int = 1,\n",
    "        y: Optional[Tensor] = None,\n",
    "        cov_num_sample: int = 10,\n",
    "        log_intermediate: bool = True,\n",
    "    ) -> Tuple[Tensor, Tensor]:\n",
    "        \"\"\"\n",
    "        Iteratively sample from the model, tracking predictive uncertainty and optionally Cov(x, ε).\n",
    "        \"\"\"\n",
    "        model.eval()\n",
    "        batch_size = 1 if y is None else y.size(0)\n",
    "\n",
    "        x_t = torch.randn(\n",
    "            batch_size, channels, self.img_size, self.img_size, device=self.device\n",
    "        )\n",
    "\n",
    "        x_t_mean = x_t.clone()\n",
    "        x_t_var = torch.zeros_like(x_t)\n",
    "        cov_t = torch.zeros_like(x_t)\n",
    "\n",
    "        intermediates, uncertainties = [], []\n",
    "\n",
    "        for i in tqdm(reversed(range(self.noise_steps)), desc=\"Steps\", leave=False):\n",
    "            t = torch.full((batch_size,), i, device=self.device, dtype=torch.long)\n",
    "\n",
    "            # Predict noise and its variance\n",
    "            eps_mean, eps_var = model(x_t, t, y=y)  # mean and variance of noise\n",
    "            eps_t = eps_mean + torch.sqrt(eps_var) * torch.randn_like(eps_mean)\n",
    "\n",
    "            # Compute xt-1\n",
    "            beta_t = self.beta[t].view(-1, 1, 1, 1)\n",
    "            alpha_t = self.alpha[t].view(-1, 1, 1, 1)\n",
    "            alpha_bar_t = self.alpha_bar[t].view(-1, 1, 1, 1)\n",
    "\n",
    "            # Mean and x_t-1\n",
    "            coef1 = 1.0 / alpha_t.sqrt()\n",
    "            coef2 = (1.0 - alpha_t) / (1.0 - alpha_bar_t).sqrt()\n",
    "            x_prev_mean = coef1 * (x_t_mean - coef2 * eps_mean)\n",
    "            x_prev = (\n",
    "                coef1 * (x_t - coef2 * eps_t) + torch.randn_like(x_t) * beta_t.sqrt()\n",
    "            )\n",
    "\n",
    "            # Variance\n",
    "            coef3 = 2 * (1 - alpha_t) / (alpha_t * (1 - alpha_bar_t).sqrt())\n",
    "            coef4 = (1 - alpha_t) ** 2 / (alpha_t * (1 - alpha_bar_t))\n",
    "\n",
    "            \n",
    "            # x_prev_var = ((1 / alpha_t) * x_t_var) + (coef4 * eps_var) + beta_t\n",
    "            x_prev_var = ((1 / alpha_t) * x_t_var) - (coef3 * cov_t) + (coef4 * eps_var) + beta_t\n",
    "            \n",
    "            if i > 0:\n",
    "                # Covariance estimation with Monte Carlo\n",
    "                covariance = self.monte_carlo_covariance_estim(\n",
    "                    model=model,\n",
    "                    t=t - 1,\n",
    "                    x_mean=x_prev_mean,\n",
    "                    x_var=x_prev_var,\n",
    "                    S=cov_num_sample,\n",
    "                    y=y,\n",
    "                )\n",
    "\n",
    "            if i % 100 == 0 or i == self.noise_steps - 1:\n",
    "                print(f\"\\nStep {i}\")\n",
    "\n",
    "                # eps_var: shape [B, C, H, W]\n",
    "                # Reference slice\n",
    "                ref_slice = eps_var[0, 0]  # shape [H, W]\n",
    "                \n",
    "                # Compare each [H, W] slice to ref_slice\n",
    "                # Broadcasting ref_slice to shape [B, C, H, W]\n",
    "                \n",
    "                # print(f\"{(1 / alpha_t[0].item()) = }\")\n",
    "                # print(f\"{(coef4[0].item()) = }\")\n",
    "                # print( f\"  eps_var mean: {eps_var.mean().item():.4e}, std: {eps_var.std().item():.4e}\" )\n",
    "                # print( f\"  Covariance mean: {cov_t.mean().item():.4e}, std: {cov_t.std().item():.4e}\" )\n",
    "                #print( f\"  x_t_var mean: {x_t_var.mean().item():.4e}, std: {x_t_var.std().item():.4e}\" )\n",
    "                #print( f\"  x_prev_var mean: {x_prev_var.mean().item():.4e}, std: {x_prev_var.std().item():.4e}\" )\n",
    "\n",
    "            # Log intermediate images\n",
    "            if log_intermediate:\n",
    "                intermediates.append(self.transform_sampled_image(x_t.clone()))\n",
    "                uncertainties.append(x_prev_var.clone().cpu())  # per-pixel variance\n",
    "\n",
    "            x_t = x_prev\n",
    "            x_t_mean = x_prev_mean\n",
    "            x_t_var = x_prev_var\n",
    "            cov_t = covariance\n",
    "\n",
    "        uncertainties = torch.stack(uncertainties)  # [num_steps, B, C, H, W]\n",
    "        intermediates = torch.stack(intermediates)  # [num_steps, B, C, H, W]\n",
    "\n",
    "        model.train()\n",
    "        return intermediates, uncertainties"
   ]
  },
  {
   "cell_type": "markdown",
   "id": "3b667cd2",
   "metadata": {
    "id": "3b667cd2",
    "lines_to_next_cell": 0
   },
   "source": [
    "\n",
    "<!-- #region id=\"1d2b6a2d\" -->\n",
    "### 💨 Initialize Diffusion Process"
   ]
  },
  {
   "cell_type": "code",
   "execution_count": 10,
   "id": "95261ad0-4cd1-424d-9874-f791b9a67568",
   "metadata": {
    "colab": {
     "base_uri": "https://localhost:8080/"
    },
    "id": "95261ad0-4cd1-424d-9874-f791b9a67568",
    "outputId": "9c8d382b-1906-4927-aab4-52a0af1d580d"
   },
   "outputs": [
    {
     "data": {
      "application/vnd.jupyter.widget-view+json": {
       "model_id": "a2fc0648946d4cadbb636f827a87ef59",
       "version_major": 2,
       "version_minor": 0
      },
      "text/plain": [
       "Steps: 0it [00:00, ?it/s]"
      ]
     },
     "metadata": {},
     "output_type": "display_data"
    },
    {
     "name": "stdout",
     "output_type": "stream",
     "text": [
      "\n",
      "Step 999\n",
      "\n",
      "Step 10\n"
     ]
    }
   ],
   "source": [
    "# Since on a notebook we can have nicer bars\n",
    "total_steps = 1000\n",
    "n_samples = 1\n",
    "# cov_num_sample = 100\n",
    "cov_num_sample = 20\n",
    "\n",
    "\n",
    "# Initialize uncertainty-aware diffusion (same interface as base class)\n",
    "diffusion = UQDiffusion(noise_steps = total_steps, img_size=mnist_config.data.image_size, device=device)\n",
    "\n",
    "# Generate samples and uncertainty for images for different classes\n",
    "all_samples_grouped, uncertainties = diffusion.sample_with_uncertainty(\n",
    "    model=laplace_model,\n",
    "    y=torch.arange(n_samples, device=device) % num_classes,\n",
    "    cov_num_sample=cov_num_sample,\n",
    "    log_intermediate=True,\n",
    ")"
   ]
  },
  {
   "cell_type": "code",
   "execution_count": 11,
   "id": "2d2a716f-51b6-41d1-89eb-75c39214f3fa",
   "metadata": {},
   "outputs": [],
   "source": [
    "import os\n",
    "\n",
    "import matplotlib.pyplot as plt\n",
    "import numpy as np\n",
    "import torch\n",
    "\n",
    "\n",
    "def plot_interleaved_image_uncertainty(\n",
    "    images: torch.Tensor,\n",
    "    uncertainties: torch.Tensor,\n",
    "    save_path: str,\n",
    "    timesteps: list,\n",
    "    uq_cmp: str = \"viridis\",\n",
    "    img_cmap: str = \"gray\",\n",
    "    mult: float = 700.0,\n",
    "):\n",
    "    \"\"\"\n",
    "    Plot interleaved image and uncertainty maps.\n",
    "\n",
    "    Args:\n",
    "        images (Tensor): Shape (T, B, C, H, W)\n",
    "        uncertainties (Tensor): Shape (T, B, C, H, W)\n",
    "        save_path (str): Path to save figure.\n",
    "        timesteps (list[int]): Timestep indices to plot.\n",
    "        uq_cmp (str): Colormap for uncertainty.\n",
    "        img_cmap (str): Colormap for images.\n",
    "        mult (float): Multiplier for uncertainty visualization.\n",
    "    \"\"\"\n",
    "    if isinstance(images, list):\n",
    "        images = torch.stack(images)\n",
    "    if isinstance(uncertainties, list):\n",
    "        uncertainties = torch.stack(uncertainties)\n",
    "\n",
    "    T, B, C, H, W = images.shape\n",
    "    assert (\n",
    "        uncertainties.shape[0] == T and uncertainties.shape[1] == B\n",
    "    ), \"Images and uncertainties must have matching shapes in first two dims.\"\n",
    "\n",
    "    # If timesteps length doesn't match T, slice internally\n",
    "    if timesteps is None or len(timesteps) != T:\n",
    "        if timesteps is None:\n",
    "            timesteps = list(range(T))\n",
    "        else:\n",
    "            timesteps = list(timesteps)\n",
    "        images = images[timesteps]\n",
    "        uncertainties = uncertainties[timesteps]\n",
    "        T = len(timesteps)\n",
    "\n",
    "    images = images.permute(1, 0, 2, 3, 4)  # (B, T, C, H, W)\n",
    "    uncertainties = uncertainties.permute(1, 0, 2, 3, 4) * mult  # (B, T, C, H, W)\n",
    "\n",
    "    B = images.shape[0]\n",
    "\n",
    "    fig, axes = plt.subplots(\n",
    "        2 * B,\n",
    "        T,\n",
    "        figsize=(1.5 * T, 1.5 * 2 * B),\n",
    "    )\n",
    "\n",
    "    # Ensure axes is a 2D array\n",
    "    if isinstance(axes, plt.Axes):\n",
    "        axes = np.array([[axes]])\n",
    "    elif isinstance(axes, np.ndarray):\n",
    "        if axes.ndim == 1:\n",
    "            if T == 1:\n",
    "                axes = axes[:, np.newaxis]\n",
    "            elif 2 * B == 1:\n",
    "                axes = axes[np.newaxis, :]\n",
    "\n",
    "    all_unc_values = []\n",
    "    unc_images = []\n",
    "\n",
    "    for row in range(B):\n",
    "        for col in range(T):\n",
    "            img = images[row, col].cpu().numpy()\n",
    "            if img.shape[0] == 1:\n",
    "                img = img[0]  # Remove channel dim if single-channel\n",
    "            else:\n",
    "                img = np.transpose(img, (1, 2, 0))  # CxHxW → HxWxC\n",
    "\n",
    "            unc = uncertainties[row, col].squeeze().cpu().numpy()\n",
    "            all_unc_values.append(unc)\n",
    "\n",
    "            ax_img = axes[2 * row, col]\n",
    "            ax_unc = axes[2 * row + 1, col]\n",
    "\n",
    "            ax_img.imshow(img, cmap=img_cmap)\n",
    "            ax_img.axis(\"off\")\n",
    "            if row == 0:\n",
    "                ax_img.set_title(f\"step={timesteps[col]}\", fontsize=10)\n",
    "            if col == 0:\n",
    "                ax_img.set_ylabel(f\"Sample {row + 1}\", fontsize=10)\n",
    "\n",
    "            im = ax_unc.imshow(unc, cmap=uq_cmp)\n",
    "            unc_images.append(im)\n",
    "            ax_unc.axis(\"off\")\n",
    "\n",
    "    vmin = min(u.min() for u in all_unc_values)\n",
    "    vmax = max(u.max() for u in all_unc_values)\n",
    "    for im in unc_images:\n",
    "        im.set_clim(vmin, vmax)\n",
    "\n",
    "    plt.tight_layout()\n",
    "    plt.subplots_adjust(right=0.87)\n",
    "    cbar_ax = fig.add_axes([0.89, 0.15, 0.02, 0.7])\n",
    "    cbar = plt.colorbar(unc_images[0], cax=cbar_ax)\n",
    "    cbar.set_label(\"Uncertainty\", rotation=270, labelpad=15)\n",
    "\n",
    "    plt.savefig(save_path, bbox_inches=\"tight\")\n",
    "    plt.close()"
   ]
  },
  {
   "cell_type": "code",
   "execution_count": 12,
   "id": "f4f02271-7865-48b4-93f1-808d621b7a1c",
   "metadata": {
    "colab": {
     "base_uri": "https://localhost:8080/",
     "height": 313
    },
    "id": "f4f02271-7865-48b4-93f1-808d621b7a1c",
    "outputId": "c73c359b-a4f6-48ec-9d8e-fd48c2a63464"
   },
   "outputs": [],
   "source": [
    "# Now call the interleaved plot function\n",
    "plot_interleaved_image_uncertainty(\n",
    "    images=all_samples_grouped,       # (T, B, C, H, W)\n",
    "    uncertainties=uncertainties,      # (T, B, C, H, W)\n",
    "    save_path=os.path.join(save_dir, \"interleaved_grid.png\"),\n",
    "    timesteps=[900],\n",
    "    uq_cmp=\"viridis\",                 # Or \"grey\" or other matplotlib colormap\n",
    ")"
   ]
  },
  {
   "cell_type": "code",
   "execution_count": 14,
   "id": "2c30e21b-4cd0-4619-9e1e-89c1228b0f89",
   "metadata": {},
   "outputs": [
    {
     "data": {
      "image/png": "[encoded data removed]",
      "text/plain": [
       "<PIL.PngImagePlugin.PngImageFile image mode=RGBA size=194x287>"
      ]
     },
     "metadata": {},
     "output_type": "display_data"
    }
   ],
   "source": [
    "# Display samples grid images and uncertainty\n",
    "out_path_img = os.path.join(save_dir, \"interleaved_grid.png\")\n",
    "display(Image.open(out_path_img))"
   ]
  },
  {
   "cell_type": "code",
   "execution_count": 15,
   "id": "0bf4e232-2bca-4ec8-9d32-d9d2773740e4",
   "metadata": {
    "colab": {
     "base_uri": "https://localhost:8080/",
     "height": 410
    },
    "id": "0bf4e232-2bca-4ec8-9d32-d9d2773740e4",
    "outputId": "d3410b95-30bb-4a30-cf3c-df1889ffa392"
   },
   "outputs": [
    {
     "data": {
      "image/png": "[encoded data removed]",
      "text/plain": [
       "<Figure size 1000x600 with 1 Axes>"
      ]
     },
     "metadata": {},
     "output_type": "display_data"
    }
   ],
   "source": [
    "# plot_uncertainty_sums(uncertainties, samples=[0,2,5]), save_path=\"uncertainty_plot.png\")  # save to file only specific samples\n",
    "# Slice the first tensor dimension to only take every 50\n",
    "plot_uncertainty_sums(uncertainties[::50, ...])  # all samples"
   ]
  }
 ],
 "metadata": {
  "accelerator": "GPU",
  "colab": {
   "gpuType": "T4",
   "provenance": []
  },
  "kernelspec": {
   "display_name": "Python 3 (ipykernel)",
   "language": "python",
   "name": "python3"
  },
  "language_info": {
   "codemirror_mode": {
    "name": "ipython",
    "version": 3
   },
   "file_extension": ".py",
   "mimetype": "text/x-python",
   "name": "python",
   "nbconvert_exporter": "python",
   "pygments_lexer": "ipython3",
   "version": "3.12.11"
  }
 },
 "nbformat": 4,
 "nbformat_minor": 5
}
