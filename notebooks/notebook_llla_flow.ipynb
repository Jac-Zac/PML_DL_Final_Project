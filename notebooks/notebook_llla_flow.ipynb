{
 "cells": [
  {
   "cell_type": "markdown",
   "id": "1fdefdf5-2a0a-4ca7-9672-7e1544aad8a1",
   "metadata": {
    "id": "1fdefdf5-2a0a-4ca7-9672-7e1544aad8a1"
   },
   "source": [
    "# 🧙‍♂️ Sample Generation with Pretrained Model + LLLA\n",
    "\n",
    "[![Open In Colab](https://colab.research.google.com/assets/colab-badge.svg)](https://colab.research.google.com/github/Jac-Zac/PML_DL_Final_Project/blob/master/notebooks/notebook_llla_flow.ipynb)"
   ]
  },
  {
   "cell_type": "code",
   "execution_count": null,
   "id": "4e1c9b39-c109-4f95-85c2-817b6a9650c9",
   "metadata": {},
   "outputs": [],
   "source": [
    "# NOTE: Initial import needed for Google Collab\n",
    "# !pip install laplace-torch"
   ]
  },
  {
   "cell_type": "markdown",
   "id": "5LsZiP4Jfsqw",
   "metadata": {
    "id": "5LsZiP4Jfsqw",
    "jp-MarkdownHeadingCollapsed": true
   },
   "source": [
    "### Initial setup ⚙️"
   ]
  },
  {
   "cell_type": "code",
   "execution_count": null,
   "id": "0c880eaf-d325-40af-8b9a-a965d417023e",
   "metadata": {
    "id": "0c880eaf-d325-40af-8b9a-a965d417023e",
    "outputId": "811053c2-f235-4efb-ee65-9a3a5cdf661b"
   },
   "outputs": [],
   "source": [
    "try:\n",
    "    import google.colab\n",
    "    IN_COLAB = True\n",
    "except ImportError:\n",
    "    IN_COLAB = False"
   ]
  },
  {
   "cell_type": "code",
   "execution_count": null,
   "id": "hjV2GS6MlwQP",
   "metadata": {
    "lines_to_next_cell": 0
   },
   "outputs": [],
   "source": [
    "if IN_COLAB:\n",
    "    import os\n",
    "    !pip install laplace-torch -q \n",
    "    repo_dir = \"PML_DL_Final_Project\"\n",
    "    \n",
    "    if not os.path.exists(repo_dir):\n",
    "        !git clone https://github.com/Jac-Zac/PML_DL_Final_Project.git\n",
    "    else:\n",
    "        print(f\"Repository '{repo_dir}' already exists. Skipping clone.\")\n",
    "\n",
    "        \n",
    "    if os.path.isdir(repo_dir):\n",
    "        %cd $repo_dir\n",
    "        !pip install dotenv -q\n",
    "    else:\n",
    "        print(f\"Directory '{repo_dir}' not found. Please clone the repository first.\")\n",
    "\n",
    "else:\n",
    "    %cd .."
   ]
  },
  {
   "cell_type": "markdown",
   "id": "064b0bc4-6bf5-40b0-8af7-5c30a02c1ada",
   "metadata": {
    "id": "064b0bc4-6bf5-40b0-8af7-5c30a02c1ada",
    "jp-MarkdownHeadingCollapsed": true
   },
   "source": [
    "### 📦 Imports"
   ]
  },
  {
   "cell_type": "code",
   "execution_count": null,
   "id": "31f6b33e-bec1-47a2-afe0-c57ca840a622",
   "metadata": {
    "id": "31f6b33e-bec1-47a2-afe0-c57ca840a622"
   },
   "outputs": [],
   "source": [
    "import torch\n",
    "import os\n",
    "from PIL import Image\n",
    "from src.models.flow import UQFlowMatching\n",
    "from src.utils.data import get_llla_dataloader\n",
    "from src.utils.plots import plot_interleaved_image_uncertainty, plot_uncertainty_sums\n",
    "from src.utils.environment import get_device, set_seed, load_pretrained_model"
   ]
  },
  {
   "cell_type": "markdown",
   "id": "a345d2fb-62f0-4d0d-9cfb-12ca609dcba8",
   "metadata": {
    "id": "a345d2fb-62f0-4d0d-9cfb-12ca609dcba8",
    "jp-MarkdownHeadingCollapsed": true
   },
   "source": [
    "### 🧪 Setup: Seed and Device"
   ]
  },
  {
   "cell_type": "code",
   "execution_count": null,
   "id": "d158ca43-df3a-45a2-9e9d-47ced73866ff",
   "metadata": {
    "id": "d158ca43-df3a-45a2-9e9d-47ced73866ff"
   },
   "outputs": [],
   "source": [
    "seed = 1337\n",
    "set_seed(seed)\n",
    "device = get_device()\n",
    "os.makedirs(\"checkpoints\", exist_ok=True)"
   ]
  },
  {
   "cell_type": "markdown",
   "id": "d2cbc5f8-901d-466b-ad2a-9929037e20b0",
   "metadata": {
    "id": "d2cbc5f8-901d-466b-ad2a-9929037e20b0",
    "lines_to_next_cell": 0
   },
   "source": [
    "## 💡 Image Generation"
   ]
  },
  {
   "cell_type": "markdown",
   "id": "4e9b0a39-6cfe-48f1-8cd9-3a0114637c05",
   "metadata": {
    "id": "4e9b0a39-6cfe-48f1-8cd9-3a0114637c05"
   },
   "source": [
    "#### 🛠️ Configuration Parameters"
   ]
  },
  {
   "cell_type": "code",
   "execution_count": null,
   "id": "b288654b-668c-4ce7-8f10-d862677e29e4",
   "metadata": {
    "id": "b288654b-668c-4ce7-8f10-d862677e29e4"
   },
   "outputs": [],
   "source": [
    "sample_batch_size = 16\n",
    "num_classes = 10\n",
    "time_emb_dim = 128\n",
    "save_dir = \"samples\"\n",
    "model_name = \"unet\"\n",
    "method = \"flow\"\n",
    "ckpt_path = \"jac-zac/bayesflow-project/best-model:v19\"  # or use your last checkpoint\n",
    "# ckpt_path = \"jac-zac/diffusion-project/best-model:v83\"  # Working mnist model \n",
    "use_wandb = True\n",
    "dataset_name = 'FashionMNIST'"
   ]
  },
  {
   "cell_type": "markdown",
   "id": "81ba2dda",
   "metadata": {
    "id": "81ba2dda"
   },
   "source": [
    "#### 📥 Load model and Dataloader"
   ]
  },
  {
   "cell_type": "code",
   "execution_count": null,
   "id": "df411ffb-c6a8-4dc2-a071-df5e7b223920",
   "metadata": {
    "colab": {
     "base_uri": "https://localhost:8080/"
    },
    "id": "P62LzRyaxfBn",
    "outputId": "472dc8b5-994e-4205-c92b-8ebb80bff747"
   },
   "outputs": [],
   "source": [
    "from src.models.llla_model import LaplaceApproxModel\n",
    "from types import SimpleNamespace\n",
    "\n",
    "model_kwargs={\n",
    "    \"num_classes\": num_classes, \"time_emb_dim\": time_emb_dim,\n",
    "    # NOTE: We are currently using different time embedding because of a small bug but it is fine\n",
    "    \"time_embedding_type\": \"mlp\" if method == \"flow\" else \"sinusoidal\"\n",
    "}\n",
    "\n",
    "# Load pretrained MAP model using best checkpoint\n",
    "flow_model = load_pretrained_model(\n",
    "    model_name=model_name,\n",
    "    ckpt_path=ckpt_path,\n",
    "    device=device,\n",
    "    model_kwargs=model_kwargs,\n",
    "    use_wandb=use_wandb,\n",
    ")\n",
    "\n",
    "# Prepare data loaders for the Laplace fit\n",
    "train_loader, _ = get_llla_dataloader(batch_size=sample_batch_size, dataset_name = dataset_name, mode = \"flow\")\n",
    "\n",
    "mnist_config = SimpleNamespace()\n",
    "mnist_config.data = SimpleNamespace()\n",
    "mnist_config.data.image_size = 28  # MNIST image size"
   ]
  },
  {
   "cell_type": "markdown",
   "id": "9f986a39",
   "metadata": {
    "id": "9f986a39"
   },
   "source": [
    "### 💪 Fit Laplace approximation"
   ]
  },
  {
   "cell_type": "code",
   "execution_count": null,
   "id": "d572269b-f15a-415c-87b4-6f1437c28443",
   "metadata": {
    "colab": {
     "base_uri": "https://localhost:8080/"
    },
    "id": "P62LzRyaxfBn",
    "outputId": "472dc8b5-994e-4205-c92b-8ebb80bff747"
   },
   "outputs": [],
   "source": [
    "# Wrap diffusion model with your Custom Model for Laplace last layer approx\n",
    "# NOTE: Automatically call fit\n",
    "laplace_model = LaplaceApproxModel(\n",
    "    flow_model, train_loader, args=None, config=mnist_config\n",
    ")\n",
    "\n",
    "print(\"Laplace fitting completed on last layer of the diffusion model.\")"
   ]
  },
  {
   "cell_type": "markdown",
   "id": "3b667cd2",
   "metadata": {
    "id": "3b667cd2",
    "lines_to_next_cell": 0
   },
   "source": [
    "### 💨 Initialize Flow Process"
   ]
  },
  {
   "cell_type": "code",
   "execution_count": null,
   "id": "75449555-85f1-4e4a-9cb2-f964eda33923",
   "metadata": {
    "colab": {
     "base_uri": "https://localhost:8080/",
     "height": 355
    },
    "id": "xnCp4gh00K1R",
    "outputId": "f45c833f-5332-4c0f-94f0-e0d954530191"
   },
   "outputs": [],
   "source": [
    "total_steps = 50\n",
    "n_samples = 2\n",
    "cov_num_sample = 100\n",
    "\n",
    "# Initialize uncertainty-aware diffusion (same interface as base class)\n",
    "flow = UQFlowMatching(img_size=mnist_config.data.image_size, device=device)\n",
    "\n",
    "# Generate samples and uncertainty for images for different classes\n",
    "all_samples_grouped, uncertainties = flow.sample_with_uncertainty(\n",
    "    model=laplace_model,\n",
    "    y=torch.arange(n_samples, device=device) % num_classes,\n",
    "    cov_num_sample=cov_num_sample,\n",
    "    num_steps=total_steps,\n",
    "    log_intermediate=True,\n",
    ")"
   ]
  },
  {
   "cell_type": "code",
   "execution_count": null,
   "id": "5c93889e-935d-43cb-a170-1325e6b71ab4",
   "metadata": {},
   "outputs": [],
   "source": [
    "interval = 4\n",
    "\n",
    "# Now call the interleaved plot function\n",
    "plot_interleaved_image_uncertainty(\n",
    "    images=all_samples_grouped,       # (T, B, C, H, W)\n",
    "    uncertainties=uncertainties,      # (T, B, C, H, W)\n",
    "    save_path=os.path.join(save_dir, \"interleaved_grid.png\"),\n",
    "    timesteps=list(range(0, total_steps, interval)),\n",
    "    uq_cmp=\"viridis\",                 # Or \"grey\" or other matplotlib colormap\n",
    ")"
   ]
  },
  {
   "cell_type": "code",
   "execution_count": null,
   "id": "81700325-a547-479d-8aa4-1ff395fcc809",
   "metadata": {
    "colab": {
     "base_uri": "https://localhost:8080/",
     "height": 355
    },
    "id": "xnCp4gh00K1R",
    "outputId": "f45c833f-5332-4c0f-94f0-e0d954530191"
   },
   "outputs": [],
   "source": [
    "# Display samples grid images and uncertainty\n",
    "out_path_img = os.path.join(save_dir, \"interleaved_grid.png\")\n",
    "display(Image.open(out_path_img))"
   ]
  },
  {
   "cell_type": "code",
   "execution_count": null,
   "id": "0bf4e232-2bca-4ec8-9d32-d9d2773740e4",
   "metadata": {
    "colab": {
     "base_uri": "https://localhost:8080/",
     "height": 410
    },
    "id": "0bf4e232-2bca-4ec8-9d32-d9d2773740e4",
    "outputId": "f4d631f5-0706-4f9d-8341-4630ba66d292"
   },
   "outputs": [],
   "source": [
    "# plot_uncertainty_sums(uncertainties, samples=[0,2,5]), save_path=\"uncertainty_plot.png\")  # save to file only specific samples\n",
    "plot_uncertainty_sums(uncertainties)  # all samples"
   ]
  }
 ],
 "metadata": {
  "accelerator": "GPU",
  "colab": {
   "gpuType": "T4",
   "provenance": []
  },
  "kernelspec": {
   "display_name": "Python 3 (ipykernel)",
   "language": "python",
   "name": "python3"
  },
  "language_info": {
   "codemirror_mode": {
    "name": "ipython",
    "version": 3
   },
   "file_extension": ".py",
   "mimetype": "text/x-python",
   "name": "python",
   "nbconvert_exporter": "python",
   "pygments_lexer": "ipython3",
   "version": "3.12.11"
  }
 },
 "nbformat": 4,
 "nbformat_minor": 5
}
