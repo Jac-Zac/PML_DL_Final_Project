{
 "cells": [
  {
   "cell_type": "markdown",
   "id": "1fdefdf5-2a0a-4ca7-9672-7e1544aad8a1",
   "metadata": {
    "id": "1fdefdf5-2a0a-4ca7-9672-7e1544aad8a1"
   },
   "source": [
    "# 🧙‍♂️ Sample Generation with Pretrained Model + LLLA\n",
    "\n",
    "[![Open In Colab](https://colab.research.google.com/assets/colab-badge.svg)](https://colab.research.google.com/github/Jac-Zac/PML_DL_Final_Project/blob/master/notebooks/notebook_llla_flow.ipynb)"
   ]
  },
  {
   "cell_type": "markdown",
   "id": "5LsZiP4Jfsqw",
   "metadata": {
    "id": "5LsZiP4Jfsqw"
   },
   "source": [
    "### Initial setup ⚙️"
   ]
  },
  {
   "cell_type": "markdown",
   "id": "036ebd6a-207e-4e58-9e53-8eb656a61957",
   "metadata": {
    "id": "036ebd6a-207e-4e58-9e53-8eb656a61957"
   },
   "source": [
    "### If runned locally"
   ]
  },
  {
   "cell_type": "code",
   "execution_count": 1,
   "id": "0c880eaf-d325-40af-8b9a-a965d417023e",
   "metadata": {
    "id": "0c880eaf-d325-40af-8b9a-a965d417023e",
    "outputId": "811053c2-f235-4efb-ee65-9a3a5cdf661b"
   },
   "outputs": [],
   "source": [
    "try:\n",
    "    import google.colab\n",
    "    IN_COLAB = True\n",
    "except ImportError:\n",
    "    IN_COLAB = False"
   ]
  },
  {
   "cell_type": "code",
   "execution_count": 2,
   "id": "hjV2GS6MlwQP",
   "metadata": {
    "lines_to_next_cell": 0
   },
   "outputs": [
    {
     "name": "stdout",
     "output_type": "stream",
     "text": [
      "/Users/jaczac/Github/PML_DL_Final_Project\n"
     ]
    }
   ],
   "source": [
    "if IN_COLAB:\n",
    "    import os\n",
    "    !pip install laplace-torch -q \n",
    "    repo_dir = \"PML_DL_Final_Project\"\n",
    "    \n",
    "    if not os.path.exists(repo_dir):\n",
    "        !git clone https://github.com/Jac-Zac/PML_DL_Final_Project.git\n",
    "    else:\n",
    "        print(f\"Repository '{repo_dir}' already exists. Skipping clone.\")\n",
    "\n",
    "        \n",
    "    if os.path.isdir(repo_dir):\n",
    "        %cd $repo_dir\n",
    "        !pip install dotenv -q\n",
    "    else:\n",
    "        print(f\"Directory '{repo_dir}' not found. Please clone the repository first.\")\n",
    "\n",
    "else:\n",
    "    %cd .."
   ]
  },
  {
   "cell_type": "markdown",
   "id": "064b0bc4-6bf5-40b0-8af7-5c30a02c1ada",
   "metadata": {
    "id": "064b0bc4-6bf5-40b0-8af7-5c30a02c1ada"
   },
   "source": [
    "### 📦 Imports"
   ]
  },
  {
   "cell_type": "code",
   "execution_count": 11,
   "id": "31f6b33e-bec1-47a2-afe0-c57ca840a622",
   "metadata": {
    "id": "31f6b33e-bec1-47a2-afe0-c57ca840a622"
   },
   "outputs": [],
   "source": [
    "import torch\n",
    "\n",
    "from src.models.flow import FlowMatching\n",
    "from src.utils.data import get_dataloaders\n",
    "from src.utils.plots import plot_image_grid, plot_image_uncertainty_grid\n",
    "from src.utils.environment import get_device, set_seed, load_pretrained_model\n",
    "import os\n",
    "\n",
    "# Since on a notebook we can have nicer bars\n",
    "import tqdm.notebook as tqdm"
   ]
  },
  {
   "cell_type": "markdown",
   "id": "a345d2fb-62f0-4d0d-9cfb-12ca609dcba8",
   "metadata": {
    "id": "a345d2fb-62f0-4d0d-9cfb-12ca609dcba8"
   },
   "source": [
    "### 🧪 Setup: Seed and Device"
   ]
  },
  {
   "cell_type": "code",
   "execution_count": 12,
   "id": "d158ca43-df3a-45a2-9e9d-47ced73866ff",
   "metadata": {
    "id": "d158ca43-df3a-45a2-9e9d-47ced73866ff"
   },
   "outputs": [],
   "source": [
    "seed = 1337\n",
    "set_seed(seed)\n",
    "device = get_device()\n",
    "os.makedirs(\"checkpoints\", exist_ok=True)"
   ]
  },
  {
   "cell_type": "markdown",
   "id": "d2cbc5f8-901d-466b-ad2a-9929037e20b0",
   "metadata": {
    "id": "d2cbc5f8-901d-466b-ad2a-9929037e20b0",
    "lines_to_next_cell": 0
   },
   "source": [
    "## 💡 Image Generation"
   ]
  },
  {
   "cell_type": "markdown",
   "id": "4e9b0a39-6cfe-48f1-8cd9-3a0114637c05",
   "metadata": {
    "id": "4e9b0a39-6cfe-48f1-8cd9-3a0114637c05"
   },
   "source": [
    "#### 🛠️ Configuration Parameters"
   ]
  },
  {
   "cell_type": "code",
   "execution_count": 13,
   "id": "b288654b-668c-4ce7-8f10-d862677e29e4",
   "metadata": {
    "id": "b288654b-668c-4ce7-8f10-d862677e29e4"
   },
   "outputs": [],
   "source": [
    "n_samples = 5\n",
    "save_dir = \"samples\"\n",
    "max_steps = 1000\n",
    "model_name = \"unet\"\n",
    "method = \"flow\"\n",
    "ckpt_path = \"checkpoints/best_model.pth\"  # or use your last checkpoint"
   ]
  },
  {
   "cell_type": "markdown",
   "id": "81ba2dda",
   "metadata": {
    "id": "81ba2dda"
   },
   "source": [
    "#### Define Class for QUDiffusion"
   ]
  },
  {
   "cell_type": "code",
   "execution_count": 57,
   "id": "e636f678-c6b3-4ad4-ba4a-2073b818a5c2",
   "metadata": {
    "id": "e636f678-c6b3-4ad4-ba4a-2073b818a5c2"
   },
   "outputs": [],
   "source": [
    "from typing import List, Optional, Tuple\n",
    "\n",
    "import torch\n",
    "from torch import Tensor, nn\n",
    "\n",
    "class UQFlowMatching(FlowMatching):\n",
    "    \"\"\"\n",
    "    Flow Matching with Uncertainty Quantification via Monte Carlo sampling.\n",
    "    \"\"\"\n",
    "\n",
    "    def __init__(self, img_size: int = 64, device: torch.device = torch.device(\"cpu\")):\n",
    "        super().__init__(img_size, device)\n",
    "\n",
    "    # @torch.no_grad()\n",
    "    # def monte_carlo_covariance_estim(\n",
    "        # self,\n",
    "        # model: nn.Module,\n",
    "        # t: Tensor,\n",
    "        # x_mean: Tensor,\n",
    "        # x_var: Tensor,\n",
    "        # S: int = 10,\n",
    "        # y: Optional[Tensor] = None,\n",
    "    # ) -> Tuple[Tensor, Tensor]:\n",
    "        # \"\"\"\n",
    "        # Perform Monte Carlo sampling to estimate covariance matrix.\n",
    "        # Args:\n",
    "            # mean_x0: Mean of x_0 estimated by diffusion.\n",
    "            # var_x0: Variance of x_0 estimated by propagation.\n",
    "            # S: Number of Monte Carlo samples.\n",
    "# \n",
    "        # Returns:\n",
    "            # mc_mean: Empirical mean of samples.\n",
    "            # mc_var: Empirical pixel-wise variance of samples.\n",
    "        # \"\"\"\n",
    "# \n",
    "        # std_x = torch.sqrt(torch.clamp(x_var, min=1e-8))\n",
    "        # x_samples = [x_mean + std_x * torch.randn_like(x_mean) for _ in range(S)]\n",
    "# \n",
    "        # v_samples = []\n",
    "# \n",
    "        # for i in range(S):\n",
    "            # v_mean_i, v_var_i = model(x_samples[i], t, y=y)\n",
    "            # std_v_i = torch.sqrt(torch.clamp(v_var_i, min=1e-8))\n",
    "            # v_samples.append(v_mean_i + std_v_i * torch.randn_like(v_mean_i))\n",
    "# \n",
    "        # x_samples = torch.stack(x_samples, dim=0)  # [S, B, C, H, W]\n",
    "        # v_samples = torch.stack(v_samples, dim=0)  # [S, B, C, H, W]\n",
    "# \n",
    "        # first_term = 1 / S * torch.sum(x_samples * v_samples, dim=0)  # [B, C, H, W]\n",
    "        # second_term = torch.mean(x_samples, dim=0) * torch.mean(v_samples, dim=0) # [B, C, H, W]\n",
    "# \n",
    "        # return first_term - second_term\n",
    "        \n",
    "    @torch.no_grad()\n",
    "    def monte_carlo_covariance_estim(\n",
    "        self,\n",
    "        model: nn.Module,\n",
    "        t: Tensor,\n",
    "        x_mean: Tensor,\n",
    "        x_var: Tensor,\n",
    "        S: int = 10,\n",
    "        y: Optional[Tensor] = None,\n",
    "    ) -> Tensor:\n",
    "    \n",
    "        std_x = torch.sqrt(torch.clamp(x_var, min=1e-6))\n",
    "        x_samples = [x_mean + std_x * torch.randn_like(x_mean) for _ in range(S)]\n",
    "    \n",
    "        v_samples = []\n",
    "        for x in x_samples:\n",
    "            v_mean_i, _ = model(x, t, y=y)\n",
    "            v_samples.append(v_mean_i)  # use only the mean for stability\n",
    "    \n",
    "        x_samples = torch.stack(x_samples, dim=0)  # [S, B, C, H, W]\n",
    "        v_samples = torch.stack(v_samples, dim=0)  # [S, B, C, H, W]\n",
    "    \n",
    "        x_centered = x_samples - x_samples.mean(dim=0, keepdim=True)\n",
    "        v_centered = v_samples - v_samples.mean(dim=0, keepdim=True)\n",
    "    \n",
    "        covariance = torch.mean(x_centered * v_centered, dim=0)\n",
    "        return covariance\n",
    "\n",
    "\n",
    "    @torch.no_grad()\n",
    "    def sample_with_uncertainty(\n",
    "        self,\n",
    "        model: nn.Module,\n",
    "        t_sample_times: Optional[List[int]] = None,\n",
    "        channels: int = 1,\n",
    "        log_intermediate: bool = True,\n",
    "        y: Optional[Tensor] = None,\n",
    "        cov_num_sample: int = 10,\n",
    "        num_steps: int = 10,\n",
    "    ) -> Tuple[List[Tensor], List[Tensor]]:\n",
    "        \"\"\"\n",
    "        Sample with uncertainty tracking and Cov(x, v) estimation.\n",
    "\n",
    "        Returns:\n",
    "            intermediates: List of sampled images at given steps.\n",
    "            uncertainties: List of per-pixel variance maps at those steps.\n",
    "        \"\"\"\n",
    "        model.eval()\n",
    "\n",
    "        batch_size = 1 if y is None else y.size(0)\n",
    "\n",
    "        x_t = torch.randn(\n",
    "            batch_size, channels, self.img_size, self.img_size, device=self.device\n",
    "        )\n",
    "        x_t_mean = x_t.clone()\n",
    "        x_t_var = torch.zeros_like(x_t)\n",
    "        cov_t = torch.zeros_like(x_t)\n",
    "\n",
    "        intermediates, uncertainties = [], []\n",
    "\n",
    "        dt = 1.0 / num_steps\n",
    "        covariance = 0\n",
    "\n",
    "        for i in range(num_steps):\n",
    "            t = torch.full((batch_size,), i * dt, device=self.device, dtype=torch.long)\n",
    "\n",
    "            #################################\n",
    "            # Predict noise and its variance\n",
    "            v_mean, v_var = model(x_t, t, y=y)  # mean and variance of noise\n",
    "\n",
    "            v_t = v_mean + torch.sqrt(v_var) * torch.randn_like(v_mean)\n",
    "            x_succ = x_t + dt * v_t\n",
    "\n",
    "            # Mean\n",
    "            x_succ_mean = x_t_mean + dt * v_mean\n",
    "\n",
    "            # Variance\n",
    "            x_succ_var = x_t_var + dt**2 * v_var - 2 * dt * cov_t\n",
    "\n",
    "            # Covariance estimation with Monte Carlo\n",
    "            covariance = self.monte_carlo_covariance_estim(\n",
    "               model=model,\n",
    "               t=t + dt,\n",
    "               x_mean=x_succ_mean,\n",
    "               x_var=x_succ_var,\n",
    "               S=cov_num_sample,\n",
    "               y=y,\n",
    "            )\n",
    "\n",
    "            print(f\"\\nStep {i}\")\n",
    "            print(\"v_var mean:\", v_var.mean().item(), \"std:\", v_var.std().item())\n",
    "            print(\"covariance mean:\", covariance.mean().item(), \"std:\", covariance.std().item())\n",
    "            print(\"x_t_var mean:\", x_t_var.mean().item(), \"std:\", x_t_var.std().item())\n",
    "            print(\"x_succ_var mean:\", x_succ_var.mean().item(), \"std:\", x_succ_var.std().item())\n",
    "\n",
    "            # Log intermediate images\n",
    "            # if log_intermediate and t_sample_times and i in t_sample_times:\n",
    "            intermediates.append(self.transform_sampled_image(x_t.clone()))\n",
    "            uncertainties.append(x_t_var.clone().cpu())  # per-pixel variance\n",
    "\n",
    "            x_t = x_succ\n",
    "            x_t_mean = x_succ_mean\n",
    "            x_t_var = x_succ_var\n",
    "            cov_t = covariance\n",
    "\n",
    "        uncertainties = torch.stack(uncertainties)  # [num_steps, B, C, H, W]\n",
    "\n",
    "        model.train()\n",
    "        return intermediates, uncertainties"
   ]
  },
  {
   "cell_type": "markdown",
   "id": "9f986a39",
   "metadata": {
    "id": "9f986a39"
   },
   "source": [
    "### 💪 Fit Laplace approximation"
   ]
  },
  {
   "cell_type": "code",
   "execution_count": 31,
   "id": "P62LzRyaxfBn",
   "metadata": {
    "colab": {
     "base_uri": "https://localhost:8080/"
    },
    "id": "P62LzRyaxfBn",
    "outputId": "472dc8b5-994e-4205-c92b-8ebb80bff747"
   },
   "outputs": [
    {
     "name": "stderr",
     "output_type": "stream",
     "text": [
      "\u001b[34m\u001b[1mwandb\u001b[0m: \u001b[33mWARNING\u001b[0m If you're specifying your api key in code, ensure this code is not shared publicly.\n",
      "\u001b[34m\u001b[1mwandb\u001b[0m: \u001b[33mWARNING\u001b[0m Consider setting the WANDB_API_KEY environment variable, or running `wandb login` from the command line.\n",
      "\u001b[34m\u001b[1mwandb\u001b[0m: No netrc file found, creating one.\n",
      "\u001b[34m\u001b[1mwandb\u001b[0m: \u001b[33mWARNING\u001b[0m Unable to write /Users/jaczac/.config/netrc/netrc\n",
      "\u001b[34m\u001b[1mwandb\u001b[0m:   1 of 1 files downloaded.  \n",
      "WARNING:src.utils.environment:⚠️ Missing keys in state_dict: ['time_embed.1.weight', 'time_embed.1.bias', 'time_embed.3.weight', 'time_embed.3.bias']\n",
      "WARNING:src.utils.environment:⚠️ Unexpected keys in state_dict: ['time_embed.mlp.0.weight', 'time_embed.mlp.0.bias', 'time_embed.mlp.2.weight', 'time_embed.mlp.2.bias']\n",
      "                                                                                                                                                                                    "
     ]
    },
    {
     "name": "stdout",
     "output_type": "stream",
     "text": [
      "Laplace fitting completed on last layer of the diffusion model.\n"
     ]
    },
    {
     "name": "stderr",
     "output_type": "stream",
     "text": []
    }
   ],
   "source": [
    "from src.models.llla_model import LaplaceApproxModel\n",
    "from src.utils.data import get_llla_dataloader\n",
    "from types import SimpleNamespace\n",
    "\n",
    "\n",
    "num_classes = 10\n",
    "model_kwargs={\n",
    "    \"num_classes\": num_classes, \"time_emb_dim\": 128,\n",
    "    # NOTE: We are currently using different time embedding because of a small bug but it is fine\n",
    "    # \"time_embedding_type\": \"mlp\" if method == \"flow\" else \"sinusoidal\"\n",
    "}\n",
    "\n",
    "# Load pretrained MAP model using best checkpoint\n",
    "flow_model = load_pretrained_model(\n",
    "    model_name=\"unet\",\n",
    "    ckpt_path=\"jac-zac/diffusion-project/best-model:v63\",\n",
    "    device=device,\n",
    "    model_kwargs=model_kwargs,\n",
    "    use_wandb=True,\n",
    ")\n",
    "\n",
    "# 2️⃣ Prepare data loaders for the Laplace fit\n",
    "train_loader, _ = get_llla_dataloader(batch_size=128)\n",
    "\n",
    "mnist_config = SimpleNamespace()\n",
    "mnist_config.data = SimpleNamespace()\n",
    "mnist_config.data.image_size = 28  # MNIST image size\n",
    "\n",
    "# Wrap diffusion model with your Custom Model for Laplace last layer approx\n",
    "# NOTE: Automatically call fit\n",
    "laplace_model = LaplaceApproxModel(\n",
    "    flow_model, train_loader, args=None, config=mnist_config\n",
    ")\n",
    "\n",
    "print(\"Laplace fitting completed on last layer of the diffusion model.\")"
   ]
  },
  {
   "cell_type": "markdown",
   "id": "3b667cd2",
   "metadata": {
    "id": "3b667cd2",
    "lines_to_next_cell": 0
   },
   "source": [
    "<!-- #region id=\"1d2b6a2d\" -->\n",
    "### 💨 Initialize Flow Process"
   ]
  },
  {
   "cell_type": "markdown",
   "id": "1d2b6a2d",
   "metadata": {},
   "source": [
    "<!-- #endregion -->"
   ]
  },
  {
   "cell_type": "code",
   "execution_count": 58,
   "id": "4a65f99e",
   "metadata": {
    "id": "4a65f99e",
    "lines_to_next_cell": 0
   },
   "outputs": [],
   "source": [
    "# Initialize uncertainty-aware diffusion (same interface as base class)\n",
    "flow = UQFlowMatching(img_size=28, device=device)"
   ]
  },
  {
   "cell_type": "code",
   "execution_count": 59,
   "id": "n_gIwbObJxDW",
   "metadata": {
    "id": "n_gIwbObJxDW"
   },
   "outputs": [],
   "source": [
    "import os\n",
    "\n",
    "import matplotlib.pyplot as plt\n",
    "import numpy as np\n",
    "import torch\n",
    "\n",
    "\n",
    "def plot_image_uncertainty_grid(\n",
    "    model,\n",
    "    method_instance,\n",
    "    n: int,\n",
    "    num_intermediate: int,\n",
    "    total_steps: int,\n",
    "    save_dir: str,\n",
    "    device: torch.device,\n",
    "    num_classes: int,\n",
    "    cov_num_sample: int = 50,\n",
    "    uq_cmp: str = \"grey\"\n",
    "):\n",
    "    \"\"\"\n",
    "    Generate and plot a grid of intermediate samples for either diffusion or flow.\n",
    "\n",
    "    Args:\n",
    "        model: The trained model.\n",
    "        method_instance: The sampling method instance (Diffusion or FlowMatching).\n",
    "        n (int): Number of classes from which to generate ([0,1,..,n-1]).\n",
    "        num_intermediate (int): Number of intermediate steps to visualize.\n",
    "        total_steps (int): Maximum number of steps or timesteps.\n",
    "        save_dir (str): Directory to save the output image.\n",
    "        device: Torch device.\n",
    "        num_classes (int): Number of classes for label conditioning.\n",
    "    \"\"\"\n",
    "    # Prepare conditioning labels\n",
    "    y = torch.arange(n, device=device) % num_classes\n",
    "\n",
    "    # Decide which type of timesteps to generate\n",
    "    if method_instance.__class__.__name__ == \"UQFlowMatching\":\n",
    "        # Flow matching: choose indices between 0 and (steps-1)\n",
    "        # step_indices = torch.linspace(\n",
    "        #     0, total_steps, steps=num_intermediate, dtype=torch.int32\n",
    "        # ).tolist()\n",
    "        # print(\"Flow: step indices\", step_indices)\n",
    "\n",
    "        all_samples_grouped, uncertainties = method_instance.sample_with_uncertainty(\n",
    "            model,\n",
    "            log_intermediate=True,\n",
    "            y=y,\n",
    "            cov_num_sample=cov_num_sample,\n",
    "            num_steps=total_steps,\n",
    "        )\n",
    "        # timesteps = step_indices\n",
    "        print(\"Flow: samples shape is \", len(all_samples_grouped))\n",
    "        print(\"num steps (should be equal to timesteps): \", total_steps)\n",
    "        num_intermediate = total_steps\n",
    "    else:\n",
    "      # Diffusion: choose timesteps between total_steps and 0\n",
    "      t_sample_times = torch.linspace(\n",
    "          total_steps-1,\n",
    "          0,\n",
    "          steps=num_intermediate,\n",
    "          dtype=torch.int32,\n",
    "      ).tolist()\n",
    "      print(\"Diffusion: sample times \", t_sample_times)\n",
    "\n",
    "      all_samples_grouped, uncertainties = method_instance.sample_with_uncertainty(\n",
    "          model,\n",
    "          t_sample_times=t_sample_times,\n",
    "          log_intermediate=True,\n",
    "          y=y,\n",
    "          cov_num_sample=cov_num_sample,\n",
    "      )\n",
    "      timesteps = t_sample_times\n",
    "\n",
    "\n",
    "    ### ------------------ Plot images grid ------------------ ###\n",
    "\n",
    "    # Stack all generated images into a (B, T, C, H, W) tensor\n",
    "    print(\"samples length: \", len(all_samples_grouped))\n",
    "    stacked = torch.stack(all_samples_grouped)  # (T, B, C, H, W) (list of samples -> tensor of samples)\n",
    "    permuted = stacked.permute(1, 0, 2, 3, 4)  # (B, T, C, H, W)\n",
    "    num_classes, num_timesteps = permuted.shape[:2]   # extract B (length of y) and T (number of saved timesteps)\n",
    "    print(\"num timesteps: \", num_timesteps)\n",
    "\n",
    "    # Save as a grid\n",
    "    os.makedirs(save_dir, exist_ok=True)\n",
    "    out_path_img = os.path.join(save_dir, \"all_samples_grid.png\")\n",
    "\n",
    "    fig, axes = plt.subplots(\n",
    "        num_classes, num_intermediate, figsize=(1.5 * num_intermediate, 1.5 * num_classes)\n",
    "    )\n",
    "\n",
    "    if num_classes == 1:\n",
    "        axes = np.expand_dims(axes, 0)\n",
    "    if num_intermediate == 1:\n",
    "        axes = np.expand_dims(axes, 1)\n",
    "\n",
    "    indices = np.linspace(0, num_timesteps - 1, num=num_intermediate, dtype=int)  #last value is included\n",
    "    print(\"indices: \", indices)\n",
    "\n",
    "    for row in range(num_classes):\n",
    "        for idx, col in enumerate(indices):\n",
    "            img = permuted[row, col].squeeze().cpu().numpy()\n",
    "            ax = axes[row, col]\n",
    "            ax.imshow(img, cmap=\"gray\")\n",
    "            ax.axis(\"off\")\n",
    "            if row == 0:\n",
    "                ax.set_title(f\"step={indices[col]}\", fontsize=10)\n",
    "            if col == 0:\n",
    "                ax.set_ylabel(f\"Sample {row+1}\", fontsize=10)\n",
    "\n",
    "    plt.tight_layout()\n",
    "    plt.savefig(out_path_img, bbox_inches=\"tight\")\n",
    "    plt.close()\n",
    "\n",
    "\n",
    "    ### ------------------ Plot uncertainties grid ------------------ ###\n",
    "\n",
    "    # Convert uncertainties to tensor if needed\n",
    "    if isinstance(uncertainties, list):\n",
    "        uncertainties = torch.stack(uncertainties)  # (T, B, C, H, W)\n",
    "\n",
    "    # Multiplier\n",
    "    mult = 700\n",
    "\n",
    "    # Ensure uncertainties has same ordering: (B, T, C, H, W)\n",
    "    uncertainties_permuted = uncertainties.permute(1, 0, 2, 3, 4) * mult\n",
    "\n",
    "    out_path_unc = os.path.join(save_dir, \"all_uncertainties_grid.png\")\n",
    "\n",
    "    fig, axes = plt.subplots(\n",
    "        num_classes, num_intermediate, figsize=(1.5 * num_intermediate, 1.5 * num_classes)\n",
    "    )\n",
    "\n",
    "    if num_classes == 1:\n",
    "        axes = np.expand_dims(axes, 0)\n",
    "    if num_intermediate == 1:\n",
    "        axes = np.expand_dims(axes, 1)\n",
    "\n",
    "\n",
    "    for row in range(num_classes):\n",
    "        for idx, col in enumerate(indices):\n",
    "            img = uncertainties_permuted[row, col].squeeze().cpu().numpy()\n",
    "            ax = axes[row, col]\n",
    "            ax.imshow(img, cmap=uq_cmp)\n",
    "            ax.axis(\"off\")\n",
    "            if row == 0:\n",
    "                ax.set_title(f\"step={indices[col]}\", fontsize=10)\n",
    "            if col == 0:\n",
    "                ax.set_ylabel(f\"Sample {row+1}\", fontsize=10)\n",
    "\n",
    "    # for row in range(num_classes):\n",
    "    #     for col in range(num_intermediate):\n",
    "    #         unc = uncertainties_permuted[row, col].squeeze().cpu().numpy()\n",
    "    #         ax = axes[row, col]\n",
    "    #         im = ax.imshow(unc, cmap=uq_cmp)  # Heatmap for uncertainty\n",
    "    #         ax.axis(\"off\")\n",
    "    #         if row == 0:\n",
    "    #             ax.set_title(f\"step={timesteps[col]}\", fontsize=10)\n",
    "    #         if col == 0:\n",
    "    #             ax.set_ylabel(f\"Sample {row+1}\", fontsize=10)\n",
    "\n",
    "    plt.tight_layout()\n",
    "    plt.savefig(out_path_unc, bbox_inches=\"tight\")\n",
    "    plt.close()\n",
    "\n",
    "    return all_samples_grouped, uncertainties\n"
   ]
  },
  {
   "cell_type": "code",
   "execution_count": 60,
   "id": "xnCp4gh00K1R",
   "metadata": {
    "colab": {
     "base_uri": "https://localhost:8080/",
     "height": 355
    },
    "id": "xnCp4gh00K1R",
    "outputId": "f45c833f-5332-4c0f-94f0-e0d954530191"
   },
   "outputs": [
    {
     "name": "stdout",
     "output_type": "stream",
     "text": [
      "\n",
      "Step 0\n",
      "v_var mean: 1.9954560226409512e-09 std: 1.213952161016607e-09\n",
      "covariance mean: -3.802503840688587e-07 std: 2.2482150541236479e-07\n",
      "x_t_var mean: 0.0 std: 0.0\n",
      "x_succ_var mean: 1.9954560573354208e-11 std: 1.2139521159137967e-11\n",
      "\n",
      "Step 1\n",
      "v_var mean: 2.0920223331444276e-09 std: 1.2490698475531303e-09\n",
      "covariance mean: -4.1320637933495163e-07 std: 2.166901538203092e-07\n",
      "x_t_var mean: 1.9954560573354208e-11 std: 1.2139521159137967e-11\n",
      "x_succ_var mean: 7.609095575844549e-08 std: 4.495799643677856e-08\n",
      "\n",
      "Step 2\n",
      "v_var mean: 1.8702559501093674e-09 std: 1.581296760200246e-09\n",
      "covariance mean: -4.3773968627647264e-07 std: 2.3740878418720968e-07\n",
      "x_t_var mean: 7.609095575844549e-08 std: 4.495799643677856e-08\n",
      "x_succ_var mean: 1.5875092174155725e-07 std: 7.133126445069138e-08\n",
      "\n",
      "Step 3\n",
      "v_var mean: 2.6154580723414256e-09 std: 2.7819522241401273e-09\n",
      "covariance mean: -4.840455289922829e-07 std: 2.3976809870873694e-07\n",
      "x_t_var mean: 1.5875092174155725e-07 std: 7.133126445069138e-08\n",
      "x_succ_var mean: 2.463250154960406e-07 std: 9.791676802706206e-08\n",
      "\n",
      "Step 4\n",
      "v_var mean: 2.2988448922234284e-09 std: 2.1559425356088013e-09\n",
      "covariance mean: -4.887314730694925e-07 std: 2.562933616445662e-07\n",
      "x_t_var mean: 2.463250154960406e-07 std: 9.791676802706206e-08\n",
      "x_succ_var mean: 3.431570974044007e-07 std: 1.2456891340661969e-07\n",
      "\n",
      "Step 5\n",
      "v_var mean: 2.074431515453057e-09 std: 2.0948154322297796e-09\n",
      "covariance mean: -5.112493681735941e-07 std: 2.6108259021384583e-07\n",
      "x_t_var mean: 3.431570974044007e-07 std: 1.2456891340661969e-07\n",
      "x_succ_var mean: 4.409241682878928e-07 std: 1.5405437636673014e-07\n",
      "\n",
      "Step 6\n",
      "v_var mean: 3.179424723498414e-09 std: 4.202865611091511e-09\n",
      "covariance mean: -5.335677997209132e-07 std: 2.621713406369963e-07\n",
      "x_t_var mean: 4.409241682878928e-07 std: 1.5405437636673014e-07\n",
      "x_succ_var mean: 5.432058287624386e-07 std: 1.8131291312784015e-07\n",
      "\n",
      "Step 7\n",
      "v_var mean: 2.368670815044993e-09 std: 2.30042429549826e-09\n",
      "covariance mean: -5.52133315068204e-07 std: 2.732048756115546e-07\n",
      "x_t_var mean: 5.432058287624386e-07 std: 1.8131291312784015e-07\n",
      "x_succ_var mean: 6.4994310378097e-07 std: 2.110774204311383e-07\n",
      "\n",
      "Step 8\n",
      "v_var mean: 2.967402767950489e-09 std: 3.515652435837069e-09\n",
      "covariance mean: -5.591869580712228e-07 std: 2.735641260187549e-07\n",
      "x_t_var mean: 6.4994310378097e-07 std: 2.110774204311383e-07\n",
      "x_succ_var mean: 7.603994163218886e-07 std: 2.396840272922418e-07\n",
      "\n",
      "Step 9\n",
      "v_var mean: 2.7986439832261567e-09 std: 2.830850664992113e-09\n",
      "covariance mean: -6.115155883890111e-07 std: 3.171050195760472e-07\n",
      "x_t_var mean: 7.603994163218886e-07 std: 2.396840272922418e-07\n",
      "x_succ_var mean: 8.722648203729477e-07 std: 2.71013135488829e-07\n",
      "Flow: samples shape is  10\n",
      "num steps (should be equal to timesteps):  10\n",
      "samples length:  10\n",
      "num timesteps:  10\n",
      "indices:  [0 1 2 3 4 5 6 7 8 9]\n"
     ]
    },
    {
     "data": {
      "image/png": "[encoded data removed]",
      "text/plain": [
       "<PIL.PngImagePlugin.PngImageFile image mode=RGBA size=1465x148>"
      ]
     },
     "metadata": {},
     "output_type": "display_data"
    },
    {
     "data": {
      "image/png": "[encoded data removed]",
      "text/plain": [
       "<PIL.PngImagePlugin.PngImageFile image mode=RGBA size=1465x148>"
      ]
     },
     "metadata": {},
     "output_type": "display_data"
    }
   ],
   "source": [
    "from PIL import Image\n",
    "\n",
    "num_intermediate = 10\n",
    "max_steps = 10\n",
    "\n",
    "all_samples_grouped, uncertainties = plot_image_uncertainty_grid(\n",
    "        laplace_model,\n",
    "        flow,\n",
    "        num_intermediate=num_intermediate,\n",
    "        n=1,\n",
    "        total_steps=max_steps,\n",
    "        save_dir=save_dir,\n",
    "        device=device,\n",
    "        num_classes=num_classes,\n",
    "        cov_num_sample=15,\n",
    "    )\n",
    "\n",
    "# Display samples grid\n",
    "out_path_img = os.path.join(save_dir, \"all_samples_grid.png\")\n",
    "display(Image.open(out_path_img))\n",
    "\n",
    "# Display uncertainties grid\n",
    "out_path_unc = os.path.join(save_dir, \"all_uncertainties_grid.png\")\n",
    "display(Image.open(out_path_unc))\n"
   ]
  },
  {
   "cell_type": "code",
   "execution_count": 20,
   "id": "711ef0cf-0af7-4ac3-8ea0-e61b962cd036",
   "metadata": {
    "id": "711ef0cf-0af7-4ac3-8ea0-e61b962cd036",
    "outputId": "3a8ddc02-21ef-42b6-e222-c45d807cede6"
   },
   "outputs": [
    {
     "name": "stdout",
     "output_type": "stream",
     "text": [
      "torch.Size([10, 1, 1, 28, 28])\n"
     ]
    }
   ],
   "source": [
    "print(uncertainties.shape)"
   ]
  },
  {
   "cell_type": "code",
   "execution_count": 21,
   "id": "0bf4e232-2bca-4ec8-9d32-d9d2773740e4",
   "metadata": {
    "colab": {
     "base_uri": "https://localhost:8080/",
     "height": 410
    },
    "id": "0bf4e232-2bca-4ec8-9d32-d9d2773740e4",
    "outputId": "f4d631f5-0706-4f9d-8341-4630ba66d292"
   },
   "outputs": [
    {
     "data": {
      "image/png": "[encoded data removed]",
      "text/plain": [
       "<Figure size 800x400 with 1 Axes>"
      ]
     },
     "metadata": {},
     "output_type": "display_data"
    }
   ],
   "source": [
    "import torch\n",
    "import matplotlib.pyplot as plt\n",
    "# Sum over the last two dimensions (28x28)\n",
    "sums = uncertainties.sum(dim=[-1, -2])  # shape: [10, 1, 1]\n",
    "\n",
    "# Flatten to shape\n",
    "sums_flat = sums.view(num_intermediate)\n",
    "\n",
    "# Plot\n",
    "plt.figure(figsize=(8, 4))\n",
    "plt.plot(range(num_intermediate), sums_flat.tolist(), marker='o', linestyle='-')\n",
    "plt.title(\"Sum of last two dimensions per item in first dimension\")\n",
    "plt.xlabel(\"Index in first dimension\")\n",
    "plt.ylabel(\"Sum over 28x28\")\n",
    "plt.grid(True)\n",
    "plt.show()"
   ]
  }
 ],
 "metadata": {
  "accelerator": "GPU",
  "colab": {
   "gpuType": "T4",
   "provenance": []
  },
  "kernelspec": {
   "display_name": "Python 3 (ipykernel)",
   "language": "python",
   "name": "python3"
  },
  "language_info": {
   "codemirror_mode": {
    "name": "ipython",
    "version": 3
   },
   "file_extension": ".py",
   "mimetype": "text/x-python",
   "name": "python",
   "nbconvert_exporter": "python",
   "pygments_lexer": "ipython3",
   "version": "3.12.11"
  }
 },
 "nbformat": 4,
 "nbformat_minor": 5
}
