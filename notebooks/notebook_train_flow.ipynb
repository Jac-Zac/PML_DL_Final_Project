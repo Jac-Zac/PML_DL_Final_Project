{
 "cells": [
  {
   "cell_type": "markdown",
   "id": "5aaca214",
   "metadata": {
    "colab_type": "text",
    "id": "view-in-github"
   },
   "source": [
    "<a href=\"https://colab.research.google.com/github/Jac-Zac/PML_DL_Final_Project/blob/main/notebooks/notebook_train_flow.ipynb\" target=\"_parent\"><img src=\"https://colab.research.google.com/assets/colab-badge.svg\" alt=\"Open In Colab\"/></a>"
   ]
  },
  {
   "cell_type": "markdown",
   "id": "1fdefdf5-2a0a-4ca7-9672-7e1544aad8a1",
   "metadata": {
    "id": "1fdefdf5-2a0a-4ca7-9672-7e1544aad8a1"
   },
   "source": [
    "# 🧙‍♂️ Training diffusion model\n",
    "\n",
    "[![Open In Colab](https://colab.research.google.com/assets/colab-badge.svg)](https://colab.research.google.com/github/Jac-Zac/PML_DL_Final_Project/blob/master/notebooks/notebook_train_flow.ipynb)"
   ]
  },
  {
   "cell_type": "markdown",
   "id": "5LsZiP4Jfsqw",
   "metadata": {
    "id": "5LsZiP4Jfsqw",
    "jp-MarkdownHeadingCollapsed": true
   },
   "source": [
    "### Initial setup ⚙️"
   ]
  },
  {
   "cell_type": "code",
   "execution_count": null,
   "id": "ZwWYovar-v7m",
   "metadata": {
    "colab": {
     "base_uri": "https://localhost:8080/"
    },
    "id": "ZwWYovar-v7m",
    "outputId": "213970a4-7d57-4e7a-cd05-b4a7575a75d8"
   },
   "outputs": [
    {
     "name": "stdout",
     "output_type": "stream",
     "text": [
      "fatal: not a git repository (or any of the parent directories): .git\n"
     ]
    }
   ],
   "source": [
    "!git fetch https://github.com/Jac-Zac/PML_DL_Final_Project.git"
   ]
  },
  {
   "cell_type": "code",
   "execution_count": null,
   "id": "hjV2GS6MlwQP",
   "metadata": {
    "colab": {
     "base_uri": "https://localhost:8080/"
    },
    "id": "hjV2GS6MlwQP",
    "outputId": "1e2c49a1-60c5-4194-ab3c-e8ef705da7fb"
   },
   "outputs": [
    {
     "name": "stdout",
     "output_type": "stream",
     "text": [
      "Repository 'PML_DL_Final_Project' already exists. Skipping clone.\n"
     ]
    }
   ],
   "source": [
    "import os\n",
    "\n",
    "repo_dir = \"PML_DL_Final_Project\"\n",
    "\n",
    "if not os.path.exists(repo_dir):\n",
    "    !git clone https://github.com/Jac-Zac/PML_DL_Final_Project.git\n",
    "else:\n",
    "    print(f\"Repository '{repo_dir}' already exists. Skipping clone.\")"
   ]
  },
  {
   "cell_type": "code",
   "execution_count": null,
   "id": "8amRYEyKfb8n",
   "metadata": {
    "colab": {
     "base_uri": "https://localhost:8080/"
    },
    "id": "8amRYEyKfb8n",
    "outputId": "a65319b3-abd9-48be-929b-43d39fc26923"
   },
   "outputs": [
    {
     "name": "stdout",
     "output_type": "stream",
     "text": [
      "/content/PML_DL_Final_Project\n"
     ]
    }
   ],
   "source": [
    "if os.path.isdir(repo_dir):\n",
    "    %cd $repo_dir\n",
    "    !pip install dotenv -q\n",
    "else:\n",
    "    print(f\"Directory '{repo_dir}' not found. Please clone the repository first.\")"
   ]
  },
  {
   "cell_type": "markdown",
   "id": "064b0bc4-6bf5-40b0-8af7-5c30a02c1ada",
   "metadata": {
    "id": "064b0bc4-6bf5-40b0-8af7-5c30a02c1ada"
   },
   "source": [
    "### 📦 Imports"
   ]
  },
  {
   "cell_type": "code",
   "execution_count": null,
   "id": "31f6b33e-bec1-47a2-afe0-c57ca840a622",
   "metadata": {
    "id": "31f6b33e-bec1-47a2-afe0-c57ca840a622",
    "lines_to_next_cell": 0
   },
   "outputs": [],
   "source": [
    "import torch\n",
    "import numpy as np\n",
    "\n",
    "from src.train.train import train\n",
    "from src.utils.data import get_dataloaders\n",
    "from src.utils.plots import plot_image_grid\n",
    "from src.utils.environment import get_device, set_seed, load_pretrained_model\n",
    "\n",
    "from src.models.flow import FlowMatching\n",
    "\n",
    "# Since on a notebook we can have nicer bars\n",
    "from tqdm.notebook import tqdm as tqdm_notebook"
   ]
  },
  {
   "cell_type": "markdown",
   "id": "0cdf6e7e",
   "metadata": {
    "id": "0cdf6e7e"
   },
   "source": []
  },
  {
   "cell_type": "markdown",
   "id": "23ac9c3b-0116-4082-bfe9-9ddeac4581b3",
   "metadata": {
    "id": "23ac9c3b-0116-4082-bfe9-9ddeac4581b3"
   },
   "source": [
    "### 🛠️ Configuration Parameters"
   ]
  },
  {
   "cell_type": "code",
   "execution_count": null,
   "id": "d3cce8cf-ffe7-43a1-9365-11448299f119",
   "metadata": {
    "id": "d3cce8cf-ffe7-43a1-9365-11448299f119"
   },
   "outputs": [],
   "source": [
    "epochs = 20\n",
    "batch_size = 128\n",
    "learning_rate = 2e-3\n",
    "seed = 1337\n",
    "checkpoint_path = \"checkpoints/last.ckpt\"\n",
    "model_name = \"unet\"\n",
    "method = \"flow\"  # or \"flow\""
   ]
  },
  {
   "cell_type": "markdown",
   "id": "a345d2fb-62f0-4d0d-9cfb-12ca609dcba8",
   "metadata": {
    "id": "a345d2fb-62f0-4d0d-9cfb-12ca609dcba8"
   },
   "source": [
    "### 🧪 Setup: Seed and Device"
   ]
  },
  {
   "cell_type": "code",
   "execution_count": null,
   "id": "d158ca43-df3a-45a2-9e9d-47ced73866ff",
   "metadata": {
    "id": "d158ca43-df3a-45a2-9e9d-47ced73866ff"
   },
   "outputs": [],
   "source": [
    "set_seed(seed)\n",
    "device = get_device()\n",
    "os.makedirs(\"checkpoints\", exist_ok=True)"
   ]
  },
  {
   "cell_type": "markdown",
   "id": "a864b6ab-979f-4e2c-a83b-c2f096be6c2a",
   "metadata": {
    "id": "a864b6ab-979f-4e2c-a83b-c2f096be6c2a",
    "jp-MarkdownHeadingCollapsed": true
   },
   "source": [
    "## 🧠 Model Training"
   ]
  },
  {
   "cell_type": "markdown",
   "id": "a3544b19-39dd-4a46-a37a-53a761878804",
   "metadata": {
    "id": "a3544b19-39dd-4a46-a37a-53a761878804"
   },
   "source": [
    "#### 📥 Data Loading"
   ]
  },
  {
   "cell_type": "code",
   "execution_count": null,
   "id": "56d388d2-7c0b-4657-9ec2-8d7de4dd451a",
   "metadata": {
    "id": "56d388d2-7c0b-4657-9ec2-8d7de4dd451a"
   },
   "outputs": [],
   "source": [
    "# Returns DataLoaders that yield (image, timestep, label)\n",
    "train_loader, val_loader = get_dataloaders(batch_size=batch_size)"
   ]
  },
  {
   "cell_type": "markdown",
   "id": "c4103982-141a-4886-9f33-969cc2b5aab4",
   "metadata": {
    "id": "c4103982-141a-4886-9f33-969cc2b5aab4"
   },
   "source": [
    "#### Training"
   ]
  },
  {
   "cell_type": "code",
   "execution_count": null,
   "id": "296d3d48-2e41-4c2a-a796-c9ae5e577eac",
   "metadata": {
    "id": "296d3d48-2e41-4c2a-a796-c9ae5e577eac"
   },
   "outputs": [],
   "source": [
    "# NOTE: Currently assumes 10 classes are hardcoded\n",
    "num_classes = 10\n",
    "# HACK: Hard-coded number of classes (MNIST = 10)\n",
    "model_kwargs = {\n",
    "    \"num_classes\": 10,\n",
    "    \"out_channels\": 1,\n",
    "    \"time_emb_dim\": 128,\n",
    "    # NOTE: Change time embedding to learned for flow which is more sensible\n",
    "    \"time_embedding_type\": \"mlp\" if args.method == \"flow\" else \"sinusoidal\",\n",
    "}\n",
    "\n",
    "\n",
    "# NOTE: Instead of using train directly you can write here your custom traiing code\n",
    "# You can take inspiration from train to see how the checkpoints are saved\n",
    "\n",
    "# NOTE: You can also directly copy all the code from train a cell above this and modify it inside the notebook\n",
    "# similarly to what was done for the Flow Matching Class\n",
    "\n",
    "# But if you use it directly you can directly use model you have from the train\n"
   ]
  },
  {
   "cell_type": "code",
   "execution_count": null,
   "id": "s14jJ8YTQeCU",
   "metadata": {
    "colab": {
     "base_uri": "https://localhost:8080/",
     "height": 1000
    },
    "id": "s14jJ8YTQeCU",
    "outputId": "cf18ee50-076b-45ce-9699-7e1f38a9323e"
   },
   "outputs": [
    {
     "name": "stderr",
     "output_type": "stream",
     "text": [
      "WARNING:src.utils.environment:⚠️ Checkpoint path not found: checkpoints/last.ckpt\n"
     ]
    },
    {
     "name": "stdout",
     "output_type": "stream",
     "text": [
      "WANDB_API_KEY environment variable not set. Please enter your WandB API key: d8dc3ad9caae0ce9504bfcf61be898d8fbdbef18\n"
     ]
    },
    {
     "name": "stderr",
     "output_type": "stream",
     "text": [
      "\u001b[34m\u001b[1mwandb\u001b[0m: \u001b[33mWARNING\u001b[0m If you're specifying your api key in code, ensure this code is not shared publicly.\n",
      "\u001b[34m\u001b[1mwandb\u001b[0m: \u001b[33mWARNING\u001b[0m Consider setting the WANDB_API_KEY environment variable, or running `wandb login` from the command line.\n",
      "\u001b[34m\u001b[1mwandb\u001b[0m: Appending key for api.wandb.ai to your netrc file: /root/.netrc\n",
      "\u001b[34m\u001b[1mwandb\u001b[0m: Currently logged in as: \u001b[33mjacopozac\u001b[0m (\u001b[33mjac-zac\u001b[0m) to \u001b[32mhttps://api.wandb.ai\u001b[0m. Use \u001b[1m`wandb login --relogin`\u001b[0m to force relogin\n"
     ]
    },
    {
     "data": {
      "text/html": [
       "Tracking run with wandb version 0.20.1"
      ],
      "text/plain": [
       "<IPython.core.display.HTML object>"
      ]
     },
     "metadata": {},
     "output_type": "display_data"
    },
    {
     "data": {
      "text/html": [
       "Run data is saved locally in <code>/content/PML_DL_Final_Project/wandb/run-20250628_102418-tcjnzjfo</code>"
      ],
      "text/plain": [
       "<IPython.core.display.HTML object>"
      ]
     },
     "metadata": {},
     "output_type": "display_data"
    },
    {
     "data": {
      "text/html": [
       "Syncing run <strong><a href='https://wandb.ai/jac-zac/diffusion-project/runs/tcjnzjfo' target=\"_blank\">vague-surf-126</a></strong> to <a href='https://wandb.ai/jac-zac/diffusion-project' target=\"_blank\">Weights & Biases</a> (<a href='https://wandb.me/developer-guide' target=\"_blank\">docs</a>)<br>"
      ],
      "text/plain": [
       "<IPython.core.display.HTML object>"
      ]
     },
     "metadata": {},
     "output_type": "display_data"
    },
    {
     "data": {
      "text/html": [
       " View project at <a href='https://wandb.ai/jac-zac/diffusion-project' target=\"_blank\">https://wandb.ai/jac-zac/diffusion-project</a>"
      ],
      "text/plain": [
       "<IPython.core.display.HTML object>"
      ]
     },
     "metadata": {},
     "output_type": "display_data"
    },
    {
     "data": {
      "text/html": [
       " View run at <a href='https://wandb.ai/jac-zac/diffusion-project/runs/tcjnzjfo' target=\"_blank\">https://wandb.ai/jac-zac/diffusion-project/runs/tcjnzjfo</a>"
      ],
      "text/plain": [
       "<IPython.core.display.HTML object>"
      ]
     },
     "metadata": {},
     "output_type": "display_data"
    },
    {
     "name": "stdout",
     "output_type": "stream",
     "text": [
      "\n",
      "Epoch 1/20\n"
     ]
    },
    {
     "name": "stderr",
     "output_type": "stream",
     "text": []
    },
    {
     "name": "stdout",
     "output_type": "stream",
     "text": [
      "Train Loss: 0.8979 | Val Loss: 0.6374 | LR: 0.000994\n",
      "New best model saved! Epoch 1, Val Loss: 0.6374\n",
      "\n",
      "Epoch 2/20\n"
     ]
    },
    {
     "name": "stderr",
     "output_type": "stream",
     "text": []
    },
    {
     "name": "stdout",
     "output_type": "stream",
     "text": [
      "Train Loss: 0.6179 | Val Loss: 0.5879 | LR: 0.000976\n",
      "New best model saved! Epoch 2, Val Loss: 0.5879\n",
      "\n",
      "Epoch 3/20\n"
     ]
    },
    {
     "name": "stderr",
     "output_type": "stream",
     "text": []
    },
    {
     "name": "stdout",
     "output_type": "stream",
     "text": [
      "Train Loss: 0.5768 | Val Loss: 0.5807 | LR: 0.000946\n",
      "New best model saved! Epoch 3, Val Loss: 0.5807\n",
      "\n",
      "Epoch 4/20\n"
     ]
    },
    {
     "name": "stderr",
     "output_type": "stream",
     "text": []
    },
    {
     "name": "stdout",
     "output_type": "stream",
     "text": [
      "Train Loss: 0.5629 | Val Loss: 0.5518 | LR: 0.000905\n",
      "New best model saved! Epoch 4, Val Loss: 0.5518\n",
      "\n",
      "Epoch 5/20\n"
     ]
    },
    {
     "name": "stderr",
     "output_type": "stream",
     "text": []
    },
    {
     "name": "stdout",
     "output_type": "stream",
     "text": [
      "Train Loss: 0.5559 | Val Loss: 0.5388 | LR: 0.000855\n",
      "New best model saved! Epoch 5, Val Loss: 0.5388\n",
      "\n",
      "Epoch 6/20\n"
     ]
    },
    {
     "name": "stderr",
     "output_type": "stream",
     "text": []
    },
    {
     "name": "stdout",
     "output_type": "stream",
     "text": [
      "Train Loss: 0.5480 | Val Loss: 0.5435 | LR: 0.000796\n",
      "\n",
      "Epoch 7/20\n"
     ]
    },
    {
     "name": "stderr",
     "output_type": "stream",
     "text": []
    },
    {
     "name": "stdout",
     "output_type": "stream",
     "text": [
      "Train Loss: 0.5417 | Val Loss: 0.5461 | LR: 0.000730\n",
      "\n",
      "Epoch 8/20\n"
     ]
    },
    {
     "name": "stderr",
     "output_type": "stream",
     "text": []
    },
    {
     "name": "stdout",
     "output_type": "stream",
     "text": [
      "Train Loss: 0.5355 | Val Loss: 0.5309 | LR: 0.000658\n",
      "New best model saved! Epoch 8, Val Loss: 0.5309\n",
      "\n",
      "Epoch 9/20\n"
     ]
    },
    {
     "name": "stderr",
     "output_type": "stream",
     "text": []
    },
    {
     "name": "stdout",
     "output_type": "stream",
     "text": [
      "Train Loss: 0.5299 | Val Loss: 0.5283 | LR: 0.000582\n",
      "New best model saved! Epoch 9, Val Loss: 0.5283\n",
      "\n",
      "Epoch 10/20\n"
     ]
    },
    {
     "name": "stderr",
     "output_type": "stream",
     "text": []
    },
    {
     "name": "stdout",
     "output_type": "stream",
     "text": [
      "Train Loss: 0.5277 | Val Loss: 0.5154 | LR: 0.000505\n",
      "New best model saved! Epoch 10, Val Loss: 0.5154\n",
      "\n",
      "Epoch 11/20\n"
     ]
    },
    {
     "name": "stderr",
     "output_type": "stream",
     "text": []
    },
    {
     "name": "stdout",
     "output_type": "stream",
     "text": [
      "Train Loss: 0.5204 | Val Loss: 0.5250 | LR: 0.000428\n",
      "\n",
      "Epoch 12/20\n"
     ]
    },
    {
     "name": "stderr",
     "output_type": "stream",
     "text": []
    },
    {
     "name": "stdout",
     "output_type": "stream",
     "text": [
      "Train Loss: 0.5179 | Val Loss: 0.5050 | LR: 0.000352\n",
      "New best model saved! Epoch 12, Val Loss: 0.5050\n",
      "\n",
      "Epoch 13/20\n"
     ]
    },
    {
     "name": "stderr",
     "output_type": "stream",
     "text": []
    },
    {
     "name": "stdout",
     "output_type": "stream",
     "text": [
      "Train Loss: 0.5151 | Val Loss: 0.5085 | LR: 0.000280\n",
      "\n",
      "Epoch 14/20\n"
     ]
    },
    {
     "name": "stderr",
     "output_type": "stream",
     "text": []
    },
    {
     "name": "stdout",
     "output_type": "stream",
     "text": [
      "Train Loss: 0.5093 | Val Loss: 0.5007 | LR: 0.000214\n",
      "New best model saved! Epoch 14, Val Loss: 0.5007\n",
      "\n",
      "Epoch 15/20\n"
     ]
    },
    {
     "name": "stderr",
     "output_type": "stream",
     "text": []
    },
    {
     "name": "stdout",
     "output_type": "stream",
     "text": [
      "Train Loss: 0.5057 | Val Loss: 0.5091 | LR: 0.000155\n",
      "\n",
      "Epoch 16/20\n"
     ]
    },
    {
     "name": "stderr",
     "output_type": "stream",
     "text": []
    },
    {
     "name": "stdout",
     "output_type": "stream",
     "text": [
      "Train Loss: 0.5051 | Val Loss: 0.5187 | LR: 0.000105\n",
      "\n",
      "Epoch 17/20\n"
     ]
    },
    {
     "name": "stderr",
     "output_type": "stream",
     "text": []
    },
    {
     "name": "stdout",
     "output_type": "stream",
     "text": [
      "Train Loss: 0.5079 | Val Loss: 0.5107 | LR: 0.000064\n",
      "\n",
      "Epoch 18/20\n"
     ]
    },
    {
     "name": "stderr",
     "output_type": "stream",
     "text": []
    },
    {
     "name": "stdout",
     "output_type": "stream",
     "text": [
      "Train Loss: 0.5053 | Val Loss: 0.4957 | LR: 0.000034\n",
      "New best model saved! Epoch 18, Val Loss: 0.4957\n",
      "\n",
      "Epoch 19/20\n"
     ]
    },
    {
     "name": "stderr",
     "output_type": "stream",
     "text": []
    },
    {
     "name": "stdout",
     "output_type": "stream",
     "text": [
      "Train Loss: 0.5029 | Val Loss: 0.4912 | LR: 0.000016\n",
      "New best model saved! Epoch 19, Val Loss: 0.4912\n",
      "\n",
      "Epoch 20/20\n"
     ]
    },
    {
     "name": "stderr",
     "output_type": "stream",
     "text": []
    },
    {
     "name": "stdout",
     "output_type": "stream",
     "text": [
      "Train Loss: 0.4991 | Val Loss: 0.4959 | LR: 0.000010\n"
     ]
    },
    {
     "data": {
      "text/html": [],
      "text/plain": [
       "<IPython.core.display.HTML object>"
      ]
     },
     "metadata": {},
     "output_type": "display_data"
    },
    {
     "data": {
      "text/html": [
       "<br>    <style><br>        .wandb-row {<br>            display: flex;<br>            flex-direction: row;<br>            flex-wrap: wrap;<br>            justify-content: flex-start;<br>            width: 100%;<br>        }<br>        .wandb-col {<br>            display: flex;<br>            flex-direction: column;<br>            flex-basis: 100%;<br>            flex: 1;<br>            padding: 10px;<br>        }<br>    </style><br><div class=\"wandb-row\"><div class=\"wandb-col\"><h3>Run history:</h3><br/><table class=\"wandb\"><tr><td>epoch</td><td>▁▁▂▂▂▃▃▄▄▄▅▅▅▆▆▇▇▇██</td></tr><tr><td>learning_rate</td><td>███▇▇▇▆▆▅▅▄▃▃▂▂▂▁▁▁▁</td></tr><tr><td>train/loss_epoch</td><td>█▃▂▂▂▂▂▂▂▂▁▁▁▁▁▁▁▁▁▁</td></tr><tr><td>train/loss_step</td><td>█▄▅▂▂▂▃▂▂▂▃▃▂▂▂▂▁▁▂▂▂▁▂▂▃▂▂▃▃▂▁▂▂▂▂▂▂▂▂▂</td></tr><tr><td>val/loss</td><td>█▆▅▄▃▄▄▃▃▂▃▂▂▁▂▂▂▁▁▁</td></tr></table><br/></div><div class=\"wandb-col\"><h3>Run summary:</h3><br/><table class=\"wandb\"><tr><td>best_train_loss</td><td>0.50293</td></tr><tr><td>best_val_epoch</td><td>19</td></tr><tr><td>best_val_loss</td><td>0.49124</td></tr><tr><td>best_val_lr</td><td>2e-05</td></tr><tr><td>epoch</td><td>20</td></tr><tr><td>learning_rate</td><td>1e-05</td></tr><tr><td>train/loss_epoch</td><td>0.49914</td></tr><tr><td>train/loss_step</td><td>0.51185</td></tr><tr><td>val/loss</td><td>0.49586</td></tr></table><br/></div></div>"
      ],
      "text/plain": [
       "<IPython.core.display.HTML object>"
      ]
     },
     "metadata": {},
     "output_type": "display_data"
    },
    {
     "data": {
      "text/html": [
       " View run <strong style=\"color:#cdcd00\">vague-surf-126</strong> at: <a href='https://wandb.ai/jac-zac/diffusion-project/runs/tcjnzjfo' target=\"_blank\">https://wandb.ai/jac-zac/diffusion-project/runs/tcjnzjfo</a><br> View project at: <a href='https://wandb.ai/jac-zac/diffusion-project' target=\"_blank\">https://wandb.ai/jac-zac/diffusion-project</a><br>Synced 5 W&B file(s), 20 media file(s), 24 artifact file(s) and 0 other file(s)"
      ],
      "text/plain": [
       "<IPython.core.display.HTML object>"
      ]
     },
     "metadata": {},
     "output_type": "display_data"
    },
    {
     "data": {
      "text/html": [
       "Find logs at: <code>./wandb/run-20250628_102418-tcjnzjfo/logs</code>"
      ],
      "text/plain": [
       "<IPython.core.display.HTML object>"
      ]
     },
     "metadata": {},
     "output_type": "display_data"
    },
    {
     "name": "stdout",
     "output_type": "stream",
     "text": [
      "\n",
      "Training complete. Best validation loss: 0.4912\n"
     ]
    }
   ],
   "source": [
    "flow_model = train(\n",
    "    num_epochs=epochs,\n",
    "    device= device,\n",
    "    dataloader = train_loader,\n",
    "    val_loader = val_loader,\n",
    "    use_wandb = True,\n",
    "    checkpoint_path = checkpoint_path,\n",
    "    model_kwargs = model_kwargs,\n",
    "    method = method\n",
    ")"
   ]
  },
  {
   "cell_type": "markdown",
   "id": "d2cbc5f8-901d-466b-ad2a-9929037e20b0",
   "metadata": {
    "id": "d2cbc5f8-901d-466b-ad2a-9929037e20b0",
    "lines_to_next_cell": 0
   },
   "source": [
    "## 💡 Image Generation"
   ]
  },
  {
   "cell_type": "markdown",
   "id": "4e9b0a39-6cfe-48f1-8cd9-3a0114637c05",
   "metadata": {
    "id": "4e9b0a39-6cfe-48f1-8cd9-3a0114637c05"
   },
   "source": [
    "#### 🛠️ Configuration Parameters"
   ]
  },
  {
   "cell_type": "code",
   "execution_count": null,
   "id": "b288654b-668c-4ce7-8f10-d862677e29e4",
   "metadata": {
    "id": "b288654b-668c-4ce7-8f10-d862677e29e4"
   },
   "outputs": [],
   "source": [
    "n_samples = 5     #number of classes I want to sample\n",
    "save_dir = \"samples\"\n",
    "max_steps = 1000\n",
    "num_timesteps = 6\n",
    "\n",
    "ckpt_path = \"checkpoints/best_model.pth\"  # or use your last checkpoint"
   ]
  },
  {
   "cell_type": "code",
   "execution_count": 14,
   "id": "g9uJCuiiPknZ",
   "metadata": {
    "colab": {
     "base_uri": "https://localhost:8080/",
     "height": 757
    },
    "id": "g9uJCuiiPknZ",
    "outputId": "3b5411d7-da69-4d3e-d65c-35a428ee364f"
   },
   "outputs": [
    {
     "data": {
      "image/png": "[encoded data removed]",
      "text/plain": [
       "<PIL.PngImagePlugin.PngImageFile image mode=RGBA size=885x740>"
      ]
     },
     "metadata": {},
     "output_type": "display_data"
    }
   ],
   "source": [
    "from PIL import Image\n",
    "import torchvision.utils as vutils\n",
    "import matplotlib.pyplot as plt\n",
    "\n",
    "# 💫 Create diffusion sampler\n",
    "flow = FlowMatching(img_size=28, device=device)\n",
    "\n",
    "plot_image_grid(\n",
    "    flow_model,\n",
    "    flow,\n",
    "    num_intermediate=num_timesteps,\n",
    "    n=n_samples,\n",
    "    max_steps=max_steps,\n",
    "    save_dir=save_dir,\n",
    "    device=device,\n",
    "    num_classes=num_classes,\n",
    ")\n",
    "\n",
    "\n",
    "out_path = os.path.join(save_dir, \"all_samples_grid.png\")\n",
    "display(Image.open(out_path))"
   ]
  }
 ],
 "metadata": {
  "accelerator": "GPU",
  "colab": {
   "gpuType": "T4",
   "include_colab_link": true,
   "provenance": []
  },
  "kernelspec": {
   "display_name": "Python 3 (ipykernel)",
   "language": "python",
   "name": "python3"
  },
  "language_info": {
   "codemirror_mode": {
    "name": "ipython",
    "version": 3
   },
   "file_extension": ".py",
   "mimetype": "text/x-python",
   "name": "python",
   "nbconvert_exporter": "python",
   "pygments_lexer": "ipython3",
   "version": "3.13.5"
  }
 },
 "nbformat": 4,
 "nbformat_minor": 5
}
