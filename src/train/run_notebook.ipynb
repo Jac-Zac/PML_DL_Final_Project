{
 "cells": [
  {
   "cell_type": "markdown",
   "id": "1fdefdf5-2a0a-4ca7-9672-7e1544aad8a1",
   "metadata": {},
   "source": [
    "# Traning Code"
   ]
  },
  {
   "cell_type": "markdown",
   "id": "064b0bc4-6bf5-40b0-8af7-5c30a02c1ada",
   "metadata": {},
   "source": [
    "### 📦 Imports"
   ]
  },
  {
   "cell_type": "code",
   "execution_count": null,
   "id": "31f6b33e-bec1-47a2-afe0-c57ca840a622",
   "metadata": {},
   "outputs": [],
   "source": [
    "import os\n",
    "\n",
    "from src.train.train import train\n",
    "from src.utils.data import get_dataloaders\n",
    "from src.utils.environment import get_device, set_seed"
   ]
  },
  {
   "cell_type": "markdown",
   "id": "23ac9c3b-0116-4082-bfe9-9ddeac4581b3",
   "metadata": {},
   "source": [
    "### 🛠️ Configuration"
   ]
  },
  {
   "cell_type": "code",
   "execution_count": null,
   "id": "d3cce8cf-ffe7-43a1-9365-11448299f119",
   "metadata": {},
   "outputs": [],
   "source": [
    "epochs = 10\n",
    "batch_size = 128\n",
    "learning_rate = 1e-3\n",
    "seed = 1337\n",
    "checkpoint = None  # e.g., \"checkpoints/last.ckpt\"\n",
    "model_name = \"unet\"\n",
    "method = \"diffusion\"  # or \"flow\""
   ]
  },
  {
   "cell_type": "markdown",
   "id": "a345d2fb-62f0-4d0d-9cfb-12ca609dcba8",
   "metadata": {},
   "source": [
    "### 🧪 Setup: Seed and Device"
   ]
  },
  {
   "cell_type": "code",
   "execution_count": null,
   "id": "d158ca43-df3a-45a2-9e9d-47ced73866ff",
   "metadata": {},
   "outputs": [],
   "source": [
    "set_seed(seed)\n",
    "device = get_device()\n",
    "os.makedirs(\"checkpoints\", exist_ok=True)"
   ]
  },
  {
   "cell_type": "markdown",
   "id": "53e79895-fcec-4812-8c9b-c2445f009291",
   "metadata": {},
   "source": [
    "### 📥 Data Loading"
   ]
  },
  {
   "cell_type": "code",
   "execution_count": null,
   "id": "56d388d2-7c0b-4657-9ec2-8d7de4dd451a",
   "metadata": {},
   "outputs": [],
   "source": [
    "train_loader, val_loader = get_dataloaders(batch_size=batch_size)"
   ]
  },
  {
   "cell_type": "markdown",
   "id": "a864b6ab-979f-4e2c-a83b-c2f096be6c2a",
   "metadata": {},
   "source": [
    "### 🧠 Model Training"
   ]
  },
  {
   "cell_type": "code",
   "execution_count": null,
   "id": "296d3d48-2e41-4c2a-a796-c9ae5e577eac",
   "metadata": {},
   "outputs": [],
   "source": [
    "# NOTE: Currently assumes 10 classes are hardcoded\n",
    "num_classes = 10\n",
    "model_kwargs = {\"num_classes\": num_classes}\n",
    "\n",
    "trained_model = train(\n",
    "    num_epochs=epochs,\n",
    "    device=device,\n",
    "    dataloader=train_loader,\n",
    "    val_loader=val_loader,\n",
    "    learning_rate=learning_rate,\n",
    "    use_wandb=True,\n",
    "    checkpoint_path=checkpoint,\n",
    "    model_name=model_name,\n",
    "    model_kwargs=model_kwargs,\n",
    "    method=method,\n",
    ")"
   ]
  }
 ],
 "metadata": {
  "kernelspec": {
   "display_name": "Python 3 (ipykernel)",
   "language": "python",
   "name": "python3"
  },
  "language_info": {
   "codemirror_mode": {
    "name": "ipython",
    "version": 3
   },
   "file_extension": ".py",
   "mimetype": "text/x-python",
   "name": "python",
   "nbconvert_exporter": "python",
   "pygments_lexer": "ipython3",
   "version": "3.13.5"
  }
 },
 "nbformat": 4,
 "nbformat_minor": 5
}
